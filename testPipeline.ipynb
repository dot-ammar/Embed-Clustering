{
 "cells": [
  {
   "cell_type": "code",
   "execution_count": 274,
   "metadata": {},
   "outputs": [],
   "source": [
    "import wikipedia\n",
    "import pandas as pd\n",
    "from transformers import AutoTokenizer, TFAutoModelForMaskedLM\n",
    "import tensorflow as tf\n",
    "from datasets import Dataset\n",
    "import datasets\n",
    "from sklearn.cluster import DBSCAN\n",
    "import numpy as np\n",
    "from sklearn import metrics\n",
    "from sklearn.manifold import TSNE\n",
    "from sklearn.decomposition import PCA\n",
    "import matplotlib.pyplot as plt\n",
    "import plotly.express as px\n",
    "from kneed import KneeLocator\n",
    "from sklearn.metrics import silhouette_score\n",
    "\n",
    "from sklearn.neighbors import NearestNeighbors\n"
   ]
  },
  {
   "cell_type": "code",
   "execution_count": 118,
   "metadata": {},
   "outputs": [],
   "source": [
    "document = wikipedia.page(\"History of the United States\").content"
   ]
  },
  {
   "cell_type": "code",
   "execution_count": 239,
   "metadata": {},
   "outputs": [],
   "source": [
    "chunks = document.split('.')"
   ]
  },
  {
   "cell_type": "code",
   "execution_count": 240,
   "metadata": {},
   "outputs": [],
   "source": [
    "df = pd.DataFrame(chunks, columns=['Chunks'])"
   ]
  },
  {
   "cell_type": "code",
   "execution_count": 241,
   "metadata": {},
   "outputs": [
    {
     "data": {
      "text/html": [
       "<div>\n",
       "<style scoped>\n",
       "    .dataframe tbody tr th:only-of-type {\n",
       "        vertical-align: middle;\n",
       "    }\n",
       "\n",
       "    .dataframe tbody tr th {\n",
       "        vertical-align: top;\n",
       "    }\n",
       "\n",
       "    .dataframe thead th {\n",
       "        text-align: right;\n",
       "    }\n",
       "</style>\n",
       "<table border=\"1\" class=\"dataframe\">\n",
       "  <thead>\n",
       "    <tr style=\"text-align: right;\">\n",
       "      <th></th>\n",
       "      <th>Chunks</th>\n",
       "    </tr>\n",
       "  </thead>\n",
       "  <tbody>\n",
       "    <tr>\n",
       "      <th>0</th>\n",
       "      <td>The history of the lands that became the Unite...</td>\n",
       "    </tr>\n",
       "    <tr>\n",
       "      <th>1</th>\n",
       "      <td>Numerous indigenous cultures formed, and thei...</td>\n",
       "    </tr>\n",
       "    <tr>\n",
       "      <th>2</th>\n",
       "      <td>Starting in 1585, the British Empire colonize...</td>\n",
       "    </tr>\n",
       "    <tr>\n",
       "      <th>3</th>\n",
       "      <td>\\nThe Southern Colonies built an agricultural ...</td>\n",
       "    </tr>\n",
       "    <tr>\n",
       "      <th>4</th>\n",
       "      <td>After defeating France, the British Parliamen...</td>\n",
       "    </tr>\n",
       "    <tr>\n",
       "      <th>...</th>\n",
       "      <td>...</td>\n",
       "    </tr>\n",
       "    <tr>\n",
       "      <th>1312</th>\n",
       "      <td>National Endowment for the Humanities</td>\n",
       "    </tr>\n",
       "    <tr>\n",
       "      <th>1313</th>\n",
       "      <td>Archived from the original on August 26, 2013</td>\n",
       "    </tr>\n",
       "    <tr>\n",
       "      <th>1314</th>\n",
       "      <td>\\n\"The Gilder Lehrman Institute of American Hi...</td>\n",
       "    </tr>\n",
       "    <tr>\n",
       "      <th>1315</th>\n",
       "      <td>\\n\"BackStory\"</td>\n",
       "    </tr>\n",
       "    <tr>\n",
       "      <th>1316</th>\n",
       "      <td>, American history public radio show hosted by...</td>\n",
       "    </tr>\n",
       "  </tbody>\n",
       "</table>\n",
       "<p>1317 rows × 1 columns</p>\n",
       "</div>"
      ],
      "text/plain": [
       "                                                 Chunks\n",
       "0     The history of the lands that became the Unite...\n",
       "1      Numerous indigenous cultures formed, and thei...\n",
       "2      Starting in 1585, the British Empire colonize...\n",
       "3     \\nThe Southern Colonies built an agricultural ...\n",
       "4      After defeating France, the British Parliamen...\n",
       "...                                                 ...\n",
       "1312              National Endowment for the Humanities\n",
       "1313      Archived from the original on August 26, 2013\n",
       "1314  \\n\"The Gilder Lehrman Institute of American Hi...\n",
       "1315                                      \\n\"BackStory\"\n",
       "1316  , American history public radio show hosted by...\n",
       "\n",
       "[1317 rows x 1 columns]"
      ]
     },
     "metadata": {},
     "output_type": "display_data"
    }
   ],
   "source": [
    "display(df)"
   ]
  },
  {
   "cell_type": "code",
   "execution_count": 242,
   "metadata": {},
   "outputs": [],
   "source": [
    "dataset = Dataset.from_pandas(df)\n"
   ]
  },
  {
   "cell_type": "code",
   "execution_count": 243,
   "metadata": {},
   "outputs": [
    {
     "data": {
      "text/plain": [
       "Dataset({\n",
       "    features: ['Chunks'],\n",
       "    num_rows: 1317\n",
       "})"
      ]
     },
     "execution_count": 243,
     "metadata": {},
     "output_type": "execute_result"
    }
   ],
   "source": [
    "dataset"
   ]
  },
  {
   "cell_type": "code",
   "execution_count": 244,
   "metadata": {},
   "outputs": [
    {
     "name": "stderr",
     "output_type": "stream",
     "text": [
      "All PyTorch model weights were used when initializing TFBertForMaskedLM.\n",
      "\n",
      "All the weights of TFBertForMaskedLM were initialized from the PyTorch model.\n",
      "If your task is similar to the task the model of the checkpoint was trained on, you can already use TFBertForMaskedLM for predictions without further training.\n"
     ]
    }
   ],
   "source": [
    "tokenizer = AutoTokenizer.from_pretrained(\"google-bert/bert-base-uncased\")\n",
    "model = TFAutoModelForMaskedLM.from_pretrained(\"google-bert/bert-base-uncased\")"
   ]
  },
  {
   "cell_type": "code",
   "execution_count": 245,
   "metadata": {},
   "outputs": [
    {
     "name": "stdout",
     "output_type": "stream",
     "text": [
      "The history of the lands that became the United States began with the arrival of the first people in the Americas around 15,000 BC\n"
     ]
    }
   ],
   "source": [
    "text = df['Chunks'][0]\n",
    "print(text)"
   ]
  },
  {
   "cell_type": "code",
   "execution_count": 246,
   "metadata": {},
   "outputs": [
    {
     "data": {
      "text/plain": [
       "{'input_ids': <tf.Tensor: shape=(1, 28), dtype=int32, numpy=\n",
       "array([[  101,  1996,  2381,  1997,  1996,  4915,  2008,  2150,  1996,\n",
       "         2142,  2163,  2211,  2007,  1996,  5508,  1997,  1996,  2034,\n",
       "         2111,  1999,  1996, 10925,  2105,  2321,  1010,  2199,  4647,\n",
       "          102]], dtype=int32)>, 'token_type_ids': <tf.Tensor: shape=(1, 28), dtype=int32, numpy=\n",
       "array([[0, 0, 0, 0, 0, 0, 0, 0, 0, 0, 0, 0, 0, 0, 0, 0, 0, 0, 0, 0, 0, 0,\n",
       "        0, 0, 0, 0, 0, 0]], dtype=int32)>, 'attention_mask': <tf.Tensor: shape=(1, 28), dtype=int32, numpy=\n",
       "array([[1, 1, 1, 1, 1, 1, 1, 1, 1, 1, 1, 1, 1, 1, 1, 1, 1, 1, 1, 1, 1, 1,\n",
       "        1, 1, 1, 1, 1, 1]], dtype=int32)>}"
      ]
     },
     "execution_count": 246,
     "metadata": {},
     "output_type": "execute_result"
    }
   ],
   "source": [
    "inputs = tokenizer(text, return_tensors='tf')\n",
    "inputs"
   ]
  },
  {
   "cell_type": "code",
   "execution_count": 247,
   "metadata": {},
   "outputs": [
    {
     "data": {
      "text/plain": [
       "TensorShape([28, 768])"
      ]
     },
     "execution_count": 247,
     "metadata": {},
     "output_type": "execute_result"
    }
   ],
   "source": [
    "outputs = model(inputs, output_hidden_states=True)\n",
    "embeddings = outputs.hidden_states[-1][0]\n",
    "embeddings.shape\n",
    "\n"
   ]
  },
  {
   "cell_type": "code",
   "execution_count": 248,
   "metadata": {},
   "outputs": [
    {
     "data": {
      "text/plain": [
       "TensorShape([28])"
      ]
     },
     "execution_count": 248,
     "metadata": {},
     "output_type": "execute_result"
    }
   ],
   "source": [
    "tokens = inputs[\"input_ids\"][0]\n",
    "tokens.shape"
   ]
  },
  {
   "cell_type": "code",
   "execution_count": 249,
   "metadata": {},
   "outputs": [],
   "source": [
    "def embed(text):\n",
    "    inputs = tokenizer(text, return_tensors='tf')\n",
    "    outputs = model(inputs, output_hidden_states=True)\n",
    "    tokens = inputs[\"input_ids\"][0]\n",
    "    embeddings = outputs.hidden_states[-1][0]\n",
    "    print(tokens.shape, embeddings.shape)\n",
    "    return {'embed':embeddings}\n",
    "\n"
   ]
  },
  {
   "cell_type": "code",
   "execution_count": 250,
   "metadata": {},
   "outputs": [
    {
     "name": "stdout",
     "output_type": "stream",
     "text": [
      "(28,) (28, 768)\n"
     ]
    }
   ],
   "source": [
    "embeddings = embed(text)\n",
    "\n"
   ]
  },
  {
   "cell_type": "code",
   "execution_count": null,
   "metadata": {},
   "outputs": [],
   "source": [
    "embedded_dataset = dataset.map(lambda examples: embed(examples[\"Chunks\"]))"
   ]
  },
  {
   "cell_type": "code",
   "execution_count": null,
   "metadata": {},
   "outputs": [],
   "source": [
    "def average_embeddings(examples):\n",
    "    examples['averaged_embeddings'] = [np.mean(embedding, axis=0) for embedding in examples['embed']]\n",
    "    return examples\n",
    "\n",
    "embedded_dataset = embedded_dataset.map(average_embeddings, batched=True)\n"
   ]
  },
  {
   "cell_type": "code",
   "execution_count": 145,
   "metadata": {},
   "outputs": [
    {
     "data": {
      "application/vnd.jupyter.widget-view+json": {
       "model_id": "a90224ee8fe946b89631308d3782e788",
       "version_major": 2,
       "version_minor": 0
      },
      "text/plain": [
       "Saving the dataset (0/1 shards):   0%|          | 0/1317 [00:00<?, ? examples/s]"
      ]
     },
     "metadata": {},
     "output_type": "display_data"
    }
   ],
   "source": [
    "embedded_dataset.save_to_disk(\"embedded_dataset\")"
   ]
  },
  {
   "cell_type": "code",
   "execution_count": 251,
   "metadata": {},
   "outputs": [],
   "source": [
    "embedded_dataset = datasets.load_from_disk(\"embedded_dataset\")"
   ]
  },
  {
   "cell_type": "code",
   "execution_count": 252,
   "metadata": {},
   "outputs": [
    {
     "data": {
      "text/plain": [
       "Dataset({\n",
       "    features: ['Chunks', 'embed', 'averaged_embeddings'],\n",
       "    num_rows: 1317\n",
       "})"
      ]
     },
     "execution_count": 252,
     "metadata": {},
     "output_type": "execute_result"
    }
   ],
   "source": [
    "embedded_dataset"
   ]
  },
  {
   "cell_type": "code",
   "execution_count": 148,
   "metadata": {},
   "outputs": [
    {
     "data": {
      "text/plain": [
       "Dataset({\n",
       "    features: ['Chunks', 'embed', 'averaged_embeddings'],\n",
       "    num_rows: 1317\n",
       "})"
      ]
     },
     "execution_count": 148,
     "metadata": {},
     "output_type": "execute_result"
    }
   ],
   "source": [
    "embedded_dataset"
   ]
  },
  {
   "cell_type": "code",
   "execution_count": 149,
   "metadata": {},
   "outputs": [],
   "source": [
    "averaged_embeddings = np.array(embedded_dataset['averaged_embeddings'])\n"
   ]
  },
  {
   "cell_type": "code",
   "execution_count": 150,
   "metadata": {},
   "outputs": [
    {
     "data": {
      "text/plain": [
       "array([ 2.91933189e-01,  2.38935067e-01, -2.95549260e-01, -3.09530402e-02,\n",
       "        1.91675620e-01,  2.42365620e-01,  4.65356533e-01,  1.51655743e+00,\n",
       "        2.04904145e-01, -5.26787011e-01,  6.22632124e-01, -2.46293679e-01,\n",
       "       -6.23035505e-01,  7.76828167e-01, -4.15431642e-01, -5.13836176e-03,\n",
       "        9.56747069e-02,  1.25752284e-01, -1.94744045e-01,  8.27311824e-01,\n",
       "       -2.29377375e-01, -2.42147209e-01, -5.87919376e-02,  9.49582845e-01,\n",
       "        1.01443603e+00, -4.32749240e-01, -1.09183687e-01, -1.00247050e-01,\n",
       "        2.47775737e-03, -2.50279081e-01,  3.53006456e-01, -3.76418865e-01,\n",
       "       -5.53884736e-01, -6.98244903e-01,  5.62679666e-02,  1.79717851e-01,\n",
       "       -4.07017676e-01, -2.40618790e-01, -1.35182571e-01,  5.34231807e-01,\n",
       "       -1.12296935e+00, -2.09376201e-01,  5.64076782e-01,  1.63721398e-01,\n",
       "        1.14778718e-01,  3.50508316e-01,  5.37926793e-01,  5.93087370e-02,\n",
       "       -1.52678554e-02, -2.28004138e-01, -1.89466496e-01, -2.03146572e-01,\n",
       "       -4.41612639e-01,  6.05421480e-01,  1.73812427e-02,  1.04537700e+00,\n",
       "       -7.90585811e-02, -7.30486478e-01, -5.98025930e-01,  1.33826731e-01,\n",
       "        2.03275648e-01,  5.20932545e-01, -1.57705385e-01, -6.30713739e-01,\n",
       "        2.34759121e-01,  4.18486722e-01,  1.08203324e-01,  8.18575560e-01,\n",
       "       -1.37840794e-01, -3.46473380e-01, -5.33826219e-01, -1.42441198e-01,\n",
       "       -7.18717888e-02,  3.52917807e-01, -3.83460990e-01, -3.08903315e-02,\n",
       "       -8.43606490e-03,  2.63775669e-01, -1.24354510e-01, -7.72041302e-01,\n",
       "       -6.25093523e-01,  6.96708650e-01, -6.74964886e-02,  6.07322651e-01,\n",
       "        4.12571407e-01,  3.25193953e-01,  6.94011977e-03, -2.10661763e-01,\n",
       "       -6.61320198e-01,  8.78860212e-01,  9.47922335e-02, -3.05560459e-01,\n",
       "       -1.24458287e-01, -2.59861707e-01,  3.25350374e-01, -3.20241057e-01,\n",
       "       -3.90790997e-02,  3.59856320e-01, -2.19415200e-01,  6.11078714e-01,\n",
       "        2.33033466e-02, -2.24702240e-01,  2.04749629e-01,  3.03491406e-01,\n",
       "        3.98158932e-01, -9.65585226e-02,  3.69488810e-01,  2.92578386e-01,\n",
       "       -1.54639038e-01, -2.73404451e-01,  8.54772575e-01, -3.78767938e-01,\n",
       "       -4.02983634e-01,  4.43268635e-01, -1.52352845e-01,  6.11913733e-01,\n",
       "        2.00168745e-01, -7.59496897e-01,  5.11150382e-01,  3.12410770e-02,\n",
       "       -3.56418257e-01, -4.69007506e-01, -3.94539290e-01,  9.11961897e-01,\n",
       "       -9.13593088e-01,  1.51163407e-02,  1.10866367e-01, -4.62677699e-01,\n",
       "       -8.43977029e-02, -5.97628757e-01, -8.18141869e-02,  2.90367407e-01,\n",
       "        5.01254183e-01, -6.76885795e-01,  1.18434393e-01,  8.09438477e-01,\n",
       "        1.43184662e-01,  2.10154079e-02, -5.37909108e-01,  5.33862042e-01,\n",
       "       -3.51782291e-02, -6.67320204e-01,  4.51113985e-01,  1.09966615e-01,\n",
       "        3.14414136e-01, -6.83658021e-02,  7.46963685e-02, -3.94095345e-01,\n",
       "       -4.75999370e-01, -2.97426519e-01, -1.90758856e-01, -2.79681014e-01,\n",
       "        6.34806145e-01,  8.07098561e-02, -1.92780507e-01, -6.57628536e-01,\n",
       "       -4.42380982e-01,  5.56482611e-01, -2.40543856e-01,  2.00943148e-01,\n",
       "        4.12454977e-01, -6.37266298e-01,  6.36030547e-02,  1.97983950e-01,\n",
       "        1.06153199e-01,  6.70669318e-01,  6.42355488e-01,  6.25232314e-01,\n",
       "       -3.52745704e-01,  7.31815684e-01, -3.66337316e-01,  3.82229778e-02,\n",
       "        8.04432975e-01, -1.83937959e-01, -4.38058766e-01, -1.51593139e-01,\n",
       "       -4.73798846e-01,  5.71678097e-01,  1.63364969e-01,  5.25059558e-01,\n",
       "       -1.05872463e+00,  2.57786094e-01,  1.55621125e-01, -1.17762880e-01,\n",
       "        4.38387236e-01, -6.38079847e-01,  1.02690568e+00, -5.91655551e-01,\n",
       "       -5.04311622e-01, -1.90920510e-01,  1.96889927e-01, -3.94862286e-02,\n",
       "       -3.42055609e-01, -1.54747486e-01,  5.76978609e-01, -3.32537481e-01,\n",
       "       -1.32458021e-02, -5.90496172e-01, -3.64886163e-01,  2.29084370e-01,\n",
       "       -5.70823852e-02, -3.95890864e-01,  3.78316456e-01,  1.27683331e-01,\n",
       "       -3.70646010e-01, -4.64643604e-01,  5.41788087e-02, -1.04921987e-01,\n",
       "        5.06971462e-01, -6.92080445e-02, -4.45605555e-01,  6.53465341e-01,\n",
       "       -1.36776169e-01,  3.73434313e-01, -2.67549989e-01,  5.60670237e-02,\n",
       "        2.50209238e-01,  3.33421998e-01, -5.47169102e-01, -7.60409202e-01,\n",
       "       -3.67012623e-02, -8.64072667e-02, -4.54467388e-01,  6.89945272e-02,\n",
       "        6.26542173e-01,  1.28254025e+00,  2.93882460e-01, -3.06100780e-01,\n",
       "        5.45378095e-01,  2.15243910e-01,  1.46598851e-01, -5.71520057e-01,\n",
       "        1.14044596e+00,  1.93139956e-01, -3.97261006e-01, -4.16142984e-01,\n",
       "       -6.86753924e-01, -4.58511930e-03, -4.07512762e-01, -2.81021738e-01,\n",
       "       -1.96864773e-02, -2.46629141e-01, -3.48608870e-01, -5.32213976e-01,\n",
       "        1.10868390e-01, -2.15699355e-01,  2.44971404e-01,  1.72709133e-02,\n",
       "       -2.32780534e-02, -3.64119759e-01, -8.35521584e-01, -1.07341481e+00,\n",
       "        2.17207006e-01, -3.88983749e-01, -5.61709181e-01, -5.52159559e-01,\n",
       "       -7.61570163e-02, -3.54431915e-01,  2.43723551e-01, -4.99024290e-02,\n",
       "        4.87130253e-01,  2.68242160e-02,  1.12124611e-01,  5.52387800e-01,\n",
       "       -2.66996145e-01, -1.05126044e+00,  8.34446400e-03,  4.89051428e-01,\n",
       "       -1.91665026e-01, -1.99142649e-01,  3.03025003e-01, -4.36144027e-01,\n",
       "        2.51736687e-01,  4.05502179e-01,  6.50040083e-01, -4.40643542e-01,\n",
       "        1.79768161e-01, -2.77092688e-01, -1.03669072e-01,  1.36490034e-01,\n",
       "        1.03563671e-01,  7.16665127e-01, -5.80235600e-01, -3.02064799e-02,\n",
       "       -3.89148198e-01, -3.64783149e-01,  1.06115022e-01,  1.74459295e-01,\n",
       "       -1.29406000e-01, -4.02629067e-01, -1.48293500e-02, -3.63369847e-01,\n",
       "       -4.32312031e-01, -6.06558962e-01, -8.32130334e-04, -1.94943353e-01,\n",
       "        3.35435604e-01,  1.34724977e-01,  3.01824802e-01, -4.04766144e-01,\n",
       "       -6.74287573e-02, -1.73543072e-01, -4.09873302e-01,  3.57998425e-01,\n",
       "       -5.61729278e-01,  1.80334534e-01, -9.05777628e-02, -4.63013862e-01,\n",
       "       -1.99714060e+00,  2.67819757e-01, -1.26132441e-01, -5.54564515e-01,\n",
       "        4.14093225e-01,  1.18862504e-01,  3.69157802e-01, -3.11399919e-02,\n",
       "       -7.56372543e-01,  3.60682073e-02, -3.76750084e-01, -4.63185722e-01,\n",
       "        5.32324133e-02, -2.18817452e-01,  2.95877182e-01,  2.86767141e-01,\n",
       "        1.19065925e-01, -1.10856487e-01, -4.46970718e-01,  6.82710606e-01,\n",
       "        5.18950543e-02, -4.86809960e-01, -2.48277146e-01, -3.01909961e-02,\n",
       "        1.08501219e+00,  2.86427282e-01, -2.79337033e-01, -1.89880170e-01,\n",
       "       -3.52259197e-01,  2.53232853e-01,  2.00438104e-01, -7.71378162e-01,\n",
       "       -1.35968685e-01,  2.23549670e-02, -2.47605300e-01, -8.34783824e-02,\n",
       "        3.73505311e-01, -2.69018854e-01, -2.15298094e-01, -8.80585572e-01,\n",
       "       -1.38014557e-01, -5.29898062e-01, -1.37849699e-01, -1.59280624e-01,\n",
       "        1.71230955e+00, -4.51162167e-01,  1.18157679e-02, -4.40384819e-02,\n",
       "       -2.37163771e-01,  3.17917632e-01,  4.26620640e-01,  3.26706188e-01,\n",
       "       -2.73421243e-01, -3.66855120e-01, -1.51272445e-01, -8.86277721e-03,\n",
       "        5.50366575e-01,  6.15398983e-01,  8.27762417e-02, -3.73787896e-01,\n",
       "        7.75618308e-01, -2.69911874e-01, -4.35875714e-01, -5.40726934e-02,\n",
       "        4.53706634e-01, -8.45497405e-01, -8.59242784e-01,  1.02238097e-01,\n",
       "        9.71527132e-03,  3.41157704e-01,  3.56183996e-01,  3.34875618e-01,\n",
       "       -8.60979112e-01, -5.27147004e-01, -2.72832679e-01, -6.69675123e-01,\n",
       "        1.61331537e-01,  6.99761865e-02,  2.96310253e-01, -1.94349781e-02,\n",
       "        3.78707254e-01, -2.38866896e-01, -5.41426128e-01,  7.61932681e-02,\n",
       "       -9.01531995e-02, -1.63704835e-01,  1.74990384e-01,  3.41674548e-01,\n",
       "       -4.22890319e-01, -8.66044350e-01,  7.41343468e-01,  3.97761394e-01,\n",
       "        3.35048020e-02,  3.46167467e-01,  1.33673642e-01, -2.50045565e-01,\n",
       "        5.08314615e-02, -1.54175103e-01,  1.92394436e-01, -3.01371815e-01,\n",
       "       -4.47023667e-01,  1.91214143e-01,  1.89696077e-01, -3.46891490e-01,\n",
       "        7.39307914e-02, -2.41187099e-01, -4.31135426e-01, -9.48785982e-02,\n",
       "        2.29207690e-01,  9.52552487e-02,  2.35915498e-01, -7.25218778e-01,\n",
       "        6.03825575e-01, -6.27146632e-02, -3.33041559e-01,  1.79651144e-01,\n",
       "        3.79412756e-01,  5.43146767e-01,  1.91602627e-01,  9.07728454e-02,\n",
       "        9.99026072e-02,  9.41578585e-01, -5.08595428e-01, -1.06642971e-01,\n",
       "        2.17397704e-01,  1.40506754e-03,  7.83592278e-02, -1.10608930e-01,\n",
       "        1.67218286e-01, -1.68310833e-01, -6.04507861e-01, -6.42534694e-01,\n",
       "        1.76107203e-01,  5.24838527e-01, -1.63527167e-01,  7.11746332e-01,\n",
       "       -5.77305131e-02, -1.19819738e+00, -2.97067088e-01,  2.57544202e-01,\n",
       "        3.32103155e-01, -3.00845241e-01, -3.29105050e-01, -2.24277011e-01,\n",
       "       -1.20692632e-02,  4.26100463e-01,  9.23463924e-02, -5.24299083e-01,\n",
       "       -2.58671796e-01, -1.66309262e-01, -3.61299989e-01, -3.40332470e-01,\n",
       "       -8.56937262e-02, -4.51294278e-02,  2.10898854e-02, -4.18503939e-02,\n",
       "        4.36525094e-01, -8.40138818e-02, -2.07187997e-01, -6.62803675e-01,\n",
       "        4.45733545e-02,  3.81841177e-01,  5.37718740e-01,  4.32765789e-01,\n",
       "       -2.98751302e-01, -3.23583976e-02, -1.10929755e-01, -2.50239774e-01,\n",
       "        1.67765534e-01, -1.66373119e-01,  3.40149546e-01, -1.31281851e-01,\n",
       "       -5.59187621e-03, -1.97357355e-01,  1.05210657e-01,  1.67754872e-01,\n",
       "        2.72071825e-01,  2.26861465e-01, -3.00530614e-01, -9.09656373e-02,\n",
       "        9.50031589e-02, -1.16520921e-02, -5.28078655e-01, -4.72644717e-01,\n",
       "       -3.15742527e-01, -4.71717621e-02,  1.71672362e-01, -1.87036404e-01,\n",
       "       -1.81454562e-02,  3.85819947e-01, -1.01287490e-01,  7.14056247e-01,\n",
       "       -9.45815230e-01, -3.03259602e-01, -7.36327347e-01, -2.19386102e-01,\n",
       "        2.56979720e-02, -2.55501611e-02, -3.34014132e-02,  2.44631952e-01,\n",
       "        7.16341088e-01, -1.76147474e-01, -1.05511358e-01, -2.67007164e-01,\n",
       "        9.00547953e-02, -1.69636157e-01,  1.99257869e-01,  3.12702324e-01,\n",
       "       -3.21174699e-01,  5.88748869e-01, -1.75669473e-01,  1.73035179e-01,\n",
       "       -1.59424321e-01,  3.45682474e-02,  2.56161979e-01, -1.57556649e-01,\n",
       "        4.10450867e-01, -1.82542559e-01,  6.16469354e-04,  2.45696180e-01,\n",
       "       -4.40350657e-01, -1.83217518e-02, -9.30118595e-02,  1.89197220e-01,\n",
       "       -4.73797534e-01, -8.85899509e-02, -4.68654695e-01,  2.19017236e-01,\n",
       "       -8.02799532e-01, -7.56948063e-01,  1.55170605e-01, -5.05563829e-01,\n",
       "       -7.38089281e-02, -2.70691900e-01,  9.13611638e-02,  7.21712863e-01,\n",
       "        3.77760059e-01, -3.88062512e-01,  3.56547338e-01,  1.91903740e-01,\n",
       "        1.71332593e-01,  1.22723137e-01,  5.16571266e-01, -4.41478810e-01,\n",
       "       -2.94151768e-01, -1.38567545e-01, -2.69751285e-02,  6.58936334e-01,\n",
       "       -2.82258185e-01, -9.16930909e-02,  2.98191079e-02, -3.05675338e-01,\n",
       "       -2.34909335e-01, -3.59051036e-01,  1.52705763e-02, -3.77206525e-01,\n",
       "       -7.25418083e-02,  3.71866020e-02, -3.03354279e-01, -3.11151328e-01,\n",
       "        8.18645675e-02, -2.88025685e-01, -2.40640556e-01, -1.78430837e-02,\n",
       "        2.20490091e-02, -5.12442532e-01, -2.38669023e-01,  6.18405657e-01,\n",
       "        5.05715814e-01, -1.47673193e-01, -3.18464145e-03, -6.62916583e-02,\n",
       "       -2.91256742e-01, -2.87854024e-01,  2.36876180e-01,  1.04028646e-01,\n",
       "        3.84722212e-01, -2.67698977e-01,  4.20938507e-01, -6.78885352e-01,\n",
       "       -8.05278263e-01,  1.22574143e-01,  9.37364120e-02, -1.37827798e-01,\n",
       "        2.97978627e-01, -2.48245572e-01, -1.03916021e-01,  4.21224559e-01,\n",
       "       -5.08830400e-02,  3.09707703e-03,  8.50347367e-02, -1.61485391e-02,\n",
       "        6.75887518e-03,  4.68470465e-01,  2.06450402e-01, -2.26641738e-01,\n",
       "        5.68051028e-01,  2.00835974e-01,  2.75420008e-01,  4.33642818e-01,\n",
       "       -5.43731493e-01,  5.85477807e-01,  4.83654729e-01, -7.75703272e-02,\n",
       "       -3.07059320e-01,  6.25565746e-02,  4.06815302e-01, -3.35187924e-02,\n",
       "        4.27332222e-01,  2.82661975e-01, -5.27301020e-01, -2.71049644e-01,\n",
       "        3.94778036e-01,  6.99934557e-01, -6.34487294e-01, -5.72960961e-01,\n",
       "        1.34848328e-01, -4.59899678e-01, -2.37467020e-03,  1.16233147e-01,\n",
       "       -1.83349349e-01,  1.40144876e-01,  4.57594940e-01,  4.34293242e-02,\n",
       "        7.17293919e-01,  6.90427176e-01, -4.45525623e-01, -1.36362226e-01,\n",
       "       -2.91034233e-01,  1.72744387e-01,  1.78019123e-01,  1.03467345e-01,\n",
       "       -4.49230491e-01,  4.04063705e-01, -3.81083657e-01, -4.31212712e-01,\n",
       "       -4.03311930e-01,  6.05131999e-01,  3.64856269e-01,  3.26759000e-01,\n",
       "        9.94620895e-02,  2.21608147e-01,  1.34153561e-01,  1.16645624e-01,\n",
       "        1.58218413e-01,  4.04877550e-01,  1.02641159e-01,  2.07784842e-01,\n",
       "        1.06122768e+00, -2.74096416e-02,  3.85728313e-01,  2.66264913e-01,\n",
       "        2.73653879e-01, -2.63702702e-01,  2.10806070e-01,  9.93857666e-02,\n",
       "        6.11180955e-01,  2.81538458e-01,  3.27785285e-01,  5.93264805e-01,\n",
       "        2.02536985e-01, -7.71490477e-02,  8.79939196e-01, -7.22047354e-01,\n",
       "        9.77402937e-02,  2.11511244e-01, -4.58906656e-01, -4.24336906e-01,\n",
       "        1.06054383e-01, -2.40857043e-01,  3.95278242e-01,  5.65953200e-01,\n",
       "       -6.55036273e-02, -1.41614066e-01, -6.37244429e-01,  5.70116718e-01,\n",
       "       -3.20416407e-02,  1.45192476e-01, -2.29445390e-02, -6.92775221e-01,\n",
       "       -4.03625059e-01, -6.82075292e-01, -2.88920847e-01,  4.43517270e-02,\n",
       "       -7.22142142e-02, -5.49116637e-01, -4.95808804e-02,  1.90781918e-01,\n",
       "        4.30354194e-01, -3.77728615e-01, -2.03594945e-02, -3.57561834e-01,\n",
       "        4.17618845e-01, -3.56270102e-01,  1.06354016e-01, -3.41966754e-01,\n",
       "        6.25887658e-01, -1.13331578e-01,  5.09309809e-01, -1.19868356e-01,\n",
       "        3.19381312e-01, -2.52231154e-01, -4.33431541e-01,  6.20175325e-02,\n",
       "        6.11784307e-02,  6.48103186e-01,  7.71101212e-03,  3.71457576e-01,\n",
       "        4.50962885e-01, -2.37651664e-01,  1.97743401e-01,  3.38123643e-01,\n",
       "       -8.42543021e-01,  3.61687044e-01, -2.16203225e-01, -1.24036449e-01,\n",
       "        1.36007376e-01,  4.21173509e-01,  1.75456987e-01,  1.96592512e-02,\n",
       "       -4.98638153e-01, -3.87459936e-01, -6.42209655e-01, -1.80223043e-01,\n",
       "       -4.94984599e-01, -2.33669465e-01,  3.24001161e-01,  6.02208590e-01,\n",
       "       -1.44188685e-01,  5.76239890e-01,  7.86321972e-02,  2.02414582e-01,\n",
       "        1.53537429e-01, -2.96324649e-01,  2.42234139e-01, -5.55341457e-01,\n",
       "       -1.60847012e-01,  3.67819476e-01, -7.41513191e-01, -1.68326759e-01,\n",
       "        7.86034524e-01,  2.50293730e-01,  8.84889195e-02,  1.62353809e-01,\n",
       "        4.35029578e-01, -6.49045863e-01, -5.14496578e-01, -4.55044524e-01,\n",
       "       -9.29030700e-02, -7.54874454e-02,  2.81457068e-01, -4.58166263e-01,\n",
       "       -2.45945364e-01, -1.87559412e-01, -2.52886620e-01, -4.19942795e-01,\n",
       "        3.34212845e-01, -7.94563083e-01,  6.05643446e-02,  2.59611902e-01])"
      ]
     },
     "execution_count": 150,
     "metadata": {},
     "output_type": "execute_result"
    }
   ],
   "source": [
    "averaged_embeddings[0]"
   ]
  },
  {
   "cell_type": "code",
   "execution_count": 208,
   "metadata": {},
   "outputs": [],
   "source": [
    "tsne = TSNE(n_components=2)\n",
    "reduced_embeddings = tsne.fit_transform(averaged_embeddings)\n"
   ]
  },
  {
   "cell_type": "code",
   "execution_count": 271,
   "metadata": {},
   "outputs": [
    {
     "data": {
      "image/png": "[encoded data removed]",
      "text/plain": [
       "<Figure size 640x480 with 1 Axes>"
      ]
     },
     "metadata": {},
     "output_type": "display_data"
    },
    {
     "name": "stdout",
     "output_type": "stream",
     "text": [
      "Optimal eps value: 1.8754749448624575\n"
     ]
    }
   ],
   "source": [
    "k = 2\n",
    "neigh = NearestNeighbors(n_neighbors=k)\n",
    "nbrs = neigh.fit(reduced_embeddings)\n",
    "distances, indices = nbrs.kneighbors(reduced_embeddings)\n",
    "\n",
    "distances = np.sort(distances[:, k-1], axis=0)\n",
    "plt.plot(distances)\n",
    "plt.xlabel('Points sorted by distance')\n",
    "plt.ylabel('k-distance')\n",
    "plt.title('k-distance graph to determine eps')\n",
    "plt.show()\n",
    "\n",
    "kneedle = KneeLocator(range(len(distances)), distances, S=1.0, curve='convex', direction='increasing')\n",
    "optimal_eps = distances[kneedle.elbow]\n",
    "\n",
    "print(f'Optimal eps value: {optimal_eps}')"
   ]
  },
  {
   "cell_type": "code",
   "execution_count": 277,
   "metadata": {},
   "outputs": [
    {
     "name": "stdout",
     "output_type": "stream",
     "text": [
      "Best min_samples value: 2, Best Silhouette Score: -1\n"
     ]
    }
   ],
   "source": [
    "min_samples_range = range(2, 50, 2)  # Adjust the range as needed\n",
    "best_min_samples = 2\n",
    "best_silhouette_score = -1\n",
    "best_labels = None\n",
    "\n",
    "for min_samples in min_samples_range:\n",
    "    dbscan_model = DBSCAN(eps=optimal_eps, min_samples=min_samples, metric='cosine')\n",
    "    labels = dbscan_model.fit_predict(reduced_embeddings)\n",
    "    \n",
    "    # Ignore noise points for silhouette score calculation\n",
    "    if len(set(labels)) > 1 and len(set(labels)) < len(reduced_embeddings):\n",
    "        score = silhouette_score(reduced_embeddings, labels)\n",
    "        print(f'min_samples: {min_samples}, Silhouette Score: {score}')\n",
    "        if score > best_silhouette_score:\n",
    "            best_silhouette_score = score\n",
    "            best_min_samples = min_samples\n",
    "            best_labels = labels\n",
    "\n",
    "print(f'Best min_samples value: {best_min_samples}, Best Silhouette Score: {best_silhouette_score}')"
   ]
  },
  {
   "cell_type": "code",
   "execution_count": 279,
   "metadata": {},
   "outputs": [
    {
     "name": "stdout",
     "output_type": "stream",
     "text": [
      "Estimated number of clusters: 81\n",
      "Estimated number of noise points: 22\n"
     ]
    },
    {
     "data": {
      "text/plain": [
       "Dataset({\n",
       "    features: ['Chunks', 'embed', 'averaged_embeddings', 'cluster'],\n",
       "    num_rows: 1317\n",
       "})"
      ]
     },
     "execution_count": 279,
     "metadata": {},
     "output_type": "execute_result"
    }
   ],
   "source": [
    "db = DBSCAN(eps=optimal_eps, min_samples=2).fit(reduced_embeddings)\n",
    "labels = db.labels_\n",
    "\n",
    "n_clusters_ = len(set(labels)) - (1 if -1 in labels else 0)\n",
    "n_noise_ = list(labels).count(-1)\n",
    "\n",
    "print(\"Estimated number of clusters: %d\" % n_clusters_)\n",
    "print(\"Estimated number of noise points: %d\" % n_noise_)\n",
    "\n",
    "clustered_dataset = embedded_dataset.add_column('cluster', labels)\n",
    "clustered_dataset"
   ]
  },
  {
   "cell_type": "code",
   "execution_count": 298,
   "metadata": {},
   "outputs": [
    {
     "data": {
      "application/vnd.plotly.v1+json": {
       "config": {
        "plotlyServerURL": "https://plot.ly"
       },
       "data": [
        {
         "customdata": [
          [
           "The history of the lands that became the United States began with the arrival of the first people in the Americas around 15,000 BC"
          ],
          [
           " Numerous indigenous cultures formed, and their societies were reorganized after the European colonization of North America in the late 15th century"
          ],
          [
           " Starting in 1585, the British Empire colonized the Atlantic Coast, and by the 1760s, the thirteen British colonies were established"
          ],
          [
           "\nThe Southern Colonies built an agricultural system on slave labor, enslaving millions from Africa for this purpose"
          ],
          [
           " After defeating France, the British Parliament imposed a series of taxes, including the Stamp Act of 1765, rejecting the colonists' constitutional argument that new taxes needed their approval"
          ],
          [
           " Resistance to these taxes, especially the Boston Tea Party in 1773, led to Parliament issuing the Intolerable Acts designed to end self-government"
          ],
          [
           " Armed conflict began in Massachusetts in 1775"
          ],
          [
           "\nIn 1776, in Philadelphia, the Second Continental Congress declared the independence of the colonies as the \"United States of America\""
          ],
          [
           " Led by General George Washington, it won the Revolutionary War in 1783"
          ],
          [
           " The Treaty of Paris established the borders of the new sovereign state"
          ],
          [
           " The Articles of Confederation, while establishing a central government, was ineffectual at providing stability"
          ],
          [
           " A convention wrote a new Constitution that was adopted in 1789, and a Bill of Rights was added in 1791 to guarantee inalienable rights"
          ],
          [
           " Washington, the first president, and his adviser Alexander Hamilton created a strong central government"
          ],
          [
           " The Louisiana Purchase in 1803 doubled the size of the country"
          ],
          [
           "\nEncouraged by available, inexpensive land and the notion of manifest destiny, the country expanded to the Pacific Coast"
          ],
          [
           " The resulting expansion of slavery was increasingly controversial, and fueled political and constitutional battles which were resolved by compromises"
          ],
          [
           " Slavery was abolished in all states north of the Mason–Dixon line by 1804, but it continued in southern states to support their agricultural economy"
          ],
          [
           " After the election of Abraham Lincoln as president in 1860, the southern states seceded from the Union to form the pro-slavery Confederate States of America, and started the Civil War"
          ],
          [
           " The Confederates' defeat in 1865 led to the abolition of slavery"
          ],
          [
           "\nIn the subsequent Reconstruction era, legal and voting rights were extended to freed male slaves"
          ],
          [
           " The national government emerged much stronger, and gained explicit duty to protect individual rights"
          ],
          [
           " White southern Democrats regained their political power in the South in 1877, often using paramilitary suppression of voting and Jim Crow laws to maintain white supremacy, as well as new state constitutions that legalized racial discrimination and prevented most African Americans from participating in public life"
          ],
          [
           "\nThe United States became the world's leading industrial power in the 20th century, due to entrepreneurship, industrialization, and the arrival of millions of immigrant workers and farmers"
          ],
          [
           " A national railroad network was completed, and large-scale mines and factories were established"
          ],
          [
           " Dissatisfaction with corruption, inefficiency, and traditional politics stimulated the Progressive movement, leading to reforms including the federal income tax, direct election of Senators, citizenship for many indigenous people, alcohol prohibition, and women's suffrage"
          ],
          [
           " Initially neutral during World War I, the United States declared war on Germany in 1917, joining the successful Allies"
          ],
          [
           "\nAfter the prosperous Roaring Twenties, the Wall Street Crash of 1929 marked the onset of the decade-long worldwide Great Depression"
          ],
          [
           " President Franklin D"
          ],
          [
           " Roosevelt's New Deal programs, including unemployment relief and social security, defined modern American liberalism"
          ],
          [
           " Following the Japanese attack on Pearl Harbor, the United States entered World War II and financed the Allied war effort, helping defeat Nazi Germany and Fascist Italy in the European theater"
          ],
          [
           " In the Pacific War, America defeated Imperial Japan after using nuclear weapons on Hiroshima and Nagasaki"
          ],
          [
           "\nThe United States and the Soviet Union emerged as rival superpowers in the aftermath of World War II"
          ],
          [
           " During the Cold War, the two countries confronted each other indirectly in the arms race, the Space Race, propaganda campaigns, and proxy wars"
          ],
          [
           " In the 1960s, in large part due to the civil rights movement, social reforms enforced the constitutional rights of voting and freedom of movement to African Americans"
          ],
          [
           " In the 1980s, Ronald Reagan's presidency realigned American politics towards reductions in taxes and regulations"
          ],
          [
           "\nThe Cold War ended when the Soviet Union was dissolved in 1991, leaving the United States as the world's sole superpower"
          ],
          [
           " Foreign policy after the Cold War has often focused on many conflicts in the Middle East, especially after the September 11 attacks"
          ],
          [
           " In the 21st century, the country was negatively affected by the Great Recession and the COVID-19 pandemic"
          ],
          [
           "\n\n\n== Indigenous inhabitants ==\n\nIt is not definitively known how or when Native Americans first settled the Americas and the present-day United States"
          ],
          [
           " The prevailing theory proposes that people from Eurasia followed game across Beringia, a land bridge that connected Siberia to present-day Alaska during the Ice Age, and then spread southward throughout the Americas"
          ],
          [
           " This migration may have begun as early as 30,000 years ago and continued through to about 10,000 years ago, when the land bridge became submerged by the rising sea level caused by the melting glaciers"
          ],
          [
           " These early inhabitants, called Paleo-Indians, soon diversified into hundreds of culturally distinct settlements and countries"
          ],
          [
           "\nThis pre-Columbian era incorporates all periods in the history of the Americas before the appearance of European influences on the American continents, spanning from the original settlement in the Upper Paleolithic period to European colonization during the early modern period"
          ],
          [
           " While the term technically refers to the era before Christopher Columbus' voyage in 1492, in practice the term usually includes the history of American indigenous cultures until they were conquered or significantly influenced by Europeans, even if this happened decades or centuries after Columbus's initial landing"
          ],
          [
           "\n\n\n=== Paleo-Indians ===\n\nBy 10,000 BCE, humans were relatively well-established throughout North America"
          ],
          [
           " Originally, Paleo-Indians hunted Ice Age megafauna like mammoths, but as they began to go extinct, people turned instead to bison as a food source"
          ],
          [
           " As time went on, foraging for berries and seeds became an important alternative to hunting"
          ],
          [
           " Paleo-Indians in central Mexico were the first in the Americas to farm, starting to plant corn, beans, and squash around 8,000 BCE"
          ],
          [
           " Eventually, the knowledge began to spread northward"
          ],
          [
           " By 3,000 BCE, corn was being grown in the valleys of Arizona and New Mexico, followed by primitive irrigation systems and early villages of the Hohokam"
          ],
          [
           "\nOne of the earlier cultures in the present-day United States was the Clovis culture, who are primarily identified by the use of fluted spear points called the Clovis point"
          ],
          [
           " From 9,100 to 8,850 BCE, the culture ranged over much of North America and also appeared in South America"
          ],
          [
           " Artifacts from this culture were first excavated in 1932 near Clovis, New Mexico"
          ],
          [
           " The Folsom culture was similar, but is marked by the use of the Folsom point"
          ],
          [
           "\nA later migration identified by linguists, anthropologists, and archeologists occurred around 8,000 BCE"
          ],
          [
           " This included Na-Dene-speaking peoples, who reached the Pacific Northwest by 5,000 BCE"
          ],
          [
           " From there, they migrated along the Pacific Coast and into the interior and constructed large multi-family dwellings in their villages, which were used only seasonally in the summer to hunt and fish, and in the winter to gather food supplies"
          ],
          [
           " Another group, the Oshara tradition people, who lived from 5,500 BCE to 600 CE, were part of the Archaic Southwest"
          ],
          [
           "\n\n\n=== Mound builders and pueblos ===\n\nThe Adena began constructing large earthwork mounds around 600 BCE"
          ],
          [
           " They are the earliest known people to have been Mound Builders, however, there are mounds in the United States that predate this culture"
          ],
          [
           " Watson Brake is an 11-mound complex in Louisiana that dates to 3,500 BCE, and nearby Poverty Point, built by the Poverty Point culture, is an earthwork complex that dates to 1,700 BCE"
          ],
          [
           " These mounds likely served a religious purpose"
          ],
          [
           "\nThe Adenans were absorbed into the Hopewell tradition, a powerful people who traded tools and goods across a wide territory"
          ],
          [
           " They continued the Adena tradition of mound-building, with remnants of several thousand still in existence across the core of their former territory in southern Ohio"
          ],
          [
           " The Hopewell pioneered a trading system called the Hopewell Exchange System, which at its greatest extent ran from the present-day Southeast up to the Canadian side of Lake Ontario"
          ],
          [
           " By 500 CE, the Hopewellians had too disappeared, absorbed into the larger Mississippian culture"
          ],
          [
           "\nThe Mississippians were a broad group of tribes"
          ],
          [
           " Their most important city was Cahokia, near modern-day St"
          ],
          [
           " Louis, Missouri"
          ],
          [
           " At its peak in the 12th century, the city had an estimated population of 20,000, larger than the population of London at the time"
          ],
          [
           " The entire city was centered around a mound that stood 100 feet (30 m) tall"
          ],
          [
           " Cahokia, like many other cities and villages of the time, depended on hunting, foraging, trading, and agriculture, and developed a class system with slaves and human sacrifice that was influenced by societies to the south, like the Mayans"
          ],
          [
           "\nIn the Southwest, the Anasazi began constructing stone and adobe pueblos around 900 BCE"
          ],
          [
           " These apartment-like structures were often built into cliff faces, as seen in the Cliff Palace at Mesa Verde"
          ],
          [
           " Some grew to be the size of cities, with Pueblo Bonito along the Chaco River in New Mexico once consisting of 800 rooms"
          ],
          [
           "\n\n\n=== Northwest and northeast ===\n\nThe indigenous peoples of the Pacific Northwest were likely the most affluent Native Americans"
          ],
          [
           " Many distinct cultural groups and political entities developed there, but they all shared certain beliefs, traditions, and practices, such as the centrality of salmon as a resource and spiritual symbol"
          ],
          [
           " Permanent villages began to develop in this region as early as 1,000 BCE, and these communities celebrated by the gift-giving feast of the potlatch"
          ],
          [
           " These gatherings were usually organized to commemorate special events such as the raising of a Totem pole or the celebration of a new chief"
          ],
          [
           "\nIn present-day upstate New York, the Iroquois formed a confederacy of tribal peoples in the mid-15th century, consisting of the Oneida, Mohawk, Onondaga, Cayuga, and Seneca"
          ],
          [
           " Their system of affiliation was a kind of federation, different from the strong, centralized European monarchies"
          ],
          [
           " Each tribe had seats in a group of 50 sachem chiefs"
          ],
          [
           " It has been suggested that their culture contributed to political thinking during the development of the United States government"
          ],
          [
           " The Iroquois were powerful, waging war with many neighboring tribes, and later, Europeans"
          ],
          [
           " As their territory expanded, smaller tribes were forced further west, including the Osage, Kaw, Ponca, and Omaha peoples"
          ],
          [
           "\n\n\n=== Native Hawaiians ===\n\nThe exact date for the settling of Hawaii is disputed but the first settlement most likely took place between 940 and 1130 CE"
          ],
          [
           " Around 1200 CE, Tahitian explorers found and began settling the area as well establishing a new caste system"
          ],
          [
           " This marked the rise of the Hawaiian civilization, which would be largely separated from the rest of the world until the arrival of the British 600 years later"
          ],
          [
           " Europeans under the British explorer James Cook arrived in the Hawaiian Islands in 1778, and within five years of contact, European military technology would help Kamehameha I conquer most of the island group, and eventually unify the islands for the first time; establishing the Hawaiian Kingdom"
          ],
          [
           "\n\n\n=== Puerto Rico ===\n\nThe island of Puerto Rico has been settled for at least 4,000 years dating back to the remains of Puerto Ferro man"
          ],
          [
           " Starting with the Ortoiroid culture, successive generations of native migrations arrived replacing or absorbing local populations"
          ],
          [
           " By the year 1000 Arawak people had arrived from South America via the Lesser Antilles, these settlers would become the Taíno encountered by the Spanish in 1493"
          ],
          [
           " Upon European contact a native population between 30,000 and 60,000 was likely, led by a single chief called a Cacique"
          ],
          [
           " Colonization resulted in the decimation of the local inhabitants due to the harsh Encomienda system and epidemics caused by Old World diseases"
          ],
          [
           " Puerto Rico would remain a part of Spain until American annexation in 1898"
          ],
          [
           "\n\n\n== European colonization (1075–1754) ==\n\n\n=== Norse exploration ===\n\nThe earliest recorded European mention of America is in a historical treatise by the medieval chronicler Adam of Bremen, circa 1075, where it is referred to as Vinland"
          ],
          [
           " It is also extensively referred to in the 13th-century Norse Vinland sagas, which relate to events which occurred around 1000"
          ],
          [
           " Whilst the strongest archaeological evidence of the existence of Norse settlements in America is located in Canada, most notably at L'Anse aux Meadows and dated to circa 1000, there is significant scholarly debate as to whether Norse explorers also made landfall in New England and other east-coast areas"
          ],
          [
           " In 1925, President Calvin Coolidge declared that a Norse explorer called Leif Erikson (c"
          ],
          [
           " 970 – c"
          ],
          [
           " 1020) was the first European to discover America"
          ],
          [
           "\n\n\n=== Early settlements ===\n\nThe Spaniards then rediscovered America in 1492"
          ],
          [
           " After a period of exploration sponsored by major European states, the first successful English settlement was established in 1607"
          ],
          [
           " Europeans brought horses, cattle, and hogs to the Americas and, in turn, took back maize, turkeys, tomatoes, potatoes, tobacco, beans, and squash to Europe"
          ],
          [
           " Many explorers and early settlers died after being exposed to new diseases in the Americas"
          ],
          [
           " However, the effects of new Eurasian diseases carried by the colonists, especially smallpox and measles, were much worse for the Native Americans, as they had no immunity to them"
          ],
          [
           " They suffered epidemics and died in very large numbers, usually before large-scale European settlement began"
          ],
          [
           " Their societies were disrupted and hollowed out by the scale of deaths"
          ],
          [
           "\n\n\n==== Spanish contact ====\n\nSpanish explorers were the first Europeans, after the Norse, to reach the present-day United States, after Christopher Columbus's expeditions (beginning in 1492) established possessions in the Caribbean, including the modern-day U"
          ],
          [
           "S"
          ],
          [
           " territories of Puerto Rico, and parts of the U"
          ],
          [
           "S"
          ],
          [
           " Virgin Islands"
          ],
          [
           " Juan Ponce de León landed in Florida in 1513"
          ],
          [
           " Spanish expeditions quickly reached the Appalachian Mountains, the Mississippi River, the Grand Canyon, and the Great Plains"
          ],
          [
           "\n\nIn 1539, Hernando de Soto extensively explored the Southeast, and a year later Francisco Coronado explored from Arizona to central Kansas in search of gold"
          ],
          [
           " Escaped horses from Coronado's party spread over the Great Plains, and the Plains Indians mastered horsemanship within a few generations"
          ],
          [
           " Small Spanish settlements eventually grew to become important cities, such as San Antonio, Albuquerque, Tucson, Los Angeles, and San Francisco"
          ],
          [
           "\n\n\n==== Dutch mid-Atlantic ====\n\nThe Dutch East India Company sent explorer Henry Hudson to search for a Northwest Passage to Asia in 1609"
          ],
          [
           " New Netherland was established in 1621 by the company to capitalize on the North American fur trade"
          ],
          [
           " Growth was slow at first due to mismanagement by the Dutch and Native American conflicts"
          ],
          [
           " After the Dutch purchased the island of Manhattan from the Native Americans for a reported price of US$24, the land was named New Amsterdam and became the capital of New Netherland"
          ],
          [
           " The town rapidly expanded and in the mid-1600s it became an important trading center and port"
          ],
          [
           " Despite being Calvinists and building the Reformed Church in America, the Dutch were tolerant of other religions and cultures and traded with the Iroquois to the north"
          ],
          [
           "\nThe colony served as a barrier to British expansion from New England, and as a result a series of wars were fought"
          ],
          [
           " The colony was taken over by Britain as New York in 1664 and its capital was renamed New York City"
          ],
          [
           " New Netherland left an enduring legacy on American cultural and political life of religious tolerance and sensible trade in urban areas and rural traditionalism in the countryside (typified by the story of Rip Van Winkle)"
          ],
          [
           " Notable Americans of Dutch descent include Martin Van Buren, Theodore Roosevelt, Franklin D"
          ],
          [
           " Roosevelt, Eleanor Roosevelt and the Frelinghuysens"
          ],
          [
           "\n\n\n==== Swedish settlement ====\n\nIn the early years of the Swedish Empire, Swedish, Dutch, and German stockholders formed the New Sweden Company to trade furs and tobacco in North America"
          ],
          [
           " The company's first expedition was led by Peter Minuit, who had been governor of New Netherland from 1626 to 1631 but left after a dispute with the Dutch government, and landed in Delaware Bay in March 1638"
          ],
          [
           " The settlers founded Fort Christina at the site of modern-day Wilmington, Delaware, and made treaties with the indigenous groups for land ownership on both sides of the Delaware River"
          ],
          [
           "\nOver the following seventeen years, 12 more expeditions brought settlers from the Swedish Empire (which also included contemporary Finland, Estonia, and portions of Latvia, Norway, Russia, Poland, and Germany) to New Sweden"
          ],
          [
           " The colony established 19 permanent settlements along with many farms, extending into modern-day Maryland, Pennsylvania, and New Jersey"
          ],
          [
           " It was incorporated into New Netherland in 1655 after a Dutch invasion from the neighboring New Netherland colony during the Second Northern War"
          ],
          [
           "\n\n\n==== French and Spanish ====\n\nGiovanni da Verrazzano landed in North Carolina in 1524, and was the first European to sail into New York Harbor and Narragansett Bay"
          ],
          [
           " In the 1540s, French Huguenots settled at Fort Caroline near present-day Jacksonville in Florida"
          ],
          [
           " In 1565, Spanish forces led by Pedro Menéndez destroyed the settlement and established the first Spanish settlement in what would become the United States — St"
          ],
          [
           " Augustine"
          ],
          [
           "\nMost French lived in Quebec and Acadia (modern Canada), but far-reaching trade relationships with Native Americans throughout the Great Lakes and Midwest spread their influence"
          ],
          [
           " French colonists in small villages along the Mississippi and Illinois rivers lived in farming communities that served as a grain source for Gulf Coast settlements"
          ],
          [
           " The French established plantations in Louisiana along with settling New Orleans, Mobile and Biloxi"
          ],
          [
           "\n\n\n=== British colonies ===\n\nThe English, drawn in by Francis Drake's raids on Spanish treasure ships leaving the New World, settled the strip of land along the east coast in the 1600s"
          ],
          [
           " The first British colony in North America was established at Roanoke by Walter Raleigh in 1585, but failed"
          ],
          [
           " It would be twenty years before another attempt"
          ],
          [
           "\nThe early British colonies were established by private groups seeking profit, and were marked by starvation, disease, and Native American attacks"
          ],
          [
           " Many immigrants were people seeking religious freedom or escaping political oppression, peasants displaced by the Industrial Revolution, or those simply seeking adventure and opportunity"
          ],
          [
           " Between the late 1610s and the Revolution, the British shipped an estimated 50,000 to 120,000 convicts to their American colonies"
          ],
          [
           "\nIn some areas, Native Americans taught colonists how to plant and harvest the native crops"
          ],
          [
           " In others, they attacked the settlers"
          ],
          [
           " Virgin forests provided an ample supply of building material and firewood"
          ],
          [
           " Natural inlets and harbors lined the coast, providing easy ports for essential trade with Europe"
          ],
          [
           " Settlements remained close to the coast due to this as well as Native American resistance and the Appalachian Mountains that were found in the interior"
          ],
          [
           "\n\n\n==== First settlement in Jamestown ====\n\nThe first successful English colony, Jamestown, was established by the Virginia Company in 1607 on the James River in Virginia"
          ],
          [
           " The colonists were preoccupied with the search for gold and were ill-equipped for life in the New World"
          ],
          [
           " Captain John Smith held the fledgling Jamestown together in the first year, and the colony descended into anarchy and nearly failed when he returned to England two years later"
          ],
          [
           " John Rolfe began experimenting with tobacco from the West Indies in 1612, and by 1614 the first shipment arrived in London"
          ],
          [
           " It became Virginia's chief source of revenue within a decade"
          ],
          [
           "\nIn 1624, after years of disease and Indian attacks, including the Powhatan attack of 1622, King James I revoked the Virginia Company's charter and made Virginia a royal colony"
          ],
          [
           "\n\n\n==== New England Colonies ====\n\nNew England was initially settled primarily by Puritans fleeing religious persecution"
          ],
          [
           " The Pilgrims sailed for Virginia on the Mayflower in 1620, but were knocked off course by a storm and landed at Plymouth, where they agreed to a social contract of rules in the Mayflower Compact"
          ],
          [
           " During the first winter at Plymouth, about half of the Pilgrims died"
          ],
          [
           " Like Jamestown, Plymouth suffered from disease and starvation, but local Wampanoag Indians taught the colonists how to farm maize"
          ],
          [
           "\nPlymouth was followed by the Puritans and Massachusetts Bay Colony in 1630"
          ],
          [
           " They maintained a charter for self-government separate from England, and elected founder John Winthrop as the governor for most of its early years"
          ],
          [
           " Roger Williams opposed Winthrop's treatment of Native Americans and religious intolerance, and established the colony of Providence Plantations, later Rhode Island, on the basis of freedom of religion"
          ],
          [
           " Other colonists established settlements in the Connecticut River Valley, and on the coasts of present-day New Hampshire and Maine"
          ],
          [
           " Native American attacks continued, with the most significant occurring in the 1637 Pequot War and the 1675 King Philip's War"
          ],
          [
           "\nNew England became a center of commerce and industry due to the poor, mountainous soil making agriculture difficult"
          ],
          [
           " Rivers were harnessed to power grain mills and sawmills, and the numerous harbors facilitated trade"
          ],
          [
           " Tight-knit villages developed around these industrial centers, and Boston became one of America's most important ports"
          ],
          [
           "\n\n\n==== Middle Colonies ====\n\nIn the 1660s, the Middle Colonies of New York, New Jersey, and Delaware were established in the former Dutch New Netherland, and were characterized by a large degree of ethnic and religious diversity"
          ],
          [
           " At the same time, the Iroquois of New York, strengthened by years of fur trading with Europeans, formed the powerful Iroquois Confederacy"
          ],
          [
           "\nThe last colony in this region was Pennsylvania, established in 1681 by William Penn as a home for religious dissenters, including Quakers, Methodists, and the Amish"
          ],
          [
           " The capital of the colony, Philadelphia, became a dominant commercial center in a few short years, with busy docks and brick houses"
          ],
          [
           " While Quakers populated the city, German immigrants began to flood into the Pennsylvanian hills and forests, while the Scots-Irish pushed into the far western frontier"
          ],
          [
           "\n\n\n==== Southern Colonies ====\n\nThe overwhelmingly rural Southern Colonies contrasted sharply with the New England and Middle Colonies"
          ],
          [
           " After Virginia, the second British colony south of New England was Maryland, established as a Catholic haven in 1632"
          ],
          [
           " The economy of these two colonies was built entirely on yeoman farmers and planters"
          ],
          [
           " The planters established themselves in the Tidewater region of Virginia, establishing massive plantations with slave labor"
          ],
          [
           "\nIn 1670, the Province of Carolina was established, and Charleston became the region's great trading port"
          ],
          [
           " While Virginia's economy was also based on tobacco, Carolina was more diversified, exporting rice, indigo, and lumber as well"
          ],
          [
           " In 1712, it was divided in two, creating North and South Carolina"
          ],
          [
           " The Georgia Colony – the last of the Thirteen Colonies – was established by James Oglethorpe in 1732 as a border to Spanish Florida and a reform colony for former prisoners and the poor"
          ],
          [
           "\n\n\n==== Religion ====\n\nReligiosity expanded greatly after the First Great Awakening, a religious revival in the 1740s which was led by preachers such as Jonathan Edwards and George Whitefield"
          ],
          [
           " American Evangelicals affected by the Awakening added a new emphasis on divine outpourings of the Holy Spirit and conversions that implanted new believers with an intense love for God"
          ],
          [
           " Revivals encapsulated those hallmarks and carried the newly created evangelicalism into the early republic, setting the stage for the Second Great Awakening in the late 1790s"
          ],
          [
           " In the early stages, evangelicals in the South, such as Methodists and Baptists, preached for religious freedom and abolition of slavery; they converted many slaves and recognized some as preachers"
          ],
          [
           "\n\n\n==== Government ====\n\nEach of the 13 American colonies had a slightly different governmental structure"
          ],
          [
           " Typically, a colony was ruled by a governor appointed from London who controlled the executive administration and relied upon a locally elected legislature to vote on taxes and make laws"
          ],
          [
           " By the 18th century, the American colonies were growing very rapidly as a result of low death rates along with ample supplies of land and food"
          ],
          [
           " The colonies were richer than most parts of Britain, and attracted a steady flow of immigrants, especially teenagers who arrived as indentured servants"
          ],
          [
           "\n\n\n==== Servitude and slavery ====\n\nOver half of all European immigrants to Colonial America arrived as indentured servants"
          ],
          [
           " Few could afford the cost of the journey to America, and so this form of unfree labor provided a means to immigrate"
          ],
          [
           " Typically, people would sign a contract agreeing to a set term of labor, usually four to seven years, and in return would receive transport to America and a piece of land at the end of their servitude"
          ],
          [
           " In some cases, ships' captains received rewards for the delivery of poor migrants, and so extravagant promises and kidnapping were common"
          ],
          [
           " The Virginia Company and the Massachusetts Bay Company also used indentured servant labor"
          ],
          [
           "\nThe first African slaves were brought to Virginia in 1619, just twelve years after the founding of Jamestown"
          ],
          [
           " Initially regarded as indentured servants who could buy their freedom, the institution of slavery began to harden and the involuntary servitude became lifelong as the demand for labor on tobacco and rice plantations grew in the 1660s"
          ],
          [
           " Slavery became identified with brown skin color, at the time seen as a \"black race\", and the children of slave women were born slaves (partus sequitur ventrem)"
          ],
          [
           " By the 1770s African slaves comprised a fifth of the American population"
          ],
          [
           "\nThe question of independence from Britain did not arise as long as the colonies needed British military support against the French and Spanish powers"
          ],
          [
           " Those threats were gone by 1765"
          ],
          [
           " However, London continued to regard the American colonies as existing for the benefit of the mother country in a policy known as mercantilism"
          ],
          [
           "\nColonial America was defined by a severe labor shortage that used forms of unfree labor, such as slavery and indentured servitude"
          ],
          [
           " The British colonies were also marked by a policy of avoiding strict enforcement of parliamentary laws, known as salutary neglect"
          ],
          [
           " This permitted the development of an American spirit distinct from that of its European founders"
          ],
          [
           "\n\n\n== Revolutionary period (1754–1793) ==\n\n\n=== Lead-up to the Revolution ===\nAn upper class emerged in South Carolina and Virginia, with wealth based on large plantations operated by slave labor"
          ],
          [
           " A unique class system operated in upstate New York, where Dutch tenant farmers rented land from very wealthy Dutch proprietors, such as the Van Rensselaer family"
          ],
          [
           " The other colonies were more egalitarian, with Pennsylvania being representative"
          ],
          [
           " By the mid-18th century Pennsylvania was basically a middle-class colony with limited respect for its small upper-class"
          ],
          [
           "\n\nThe French and Indian War (1754–1763), part of the larger Seven Years' War, was a watershed event in the political development of the colonies"
          ],
          [
           " The influence of the French and Native Americans, the main rivals of the British Crown in the colonies and Canada, was significantly reduced and the territory of the Thirteen Colonies expanded into New France, both in Canada and Louisiana"
          ],
          [
           " The war effort also resulted in greater political integration of the colonies, as reflected in the Albany Congress and symbolized by Benjamin Franklin's call for the colonies to \"Join, or Die"
          ],
          [
           "\" Franklin was a man of many inventions – one of which was the concept of a United States of America, which emerged after 1765 and would be realized a decade later"
          ],
          [
           "\n\nFollowing Britain's acquisition of French territory in North America, King George III issued the Royal Proclamation of 1763, to organize the new North American empire and protect the Native Americans from colonial expansion into western lands beyond the Appalachian Mountains"
          ],
          [
           " In the following years, strains developed in the relations between the colonists and the Crown"
          ],
          [
           " The British Parliament passed the Stamp Act of 1765, imposing a tax on the colonies without going through the colonial legislatures"
          ],
          [
           " The issue was drawn: did Parliament have the right to tax Americans who were not represented in it? Crying \"No taxation without representation\", the colonists refused to pay the taxes as tensions escalated in the late 1760s and early 1770s"
          ],
          [
           "\nThe Boston Tea Party in 1773 was a direct action by activists in the town of Boston to protest against the new tax on tea"
          ],
          [
           " Parliament quickly responded the next year with the Intolerable Acts, stripping Massachusetts of its historic right of self-government and putting it under military rule, which sparked outrage and resistance in all thirteen colonies"
          ],
          [
           " Patriot leaders from every colony convened the First Continental Congress to coordinate their resistance to the Intolerable Acts"
          ],
          [
           " The Congress called for a boycott of British trade, published a list of rights and grievances, and petitioned the king to rectify those grievances"
          ],
          [
           " This appeal to the Crown had no effect, though, and so the Second Continental Congress was convened in 1775 to organize the defence of the colonies against the British Army"
          ],
          [
           "\nCommon people became insurgents against the British even though they were unfamiliar with the ideological rationales being offered"
          ],
          [
           " They held very strongly a sense of \"rights\" that they felt the British were deliberately violating – rights that stressed local autonomy, fair dealing, and government by consent"
          ],
          [
           " They were highly sensitive to the issue of tyranny, which they saw manifested by the arrival in Boston of the British Army to punish the Bostonians"
          ],
          [
           " This heightened their sense of violated rights, leading to rage and demands for revenge, and they had faith that God was on their side"
          ],
          [
           "\n\n\n=== American Revolution ===\n\nThe Second Continental Congress voted to declare independence on July 2, 1776, and the Declaration of Independence was drafted by the Committee of Five"
          ],
          [
           " The Declaration of Independence presented arguments in favor of the rights of citizens, stating that all men are created equal, supporting the rights of Life, Liberty and the pursuit of Happiness, and demanding the consent of the governed"
          ],
          [
           " It also listed grievances against the crown"
          ],
          [
           " The Founding Fathers were guided by the ideology of republicanism, rejecting the monarchism of Great Britain"
          ],
          [
           " The Declaration of Independence was signed by members of the Congress on July 4"
          ],
          [
           " This date has since been commemorated as Independence Day"
          ],
          [
           "\nThe American Revolutionary War began with the Battles of Lexington and Concord when American and British forces clashed on April 19, 1775"
          ],
          [
           " George Washington was appointed general of the Continental Army"
          ],
          [
           " The New York and New Jersey campaign was the first major campaign of the war, beginning in 1776"
          ],
          [
           " Washington's crossing of the Delaware River began a series of victories that expelled British forces from New Jersey"
          ],
          [
           " The British began the Saratoga campaign in 1777 to capture Albany, New York, as a choke point"
          ],
          [
           " After American victory at Saratoga, France, the Netherlands, and Spain began providing support to the Continental Army"
          ],
          [
           " Britain responded to defeat in the northern theater by advancing in the southern theater, beginning with the Capture of Savannah in 1778"
          ],
          [
           " American forces reclaimed the south in 1781, and the British Army was defeated in the Siege of Yorktown on October 19, 1781"
          ],
          [
           "\nKing George III formally ordered the end of hostilities on December 5, 1782, recognizing American independence"
          ],
          [
           " The Treaty of Paris was negotiated between Great Britain and the United States to establish terms of peace"
          ],
          [
           " It was signed on September 3, 1783, and it was ratified by the Congress of the Confederation on January 14, 1784"
          ],
          [
           " Washington resigned his commission as commander-in-chief of the Continental Army on December 23, 1783"
          ],
          [
           "\n\n\n=== Confederation period ===\nThe Articles of Confederation were ratified as the governing law of the United States, written to limit the powers of the central government in favor of state governments"
          ],
          [
           " This caused economic decline, as the government was unable to pass economic legislation and pay its debts"
          ],
          [
           " Nationalists worried that the confederate nature of the union was too fragile to withstand an armed conflict with any adversarial states, or even internal revolts such as the Shays' Rebellion of 1786 in Massachusetts"
          ],
          [
           "\nIn the 1780s the national government was able to settle the issue of the western regions of the young United States, which were ceded by the states to Congress and became territories"
          ],
          [
           " With the migration of settlers to the Northwest, soon they became states"
          ],
          [
           " The American Indian Wars continued in the 1780s as settlers moved west, prompting Native American attacks on American civilians and in turn prompting American attacks on Native American civilians"
          ],
          [
           " The Northwestern Confederacy and American settlers began fighting the Northwest Indian War in the late 1780s; the Northwestern Confederacy received British support, but the settlers received little assistance from the American government"
          ],
          [
           "\nNationalists – most of them war veterans – organized in every state and convinced Congress to call the Philadelphia Convention in 1787"
          ],
          [
           " The delegates from every state wrote a new Constitution that created a federal government with a strong president and powers of taxation"
          ],
          [
           " The new government reflected the prevailing republican ideals of guarantees of individual liberty and of constraining the power of government through a system of separation of powers"
          ],
          [
           " A national debate took place over whether the constitution should be ratified, and it was ratified by a sufficient number of states in 1788 to begin forming a federal government"
          ],
          [
           " The United States Electoral College chose George Washington as the first President of the United States in 1789"
          ],
          [
           "\n\n\n== Early republic (1793–1830) ==\n\n\n=== President George Washington ===\n\nGeorge Washington became the first president of the United States under the new Constitution in 1789"
          ],
          [
           " The national capital moved from New York to Philadelphia in 1790 and finally settled in Washington, D"
          ],
          [
           "C"
          ],
          [
           ", in 1800"
          ],
          [
           "\nThe major accomplishment of the Washington Administration was creating a strong national government that was recognized without question by all Americans"
          ],
          [
           " His government, following the vigorous leadership of Treasury Secretary Alexander Hamilton, assumed the debts of the states (the debt holders received federal bonds), created the Bank of the United States to stabilize the financial system, and set up a uniform system of tariffs (taxes on imports) and other taxes to pay off the debt and provide a financial infrastructure"
          ],
          [
           " To support his programs Hamilton created a new political party – the first in the world based on voters – the Federalist Party"
          ],
          [
           "\nTo assuage the Anti-Federalists who feared a too-powerful central government, the Congress adopted the United States Bill of Rights in 1791"
          ],
          [
           " Comprising the first ten amendments of the Constitution, it guaranteed individual liberties such as freedom of speech and religious practice, jury trials, and stated that citizens and states had reserved rights (which were not specified)"
          ],
          [
           "\n\n\n==== Two-party system ====\nThomas Jefferson and James Madison formed an opposition Republican Party (usually called the Democratic-Republican Party by political scientists)"
          ],
          [
           " Hamilton and Washington presented the country in 1794 with the Jay Treaty that reestablished good relations with Britain"
          ],
          [
           " The Jeffersonians vehemently protested, and the voters aligned behind one party or the other, thus setting up the First Party System"
          ],
          [
           " Federalists promoted business, financial and commercial interests and wanted more trade with Britain"
          ],
          [
           " Republicans accused the Federalists of plans to establish a monarchy, turn the rich into a ruling class, and making the United States a pawn of the British"
          ],
          [
           " The treaty passed, but politics became intensely heated"
          ],
          [
           "\n\n\n==== Challenges to the federal government ====\nSerious challenges to the new federal government included the Northwest Indian War, the ongoing Cherokee–American wars, and the 1794 Whiskey Rebellion, in which western settlers protested against a federal tax on liquor"
          ],
          [
           " Washington called the state militia and personally led an army against the settlers, as the insurgents melted away and the power of the federal government was firmly established"
          ],
          [
           "\n\nWashington refused to serve more than two terms – setting a precedent – and in his famous farewell address, he extolled the benefits of federal government and importance of ethics and morality while warning against foreign alliances and the formation of political parties"
          ],
          [
           "\nJohn Adams, a Federalist, defeated Jefferson in the 1796 election"
          ],
          [
           " War loomed with France and the Federalists used the opportunity to try to silence the Republicans with the Alien and Sedition Acts, build up a large army with Hamilton at the head, and prepare for a French invasion"
          ],
          [
           " However, the Federalists became divided after Adams sent a successful peace mission to France that ended the Quasi-War of 1798"
          ],
          [
           "\n\n\n=== Increasing demand for slave labor ===\n\nDuring the first two decades after the Revolutionary War, there were dramatic changes in the status of slavery among the states and an increase in the number of freed blacks"
          ],
          [
           " Inspired by revolutionary ideals of the equality of men and influenced by their lesser economic reliance on slavery, northern states abolished slavery"
          ],
          [
           "\nStates of the Upper South made manumission easier, resulting in an increase in the proportion of free blacks in the Upper South (as a percentage of the total non-white population) from less than one percent in 1792 to more than 10 percent by 1810"
          ],
          [
           " By that date, a total of 13"
          ],
          [
           "5 percent of all blacks in the United States were free"
          ],
          [
           " After that date, with the demand for slaves on the rise because of the Deep South's expanding cotton cultivation, the number of manumissions declined sharply; and an internal U"
          ],
          [
           "S"
          ],
          [
           " slave trade became an important source of wealth for many planters and traders"
          ],
          [
           " In 1807, with four million slaves already in the United States, Congress severed the U"
          ],
          [
           "S"
          ],
          [
           "'s involvement with the Atlantic slave trade"
          ],
          [
           " For 50 of the country's first 72 years, a slaveholder served as president, and during that period, only slaveholding presidents were re-elected to second terms"
          ],
          [
           "\n\n\n=== Second Great Awakening ===\n\nThe Second Great Awakening was a Protestant revival movement that affected virtually all of society during the early 19th century and led to rapid church growth"
          ],
          [
           " The movement began around 1790, gained momentum by 1800, and, after 1820 membership rose rapidly among Baptist and Methodist congregations, whose preachers led the movement"
          ],
          [
           " It was past its peak by the 1840s"
          ],
          [
           "\nIt enrolled millions of new members in existing evangelical denominations and led to the formation of new denominations"
          ],
          [
           " Many converts believed that the Awakening heralded a new millennial age"
          ],
          [
           " The Second Great Awakening stimulated the establishment of many reform movements – including abolitionism and temperance designed to remove the evils of society before the anticipated Second Coming of Jesus Christ"
          ],
          [
           "\n\n\n=== Louisiana and Jeffersonian republicanism ===\n\nJefferson defeated Adams massively for the presidency in the 1800 election"
          ],
          [
           " Jefferson's major achievement as president was the Louisiana Purchase in 1803, which provided U"
          ],
          [
           "S"
          ],
          [
           " settlers with vast potential for expansion west of the Mississippi River"
          ],
          [
           "\nJefferson, a scientist, supported expeditions to explore and map the new domain, most notably the Lewis and Clark Expedition"
          ],
          [
           " Jefferson believed deeply in republicanism and argued it should be based on the independent yeoman farmer and planter; he distrusted cities, factories and banks"
          ],
          [
           " He also distrusted the federal government and judges, and tried to weaken the judiciary"
          ],
          [
           " However he met his match in John Marshall, a Federalist from Virginia"
          ],
          [
           " Although the Constitution specified a Supreme Court, its functions were vague until Marshall, the Chief Justice of the United States (1801–1835), defined them, especially the power to overturn acts of Congress or states that violated the Constitution, first enunciated in 1803 in Marbury v"
          ],
          [
           " Madison"
          ],
          [
           "\n\n\n=== War of 1812 ===\n\nAmericans were increasingly angry at the British violation of American ships' neutral rights to hurt France, the impressment (seizure) of 10,000 American sailors needed by the Royal Navy to fight Napoleon, and British support for hostile Indians attacking American settlers in the American Midwest with the goal of creating a pro-British Indian barrier state to block American expansion westward"
          ],
          [
           " They may also have desired to annex all or part of British North America, although this is still heavily debated"
          ],
          [
           " Despite strong opposition from the Northeast, especially from Federalists who did not want to disrupt trade with Britain, Congress declared war on June 18, 1812"
          ],
          [
           "\n\nThe war was frustrating for both sides"
          ],
          [
           " Both sides tried to invade the other and were repulsed"
          ],
          [
           " The American high command remained incompetent until the last year"
          ],
          [
           " The American militia proved ineffective because the soldiers were reluctant to leave home and efforts to invade Canada repeatedly failed"
          ],
          [
           " The British blockade ruined American commerce, bankrupted the Treasury, and further angered New Englanders, who smuggled supplies to Britain"
          ],
          [
           " The Americans under General William Henry Harrison finally gained naval control of Lake Erie and defeated the Indians under Tecumseh in Canada, while Andrew Jackson ended the Indian threat in the Southeast"
          ],
          [
           " The Indian threat to expansion into the Midwest was permanently ended"
          ],
          [
           " The British invaded and occupied much of Maine"
          ],
          [
           "\nThe British raided and burned Washington, but were repelled at Baltimore in 1814 – where the \"Star Spangled Banner\" was written to celebrate the American success"
          ],
          [
           " In upstate New York a major British invasion of New York State was turned back at the Battle of Plattsburgh"
          ],
          [
           " Finally in early 1815 Andrew Jackson decisively defeated a major British invasion at the Battle of New Orleans, making him the most famous war hero"
          ],
          [
           "\nWith Napoleon (apparently) gone, the causes of the war had evaporated and both sides agreed to a peace that left the prewar boundaries intact"
          ],
          [
           " Americans claimed victory on February 18, 1815, as news came almost simultaneously of Jackson's victory of New Orleans and the peace treaty that left the prewar boundaries in place"
          ],
          [
           " Americans swelled with pride at success in the \"second war of independence\"; the naysayers of the antiwar Federalist Party were put to shame and the party never recovered"
          ],
          [
           " This helped led to an emerging American identity that cemented national pride over state pride"
          ],
          [
           "\nBritain never achieved the war goal of granting the Indians a barrier state to block further American settlement and this allowed settlers to pour into the Midwest without fear of a major threat"
          ],
          [
           " The War of 1812 also destroyed America's negative perception of a standing army, which had proven useful in many areas against the British as opposed to ill-equipped and poorly-trained militias in the early months of the war, and War Department officials instead decided to place regular troops as the main military capabilities of the government"
          ],
          [
           "\n\n\n=== Era of Good Feelings ===\n\nAs strong opponents of the War of 1812, the Federalists held the Hartford Convention in 1814 that hinted at disunion"
          ],
          [
           " National euphoria after the victory at New Orleans ruined the prestige of the Federalists and they no longer played a significant role as a political party"
          ],
          [
           " President Madison and most Republicans realized they were foolish to let the First Bank of the United States close down, for its absence greatly hindered the financing of the war"
          ],
          [
           " So, with the assistance of foreign bankers, they chartered the Second Bank of the United States in 1816"
          ],
          [
           "\nThe Republicans also imposed tariffs designed to protect the infant industries that had been created when Britain was blockading the U"
          ],
          [
           "S"
          ],
          [
           " With the collapse of the Federalists as a party, the adoption of many Federalist principles by the Republicans, and the systematic policy of President James Monroe in his two terms (1817–1825) to downplay partisanship, society entered an Era of Good Feelings, with far less partisanship than before (or after), and closed out the First Party System"
          ],
          [
           "\nThe Monroe Doctrine, expressed in 1823, proclaimed the United States' opinion that European powers should no longer colonize or interfere in the Americas"
          ],
          [
           " This was a defining moment in the foreign policy of the United States"
          ],
          [
           " The Monroe Doctrine was adopted in response to American and British fears over Russian and French expansion into the Western Hemisphere"
          ],
          [
           "\nIn 1832, President Andrew Jackson, 7th President of the United States, ran for a second term under the slogan \"Jackson and no bank\" and did not renew the charter of the Second Bank, dissolving the bank in 1836"
          ],
          [
           " Jackson was convinced that central banking was used by the elite to take advantage of the average American, and instead implemented publicly owned banks in various states, popularly known as \"pet banks\""
          ],
          [
           "\n\n\n== Expansion and reform (1830–1848) ==\n\n\n=== Second Party System ===\n\nAfter the First Party System of Federalists and Republicans withered away in the 1820s, the stage was set for the emergence of a new party system based on well organized local parties that appealed for the votes of (almost) all adult white men"
          ],
          [
           " The former Jeffersonian (Democratic-Republican) party split into factions"
          ],
          [
           " They split over the choice of a successor to President James Monroe, and the party faction that supported many of the old Jeffersonian principles, led by Andrew Jackson and Martin Van Buren, became the Democratic Party"
          ],
          [
           " As Norton explains the transformation in 1828:\n\nJacksonians believed the people's will had finally prevailed"
          ],
          [
           " Through a lavishly financed coalition of state parties, political leaders, and newspaper editors, a popular movement had elected the president"
          ],
          [
           " The Democrats became the nation's first well-organized national party, and tight party organization became the hallmark of nineteenth-century American politics"
          ],
          [
           "Opposing factions led by Henry Clay helped form the Whig Party"
          ],
          [
           " The Democratic Party had a small but decisive advantage over the Whigs until the 1850s, when the Whigs fell apart over the issue of slavery"
          ],
          [
           "\n\n\n=== Westward expansion and manifest destiny ===\n\nThe American colonies and the newly formed union grew rapidly in population and area, as pioneers pushed the frontier of settlement west"
          ],
          [
           " The process finally ended around 1890–1912 as the last major farmlands and ranch lands were settled"
          ],
          [
           " Native American tribes in some places resisted militarily, but they were overwhelmed by settlers and the army, and after 1830, were relocated to reservations in the west"
          ],
          [
           " That year, Congress passed the Indian Removal Act, which authorized the president to negotiate treaties that exchanged Native American tribal lands in the eastern states for lands west of the Mississippi River"
          ],
          [
           " Its goal was primarily to remove Native Americans, including the Five Civilized Tribes, from the American Southeast – they occupied land that settlers wanted"
          ],
          [
           "\nJacksonian Democrats demanded the forcible removal of native populations who refused to acknowledge state laws to reservations in the West"
          ],
          [
           " Whigs and religious leaders opposed the move as inhumane"
          ],
          [
           " Thousands of deaths resulted from the relocations, as seen in the Cherokee Trail of Tears"
          ],
          [
           " The Trail of Tears resulted in approximately 2,000 to 8,000 of the 16,543 relocated Cherokee dying along the way"
          ],
          [
           " Many of the Seminole Indians in Florida refused to move west, and fought the Army for years in the Seminole Wars"
          ],
          [
           "\n\nThe first settlers in the west were the Spanish in New Mexico (\"Californios\"), followed by over 100,000 California Gold Rush miners ('49ers)"
          ],
          [
           " California grew rapidly, and by 1880, San Francisco had become the economic hub of the entire Pacific Coast, with a diverse population of a quarter million"
          ],
          [
           " From the early 1830s to 1869, the Oregon Trail and its many offshoots were used by over 300,000 settlers"
          ],
          [
           " '49ers, ranchers, farmers, entrepreneurs, and their families headed to California, Oregon, and other points in the far west"
          ],
          [
           " Wagon-trains took five or six months on foot"
          ],
          [
           "\n\nManifest destiny was the belief that American settlers were destined to expand across the continent"
          ],
          [
           " This concept was born out of \"A sense of mission to redeem the Old World by high example "
          ],
          [
           ""
          ],
          [
           ""
          ],
          [
           " generated by the potentialities of a new earth for building a new heaven\""
          ],
          [
           " Manifest destiny was rejected by modernizers, especially the Whigs like Henry Clay and Abraham Lincoln who wanted to build cities and factories – not more farms"
          ],
          [
           " Democrats strongly favored expansion, and won the key election of 1844"
          ],
          [
           " After a bitter debate in Congress, the Republic of Texas was annexed in 1845, leading to war with Mexico, who considered Texas to be a part of Mexico due to the large numbers of Mexican settlers"
          ],
          [
           "\nThe Mexican–American War broke out in 1846, with the Whigs opposed to the war, and the Democrats supporting it"
          ],
          [
           " The U"
          ],
          [
           "S"
          ],
          [
           " Army, using regulars and large numbers of volunteers, defeated the Mexican armies, invaded at several points, captured Mexico City, and won decisively"
          ],
          [
           " The Treaty of Guadalupe Hidalgo ended the war in 1848"
          ],
          [
           " Many Democrats wanted to annex all of Mexico, but that idea was rejected by White Southerners, who argued that by incorporating millions of Mexican people, mainly of mixed race, would undermine the U"
          ],
          [
           "S"
          ],
          [
           " as an exclusively white republic"
          ],
          [
           "\nInstead, the U"
          ],
          [
           "S"
          ],
          [
           " took Texas and the lightly settled northern parts (California and New Mexico)"
          ],
          [
           " The Hispanic residents were given full citizenship, and the Mexican Indians became American Indians"
          ],
          [
           " Simultaneously, gold was discovered in California in 1848"
          ],
          [
           " To clear the state for settlers, the U"
          ],
          [
           "S"
          ],
          [
           " government began a policy of extermination since termed the California genocide"
          ],
          [
           " A peaceful compromise with Britain gave the U"
          ],
          [
           "S"
          ],
          [
           " ownership of the Oregon Country, which was renamed the Oregon Territory"
          ],
          [
           "\n\nThe demand for guano (prized as an agricultural fertilizer) led the U"
          ],
          [
           "S"
          ],
          [
           " to pass the Guano Islands Act in 1856, which enabled U"
          ],
          [
           "S"
          ],
          [
           " citizens to take possession, in the name of the country, of unclaimed islands containing guano deposits"
          ],
          [
           " Under the act, the U"
          ],
          [
           "S"
          ],
          [
           " annexed nearly 100 islands in the Pacific Ocean and the Caribbean Sea"
          ],
          [
           " By 1903, 66 of these islands were recognized as territories of the United States"
          ],
          [
           "\nThe women's suffrage movement began with the 1848 National Convention of the Liberty Party"
          ],
          [
           " Presidential candidate Gerrit Smith argued for and established women's suffrage as a party goal"
          ],
          [
           " One month later, the Seneca Falls Convention was organized, sining the Declaration of Sentiments demanding equal rights for women, including the right to vote"
          ],
          [
           " Many of these activists became politically aware during the abolitionist movement"
          ],
          [
           " The women's rights campaign during first-wave feminism was led by Elizabeth Cady Stanton, Lucy Stone and Susan B"
          ],
          [
           " Anthony, among others"
          ],
          [
           " Stone and Paulina Wright Davis organized the prominent and influential National Women's Rights Convention in 1850"
          ],
          [
           "\n\n\n== Civil War and Reconstruction (1848–1877) ==\n\n\n=== Divisions between North and South ===\n\nThe central issue after 1848 was the expansion of slavery, with the anti-slavery elements in the North pitted against the pro-slavery elements in the South"
          ],
          [
           " By 1860, there were four million slaves in the South, nearly eight times as many as there were nationwide in 1790"
          ],
          [
           " A small number of active Northerners were abolitionists who followed William Lloyd Garrison, and declared that ownership of slaves was a sin and demanded its immediate abolition"
          ],
          [
           " Much larger numbers in the North were against the expansion of slavery, seeking to put it on the path to extinction so that America would be committed to free land (as in low-cost farms owned and cultivated by a family), free labor, and free speech (as opposed to censorship of abolitionist material in the South)"
          ],
          [
           " However, before 1860, only a minority of Northern white people supported abolition, which was often seen as a 'radical' measure"
          ],
          [
           " There were violent reactions to abolitionist advocates in the North, notably the burning of an anti-slavery society in Pennsylvania Hall"
          ],
          [
           "\nThere was resistance to slavery by both peaceful and violent means"
          ],
          [
           " Slave rebellions, by Gabriel Prosser (1800), Denmark Vesey (1822), Nat Turner (1831), and John Brown (1859) caused fear in the white South, which imposed stricter oversight of slaves and reduced the rights of free black people"
          ],
          [
           " Former slaves Frederick Douglass and Harriet Tubman became leading advocates for abolition"
          ],
          [
           " The issue was discussed in the best-selling anti-slavery novel Uncle Tom's Cabin by Harriet Beecher Stowe"
          ],
          [
           "\nSouthern white Democrats insisted that slavery was of economic, social, and cultural benefit to all white people and even to the slaves themselves"
          ],
          [
           " Justifications of slavery included history, religion, legality, social good, and economics"
          ],
          [
           " Defenders argued that the sudden end to the slave economy would have had a fatal economic impact in the South, and there would be widespread unemployment and chaos; slave labor was the foundation of their economy"
          ],
          [
           " Southern slavery-based societies had become wealthy based on their cotton and other agricultural commodity production, as well as the internal slave trade"
          ],
          [
           " The plantations were highly profitable, due to the heavy European demand for raw cotton"
          ],
          [
           " Northern cities and regional industries were tied economically to slavery by banking, shipping, and manufacturing, including textile mills"
          ],
          [
           " In addition, southern states benefited by their increased apportionment in Congress due to the partial counting of slaves in their populations"
          ],
          [
           "\n\nReligious activists were split on slavery, with the Methodists and Baptists dividing into northern and southern denominations"
          ],
          [
           " In the North, the Methodists, Congregationalists, and Quakers included many abolitionists, especially among women activists"
          ],
          [
           " The Catholic, Episcopal, and Lutheran denominations largely ignored the issue"
          ],
          [
           "\nThe issue of slavery in the new territories was seemingly settled by the Compromise of 1850, brokered by Whig Henry Clay and Democrat Stephen Douglas; the Compromise included the admission of California as a free state in exchange for no federal restrictions on slavery placed on Utah or New Mexico"
          ],
          [
           " A point of contention was the Fugitive Slave Act, which required the states to cooperate with slave owners when attempting to recover escaped slaves"
          ],
          [
           " Formerly, an escaped slave that reached a non-slave state was presumed to have attained sanctuary and freedom under the Missouri Compromise"
          ],
          [
           "\nThe Compromise of 1820 was repealed in 1854 with the Kansas–Nebraska Act, promoted by Stephen Douglas in the name of \"popular sovereignty\" and democracy"
          ],
          [
           " It permitted voters to decide on the legality of slavery in each territory, and allowed Douglas to adopt neutrality on the issue of slavery"
          ],
          [
           " Anti-slavery forces rose in anger and alarm, forming the new Republican Party"
          ],
          [
           " Pro- and anti- contingents rushed to Kansas to vote for or against slavery, resulting in a miniature civil war called Bleeding Kansas"
          ],
          [
           " By the late 1850s, the young Republican Party dominated nearly all northern states, and thus, the electoral college"
          ],
          [
           " It insisted that slavery would never be allowed to expand, and thus would slowly die out"
          ],
          [
           "\nThe Supreme Court's 1857 decision in Dred Scott v"
          ],
          [
           " Sandford ruled that the Compromise was unconstitutional and that free Black people were not U"
          ],
          [
           "S"
          ],
          [
           " citizens; the decision enraged Northerners"
          ],
          [
           " The Republicans worried the decision could be used to expand slavery throughout all states and territories"
          ],
          [
           " With Senator Abraham Lincoln leading criticism of the ruling, the stage was set for the 1860 presidential election"
          ],
          [
           "\n\n\n=== Civil War ===\n\n\n==== Start of the war ====\n\nAfter Abraham Lincoln won the 1860 election, seven Southern states seceded from the Union and formed a sovereign state, the Confederate States of America (Confederacy), on February 8, 1861"
          ],
          [
           " The Civil War began on April 12, 1861, when Confederate forces attacked a U"
          ],
          [
           "S"
          ],
          [
           " military installation at Fort Sumter in South Carolina"
          ],
          [
           " In response, Lincoln called on the states to send troops to recapture forts, protect Washington D"
          ],
          [
           "C"
          ],
          [
           ", and \"preserve the Union,\" which in his view still existed despite the secession"
          ],
          [
           " Lincoln's call led to four more states seceding and joining the Confederacy"
          ],
          [
           " A few of the (northernmost) \"slave states\" did not secede and became known as the border states; these were Delaware, Maryland, Kentucky, and Missouri"
          ],
          [
           " During the war, the northwestern portion of Virginia seceded from the Confederacy, which became the new Union state of West Virginia"
          ],
          [
           "\n\nThe two armies' first major battle was the First Battle of Bull Run, which proved to both sides that the war would be much longer than anticipated"
          ],
          [
           " In the western theater, the Union Army was relatively successful, with major battles such as Perryville and Shiloh, along with Union Navy gunboat dominance of navigable rivers producing strategic Union victories and destroying major Confederate operations"
          ],
          [
           " Warfare in the eastern theater began poorly for the Union"
          ],
          [
           " U"
          ],
          [
           "S"
          ],
          [
           " General George B"
          ],
          [
           " McClellan failed to capture the Confederate capital of Richmond, Virginia, in his Peninsula campaign and retreated after attacks from Confederate General Robert E"
          ],
          [
           " Lee"
          ],
          [
           " Meanwhile, in 1861 and 1862, both sides concentrated on raising and training new armies"
          ],
          [
           " The Union successfully gained control the border states, driving the Confederates out"
          ],
          [
           "\n\n\n==== Confederate losses ====\n\nThe autumn 1862 Confederate retreat at the Battle of Antietam led to Lincoln's warning he would issue the Emancipation Proclamation in January 1863 if the states did not return"
          ],
          [
           " Making slavery a central war goal energized Northern Republicans, as well as their enemies, the anti-war Copperhead Democrats"
          ],
          [
           " It ended the chance of British and French intervention"
          ],
          [
           " Lee's smaller Army of Northern Virginia won battles in late 1862 and spring 1863, but he pushed too hard and ignored the Union threat in the west"
          ],
          [
           " He invaded Pennsylvania in search of supplies and to cause war-weariness in the North"
          ],
          [
           "\nThe Emancipation Proclamation was an executive order issued by Lincoln on January 1, 1863"
          ],
          [
           " It freed 3 million slaves in designated areas of the Confederacy"
          ],
          [
           " The owners were not compensated"
          ],
          [
           " Plantation owners, realizing that emancipation would destroy their economic system, sometimes moved their slaves as far as possible from the Union army"
          ],
          [
           "\n\nIn perhaps the turning point of the war, Lee's army was badly beaten by the Army of the Potomac at the July 1863 Battle of Gettysburg, and barely made it back to Virginia"
          ],
          [
           " Survivors of the battle were immediately redeployed to suppress the New York City draft riots by Irish Americans protesting Civil War conscription and the city's free Black population"
          ],
          [
           " In July 1863, Union forces under General Ulysses S"
          ],
          [
           " Grant gained control of the Mississippi River at the Battle of Vicksburg, thereby splitting the Confederacy"
          ],
          [
           " In 1864, Union General William Tecumseh Sherman marched south from Chattanooga to capture Atlanta, a decisive victory that ended war jitters among Republicans in the North and helped Lincoln win re-election"
          ],
          [
           "\n\n\n==== End of the war ====\n\nThe Civil War was the world's earliest industrial war"
          ],
          [
           " Railroads, the telegraph, steamships, and mass-produced weapons were employed extensively"
          ],
          [
           " Civilian factories, mines, shipyards, and were mobilized"
          ],
          [
           " Foreign trade increased, with the U"
          ],
          [
           "S"
          ],
          [
           " providing both food and cotton to Britain, and Britain sending in manufactured products and thousands of volunteers for the Union Army (and a few to the Confederate army)"
          ],
          [
           " The Union blockade shut down Confederate ports, and by late 1864, the British blockade runners supplying Confederates were usually captured before they could make more than a handful of runs"
          ],
          [
           "\n\nSherman's march to the sea was almost unopposed, and demonstrated that the South was unable to resist a Union invasion"
          ],
          [
           " Much of the South was destroyed, and could no longer provide desperately needed supplies to its armies"
          ],
          [
           " In spring 1864, Grant launched a war of attrition and pursued Lee to the final Appomattox campaign, which resulted in Lee surrendering in April 1865"
          ],
          [
           " By June 1865, the Union Army controlled all of the Confederacy and liberated all of the designated slaves"
          ],
          [
           "\nIt remains the deadliest war in American history, resulting in the deaths of about 750,000 soldiers and an undetermined number of civilian casualties"
          ],
          [
           " About ten percent of all Northern males 20–45 years old, and 30 percent of all Southern white males aged 18–40 died"
          ],
          [
           " Many Black people died after being dislocated during the war and Reconstruction"
          ],
          [
           "\n\n\n=== Reconstruction ===\n\nReconstruction lasted from the end of the war until 1877"
          ],
          [
           " Lincoln had to decide the statuses of the ex-slaves (\"Freedmen\"), ex-Confederates, and ex-Confederate states"
          ],
          [
           " He supported the Ten Percent Plan for states' re-admission, and the right of Black people to vote"
          ],
          [
           " Lincoln was assassinated in April 1865 by John Wilkes Booth, and succeeded by Andrew Johnson"
          ],
          [
           "\nThe severe threats of starvation and displacement of the unemployed Freedmen were met by the first major federal relief agency, the Freedmen's Bureau, operated by the Army"
          ],
          [
           " The bureau also took in freed slaves"
          ],
          [
           " Three \"Reconstruction Amendments\" expanded civil rights for black Americans: the 1865 Thirteenth Amendment outlawed slavery; the 1868 Fourteenth Amendment guaranteed equal rights for all and citizenship for Black people; the 1870 Fifteenth Amendment prevented race from being used to disenfranchise men"
          ],
          [
           "\nEx-Confederates remained in control of most Southern states for over two years, until the Radical Republicans gained control of Congress in the 1866 elections"
          ],
          [
           " Johnson, who sought good treatment for ex-Confederates, was virtually powerless in the face of Congress; he was impeached, but the Senate's attempt to remove him from office failed by one vote"
          ],
          [
           " Congress enfranchised black men and temporarily banned many ex-Confederate leaders from holding office"
          ],
          [
           " New Republican governments came to power based on a coalition of Freedmen made up of Carpetbaggers (new arrivals from the North), and Scalawags (native white Southerners)"
          ],
          [
           " They were backed by the Army"
          ],
          [
           " Opponents said they were corrupt and violated the rights of whites"
          ],
          [
           "\n\nAfter the war, the far west was developed and settled, first by wagon trains and riverboats, and then by the first transcontinental railroad"
          ],
          [
           " Many Northern European immigrants took up low-cost or free farms in the Prairie States"
          ],
          [
           " Mining for silver and copper encouraged development"
          ],
          [
           "\n\n\n==== KKK and the rise of Jim Crow laws ====\n\nState by state, the New Republicans lost power to a conservative-Democratic coalition, which gained control of the South by 1877"
          ],
          [
           " In response to Radical Reconstruction, the Ku Klux Klan (KKK) emerged in 1867 as a white-supremacist organization opposed to black civil rights and Republican rule"
          ],
          [
           " President Ulysses Grant's enforcement of the Ku Klux Klan Act of 1870 shut them down"
          ],
          [
           " Paramilitary groups, such as the White League and Red Shirts emerging around 1874, openly intimidated and attacked Black people voting, to regain white political power in states across the South"
          ],
          [
           " One historian described them as the military arm of the Democratic Party"
          ],
          [
           "\nReconstruction ended after the disputed 1876 election"
          ],
          [
           " The Compromise of 1877 gave Republican candidate Rutherford B"
          ],
          [
           " Hayes the presidency in exchange for removing all remaining federal troops in the South"
          ],
          [
           " The federal government withdrew its troops, and Southern Democrats took control of the region In 1882, the United States passed the Chinese Exclusion Act (which barred all Chinese immigrants except for students and businessmen), and the Immigration Act of 1882 (which barred all immigrants with mental health issues)"
          ],
          [
           " From 1890 to 1908, southern states effectively disenfranchised Black and poor white voters by making voter registration more difficult through poll taxes and literacy tests"
          ],
          [
           " Black people were segregated from whites in the violently-enforced Jim Crow system that lasted until roughly 1968"
          ],
          [
           "\n\n\n== Gilded Age and the Progressive Era (1877–1914) ==\n\n\n=== After Reconstruction ===\n\nThe \"Gilded Age\" was a term that Mark Twain used to describe the period of the late 19th century with a dramatic expansion of American wealth and prosperity, underscored by the mass corruption in the government"
          ],
          [
           " Some historians have argued that the United States was effectively plutocratic for at least part of the Gilded Age and Progressive Era"
          ],
          [
           "  As financiers and industrialists such as J"
          ],
          [
           "P"
          ],
          [
           " Morgan and John D"
          ],
          [
           " Rockefeller began to amass vast fortunes, many observers were concerned that the nation was losing its pioneering egalitarian spirit"
          ],
          [
           "\nAn unprecedented wave of immigration from Europe served to both provide the labor for American industry and create diverse communities in previously undeveloped areas"
          ],
          [
           " From 1880 to 1914, peak years of immigration, more than 22 million people migrated to the country"
          ],
          [
           " By 1890, American industrial production and per capita income exceeded those of all other countries"
          ],
          [
           " Most were unskilled workers who quickly found jobs in mines, mills, and factories"
          ],
          [
           " Many immigrants were craftsmen and farmers (especially from Britain, Germany, and Scandinavia) who purchased inexpensive land on the prairies"
          ],
          [
           " Poverty, growing inequality and dangerous working conditions, along with socialist and anarchist ideas diffusing from European immigrants, led to the rise of the labor movement"
          ],
          [
           "\nDissatisfaction on the part of the growing middle class with the corruption and inefficiency of politics, and the failure to deal with increasingly important urban and industrial problems, led to the dynamic progressive movement starting in the 1890s"
          ],
          [
           " In every major city, and at the federal level, progressives called for the modernization and reform of decrepit institutions in the fields of politics, education, medicine, and industry"
          ],
          [
           "\n\nLeading politicians from both parties, most notably Republicans Theodore Roosevelt, Charles Evans Hughes, and Robert La Follette, and Democrats William Jennings Bryan and Woodrow Wilson, took up the cause of progressive reform"
          ],
          [
           " \"Muckraking\" journalists such as Upton Sinclair, Lincoln Steffens and Jacob Riis exposed corruption in business and government, and highlighted rampant inner-city poverty"
          ],
          [
           " Progressives implemented antitrust laws and regulated such industries of meat-packing, drugs, and railroads"
          ],
          [
           " Four new constitutional amendments – the Sixteenth through Nineteenth – resulted from progressive activism, bringing the federal income tax, direct election of Senators, prohibition, and female suffrage"
          ],
          [
           "\nIn 1881, President James A"
          ],
          [
           " Garfield was assassinated by Charles Guiteau"
          ],
          [
           "\n\n\n==== Unions and strikes ====\n\nSkilled workers banded together to control their crafts and raise wages by forming labor unions in industrial areas of the Northeast"
          ],
          [
           " Samuel Gompers led the American Federation of Labor (1886–1924), coordinating multiple unions"
          ],
          [
           " In response to heavy debts and decreasing farm prices, wheat and cotton farmers joined the Populist Party"
          ],
          [
           "\nThe Panic of 1893 broke out, and created a severe nationwide depression impacted farmers, workers, and businessmen"
          ],
          [
           " Many railroads went bankrupt"
          ],
          [
           " The resultant political reaction fell on the Democratic Party, whose leader President Grover Cleveland shouldered much of the blame"
          ],
          [
           " Labor unrest involved numerous strikes, most notably the violent Pullman Strike of 1894, which was forcibly shut down by federal troops under Cleveland's orders"
          ],
          [
           " One of the disillusioned leaders of the Pullman strike, Eugene V"
          ],
          [
           " Debs, went on to become the leader of the Socialist Party of America, eventually going on to win almost 1 million votes in the 1912 presidential election"
          ],
          [
           "\n\n\n==== Economic growth ====\nImportant legislation of the era included the 1883 Civil Service Act, which mandated a competitive examination for applicants for government jobs, the 1887 Interstate Commerce Act, which ended railroads' discrimination against small shippers, and the 1890 Sherman Antitrust Act, which outlawed monopolies in business"
          ],
          [
           "\nAfter 1893, the Populist Party gained strength among farmers and coal miners, but was overtaken by the even more popular Free silver movement, which demanded using silver to enlarge the money supply, leading to inflation that the silverites promised would end the depression"
          ],
          [
           " Financial and railroad communities fought back hard, arguing that only the gold standard would save the economy"
          ],
          [
           " In the 1896 presidential election, conservative Republican William McKinley defeated silverite William Jennings Bryan, who ran on the Democratic, Populist, and Silver Republican tickets"
          ],
          [
           " Bryan swept the South and West, but McKinley ran up landslides among the middle class, industrial workers, cities, and among upscale farmers in the Midwest"
          ],
          [
           "\n\nProsperity returned under McKinley"
          ],
          [
           " The gold standard was enacted, and the tariff was raised"
          ],
          [
           " By 1900, the U"
          ],
          [
           "S"
          ],
          [
           " had the strongest economy in the world"
          ],
          [
           " Republicans, citing McKinley's policies, took the credit for the growth"
          ],
          [
           " McKinley was assassinated by Leon Czolgosz in 1901, and was succeeded by Theodore Roosevelt"
          ],
          [
           "\nThe period also saw a major transformation of the banking system, with the arrival of the first credit union in 1908 (and thus, cooperative banking) and the creation of the Federal Reserve System in 1913"
          ],
          [
           " Apart from two short recessions in 1907 and 1920, the economy remained prosperous and growing until 1929"
          ],
          [
           "\n\n\n==== Imperialism ====\n\nThe United States Army continued to fight wars with Native Americans as settlers encroached on their traditional lands"
          ],
          [
           " Gradually the U"
          ],
          [
           "S"
          ],
          [
           " purchased the Native American tribal lands and extinguished their claims, forcing most tribes onto subsidized reservations"
          ],
          [
           " According to the U"
          ],
          [
           "S"
          ],
          [
           " Census Bureau in 1894, from 1789 to 1894, the Indian Wars killed 19,000 white people and more than 30,000 Indians"
          ],
          [
           "\nThe United States emerged as a world economic and military power after 1890"
          ],
          [
           " The main episode was the Spanish–American War, which began when Spain refused American demands to reform its oppressive policies in Cuba"
          ],
          [
           " The war was a series of quick American victories on land and at sea"
          ],
          [
           " At the Treaty of Paris peace conference the United States acquired the Philippines, Puerto Rico, and Guam"
          ],
          [
           "\n\nCuba became an independent country, under close American tutelage"
          ],
          [
           " Although the war itself was widely popular, the peace terms proved controversial"
          ],
          [
           " William Jennings Bryan led his Democratic Party in opposition to control of the Philippines, which he denounced as imperialism unbecoming to American democracy"
          ],
          [
           " President William McKinley defended the acquisition and was riding high as society had returned to prosperity and felt triumphant in the war"
          ],
          [
           " McKinley easily defeated Bryan in a rematch in the 1900 presidential election"
          ],
          [
           "\nAfter defeating an insurrection by Filipino nationalists, the United States achieved little in the Philippines except in education, and it did something in the way of public health"
          ],
          [
           " It also built roads, bridges, and wells, but infrastructural development lost much of its early vigor with the failure of the railroads"
          ],
          [
           " By 1908, however, Americans lost interest in an empire and turned their international attention to the Caribbean, especially the building of the Panama Canal"
          ],
          [
           " The canal opened in 1914 and increased trade with Japan and the rest of the Far East"
          ],
          [
           " A key innovation was the Open Door Policy, whereby the imperial powers were given equal access to Chinese business, with not one of them allowed to take control of China"
          ],
          [
           "\n\n\n==== Women's suffrage ====\n\nThe women's suffrage movement reorganized after the Civil War, gaining experienced campaigners, many of whom had worked for prohibition in the Women's Christian Temperance Union"
          ],
          [
           " By the end of the century, a few Western states had granted women full voting rights, and women gained rights in areas such as property and child custody law"
          ],
          [
           "\nAround 1912, the feminist movement reawakened, putting an emphasis on its demands for equality, and arguing that the corruption of American politics demanded purification by women"
          ],
          [
           " Protests became increasingly common, as suffragette Alice Paul led parades through the capital and major cities"
          ],
          [
           " Paul split from the large, moderate National American Woman Suffrage Association (NAWSA) led by Carrie Chapman Catt, and formed the more militant National Woman's Party"
          ],
          [
           " Suffragists were arrested during their \"Silent Sentinels\" pickets at the White House, and were taken as political prisoners"
          ],
          [
           " Another prominent leader of the movement was Jane Addams of Chicago, who created settlement houses"
          ],
          [
           "\n\nThe anti-suffragist argument that only men could fight in a war, and therefore only men deserve the right to vote, was refuted by the participation of American women on the home front in World War I"
          ],
          [
           " The success of woman's suffrage was demonstrated by the politics of states which already allowed women to vote, including Montana, who elected the first woman to the House of Representatives, Jeannette Rankin"
          ],
          [
           " The main resistance came from the South, where white leaders were worried about the threat of Black women voting"
          ],
          [
           " Congress passed the Nineteenth Amendment in 1919, and women could vote in 1920"
          ],
          [
           " NAWSA became the League of Women Voters"
          ],
          [
           " Politicians responded to the new electorate by emphasizing issues of special interest to women, especially prohibition, child health, and world peace"
          ],
          [
           " Notably, in 1928, women were mobilized to support both candidates in the year's presidential election between Al Smith and Herbert Hoover"
          ],
          [
           "\n\n\n== Modern America and World Wars (1914–1945) ==\n\n\n=== World War I and the interwar years ===\n\nAs World War I raged in Europe from 1914, President Woodrow Wilson took full control of foreign policy, declaring neutrality, but warning Germany that resumption of unrestricted submarine warfare against American ships supplying goods to Allied nations would mean war"
          ],
          [
           " Germany decided to take the risk, and try to win by cutting off supplies to Britain through the sinking of ships such as the RMS Lusitania"
          ],
          [
           " The U"
          ],
          [
           "S"
          ],
          [
           " declared war in April 1917, mainly from the threat of the Zimmermann Telegram"
          ],
          [
           "\nBy the summer of 1918 soldiers in General John J"
          ],
          [
           " Pershing's American Expeditionary Forces arrived at the rate of 10,000 a day, while Germany was unable to replace its losses"
          ],
          [
           " Dissent against the war was suppressed by the Sedition Act of 1918 & Espionage Act of 1917"
          ],
          [
           " German language, leftist & pacifist publications were suppressed"
          ],
          [
           " Over 2,000 were imprisoned for speaking out against the war, later released by U"
          ],
          [
           "S"
          ],
          [
           " President Warren G"
          ],
          [
           " Harding"
          ],
          [
           "\nThe Allies won in November 1918"
          ],
          [
           " Wilson demanded Germany depose Wilhelm II and accept his terms in the famed Fourteen Points speech"
          ],
          [
           " Wilson dominated the 1919 Paris Peace Conference, putting his geopolitical hopes in the new League of Nations as Germany was treated harshly in the Treaty of Versailles (1919)"
          ],
          [
           " Wilson refused to compromise with Senate Republicans over the issue of Congressional power to declare war, and the Senate rejected the Treaty and the League"
          ],
          [
           " Instead, the United States chose to pursue unilateralism"
          ],
          [
           " The aftershock of Russia's October Revolution resulted in real fears of Communism in the United States, leading to a Red Scare and the deportation of non-citizens considered subversive"
          ],
          [
           "\n\nDespite the Progressive-era modernization of hospitals and medical schools, the country lost around 550,000 lives to the Spanish flu pandemic in 1918 and 1919"
          ],
          [
           " During the \"Roaring\" 1920s, the economy expanded"
          ],
          [
           " African-Americans benefited from the Great Migration and had more cultural power; an example being the Harlem Renaissance which spread jazz music"
          ],
          [
           " Meanwhile, the Ku Klux Klan had a resurgence, and the Immigration Act of 1924 was passed to strictly limit the number of new entries"
          ],
          [
           " The Osage Indian murders, an attempt by some rich, white Oklahomans to control the Osage Nation's oil reserves, were the first \"big case\" of the newly created Federal Bureau of Investigation (FBI)"
          ],
          [
           "\nProhibition began in 1920, when the manufacture, sale, import and export of alcohol were prohibited by the Eighteenth Amendment"
          ],
          [
           " Americans resulted to drinking denatured alcohol or bootlegged alcohol from elsewhere in the Americas"
          ],
          [
           " Bootlegged alcohol in the cities ended up under the control of gangs, who fought each other for territory in which they controlled the drink's sale"
          ],
          [
           " Italian bootleggers in New York City gradually formed the Mafia crime syndicate"
          ],
          [
           " In 1933, President Franklin D"
          ],
          [
           " Roosevelt repealed prohibition by signing the Cullen-Harrison Act"
          ],
          [
           "\n\n\n=== Great Depression and the New Deal ===\n\nThe Great Depression (1929–1939) and the New Deal (1933–1936) were decisive moments in American political, economic, and social history that reshaped the nation"
          ],
          [
           " During the 1920s, the nation enjoyed widespread prosperity, albeit with a weakness in agriculture"
          ],
          [
           " A financial bubble was fueled by an inflated stock market, which later led to the Wall Street Crash on October 29, 1929"
          ],
          [
           " This, along with many other economic factors, triggered a worldwide depression"
          ],
          [
           " During this time, the United States experienced deflation as prices fell, unemployment soared from 3% in 1929 to 25% in 1933, farm prices fell by half, and manufacturing output plunged by one-third"
          ],
          [
           "\n\nIn 1932, Democratic presidential nominee Franklin D"
          ],
          [
           " Roosevelt promised \"a New Deal for the American people\", coining the enduring label for his domestic policies"
          ],
          [
           " The result was a series of permanent reform programs including the Social Security program, unemployment relief and insurance, public housing, bankruptcy insurance, farm subsidies, and regulation of financial securities"
          ],
          [
           " It also provided unemployment relief through the Works Progress Administration (WPA) and for young men, the Civilian Conservation Corps"
          ],
          [
           " Large scale spending projects designed to provide private sector construction jobs and rebuild the infrastructure were under the purview of the Public Works Administration"
          ],
          [
           "\n\nState governments added new programs as well, and introduced the sales tax to pay for them"
          ],
          [
           " Ideologically, the New Deal established modern liberalism in the United States and kept the Democrats in power in Washington almost continuously for three decades, thanks to the New Deal coalition of ethnic white and Black people, blue-collar workers, and labor unions"
          ],
          [
           " The New Deal coalition won re-election for Roosevelt in 1936, 1940, and 1944"
          ],
          [
           " The Second New Deal in 1935 and 1936 brought the economy further left, building up labor unions through the Wagner Act"
          ],
          [
           " Roosevelt weakened his second term by a failed effort to pack the Supreme Court, which had been a center of conservative resistance to his programs"
          ],
          [
           " The economy essentially recovered by 1936, but had a sharp, short recession in 1937 and 1938"
          ],
          [
           " Long-term unemployment, however, remained a problem until it was solved by wartime spending"
          ],
          [
           " Most of the relief programs were dropped in the 1940s, when the conservatives regained power in Congress through the Conservative coalition"
          ],
          [
           "\nIn an effort to denounce past U"
          ],
          [
           "S"
          ],
          [
           " interventionism and create a friendly relationship with Latin America, Roosevelt announced in 1933 he would stray from asserting military force in the region"
          ],
          [
           " For Hispanics in the United States, the Depression was a difficult period, as the Mexican Repatriation resulted in the dislocation of an estimated 400,000 Mexicans and Mexican Americans"
          ],
          [
           "\n\n\n=== World War II ===\n\nDuring the Depression, the United States remained focused on domestic concerns, while democracy declined across the world and many countries fell under the control of dictators"
          ],
          [
           " Imperial Japan asserted dominance in East Asia and in the Pacific"
          ],
          [
           " Nazi Germany and Fascist Italy militarized and threatened conquests of their neighbors, while Britain and France attempted appeasement to avert another war in Europe"
          ],
          [
           " U"
          ],
          [
           "S"
          ],
          [
           " legislation in the Neutrality Acts sought to avoid foreign conflicts; however, policy clashed with increasing anti-Nazi feelings following the German invasion of Poland in September 1939 that started World War II"
          ],
          [
           "\n\nAt first, Roosevelt positioned the U"
          ],
          [
           "S"
          ],
          [
           " as the \"Arsenal of Democracy\", pledging full-scale financial and munitions support for the Allies and Lend-Lease agreements – but no military personnel"
          ],
          [
           " Japan tried to neutralize America's power in the Pacific by attacking Pearl Harbor in 1941, but instead it catalyzed American support to enter the war"
          ],
          [
           "\n\nWar fervor inspired anti-Japanese sentiment, leading to internment of Japanese Americans"
          ],
          [
           " Roosevelt's Executive Order 9066 resulted in over 120,000 Americans of Japanese descent being removed from their homes and placed in internment camps"
          ],
          [
           " Two-thirds of those interned were American citizens, and half of them were children"
          ],
          [
           "\nThe Allies – the United States, Britain, the Soviet Union, and other countries – fought against Germany in the European theater and Japan in the Pacific War"
          ],
          [
           " The U"
          ],
          [
           "S"
          ],
          [
           " gave the Allied war effort money, food, petroleum, technology, and military personnel"
          ],
          [
           " The U"
          ],
          [
           "S"
          ],
          [
           " focused on maximizing its national economic output, causing a dramatic increase in GDP, the end of unemployment, and a rise in civilian consumption, even as 40% of the GDP went to the war effort"
          ],
          [
           " A wartime production boom led to the end of the Great Depression"
          ],
          [
           " Tens of millions of workers moved into the active labor force and to higher-productivity jobs"
          ],
          [
           " Labor shortages encouraged industries to look for new sources of workers, finding new roles for women and Black people"
          ],
          [
           " Economic mobilization was managed by the War Production Board"
          ],
          [
           " Most durable goods became unavailable, and meat, clothing, and gasoline were tightly rationed"
          ],
          [
           " In industrial areas, housing was in short supply, as people lived in cramped quarters"
          ],
          [
           " Prices and wages were controlled, and Americans saved a high portion of their incomes, which led to renewed growth after the war"
          ],
          [
           "\n\nThe U"
          ],
          [
           "S"
          ],
          [
           " stopped Japanese expansion in the Pacific in 1942; after the loss of the Philippines to Japanese conquests, as well as a draw in the Battle of the Coral Sea in May, the American Navy then inflicted a decisive blow at Midway in June 1942"
          ],
          [
           " The Allied forces built up a garrison on Guadalcanal, a Pacific island formerly held by the Japanese, after the successes of the Battle of the Eastern Solomons and the Battle of Guadalcanal"
          ],
          [
           " The Japanese then stopped advancing south, and the U"
          ],
          [
           "S"
          ],
          [
           " began taking New Guinea"
          ],
          [
           " Japan also lost their invasion of the Alaskan Aleutian Islands, allowing the U"
          ],
          [
           "S"
          ],
          [
           " to begin attacking the Japanese-controlled Kuril Islands"
          ],
          [
           "\n\nAmerican ground forces assisted in the North African campaign that eventually concluded with the collapse of Fascist Italy in 1943, as Italy switched to the Allied side"
          ],
          [
           " A more significant European front was opened on D-Day, June 6, 1944, in which Allied forces invaded Nazi-occupied France from Britain"
          ],
          [
           " The Allies began pushing the Germans out of France in the Normandy campaign, breaking through the local German defenses after Operation Cobra in August"
          ],
          [
           " This also led to conflict within the German high command, and the unsuccessful July Plot"
          ],
          [
           " After French and American forces landed at the French Riviera in Operation Dragoon, Hitler allowed his army to retreat from Normandy"
          ],
          [
           " Roosevelt died in 1945, and was succeeded by Harry Truman"
          ],
          [
           " The western front stopped short of Berlin, leaving the Soviets to take it in the Battle of Berlin"
          ],
          [
           " The Nazi regime formally capitulated in May 1945, ending the war in Europe"
          ],
          [
           " \nIn the Pacific, the U"
          ],
          [
           "S"
          ],
          [
           " implemented an island hopping strategy toward Tokyo"
          ],
          [
           " The Philippines was eventually reconquered, after Japan and the United States fought in history's largest naval battle, the Battle of Leyte Gulf"
          ],
          [
           " However, the war wiped out all the development the United States invested in the Philippines, as cities and towns were completely destroyed"
          ],
          [
           " After the war, the U"
          ],
          [
           "S"
          ],
          [
           " granted the Philippines independence"
          ],
          [
           "\n\nMilitary research and development increased during the war, leading to the Manhattan Project, a secret effort to harness nuclear fission to produce atomic bombs"
          ],
          [
           " The first nuclear device ever detonated was conducted on July 16, 1945"
          ],
          [
           " Meanwhile, the U"
          ],
          [
           "S"
          ],
          [
           " established airfields for bombing runs against mainland Japan from the Mariana Islands, achieving hard-fought victories at Iwo Jima and Okinawa in 1945"
          ],
          [
           " The U"
          ],
          [
           "S"
          ],
          [
           " prepared to invade Japan's home islands when they dropped atomic bombs on the Japanese cities of Hiroshima and Nagasaki, compelling Japan to surrender and ending World War II"
          ],
          [
           " The U"
          ],
          [
           "S"
          ],
          [
           " occupied Japan (and part of Germany), and restructured Japan along American lines"
          ],
          [
           " 400,000 American military personnel and civilians were killed"
          ],
          [
           " Nuclear weapons have not been used since the war ended, and a \"long peace\" began between the global powers in era of competition that came to be known as the Cold War"
          ],
          [
           "\n\n\n== Post-war America (1945–1991) ==\n\n\n=== Economic boom and the beginning of the Cold War ===\n\n\n==== Truman administration ====\n\nIn the decades after World War II, the United States became a global influence in economic, political, military, cultural, and technological affairs"
          ],
          [
           " Following World War II, the United States emerged as one of the two dominant superpowers, the Soviet Union being the other"
          ],
          [
           " The U"
          ],
          [
           "S"
          ],
          [
           " Senate, on a bipartisan vote, approved U"
          ],
          [
           "S"
          ],
          [
           " participation in the United Nations (UN), which marked a turn away from traditional American isolationism and toward increased international involvement"
          ],
          [
           " The United States and other major Allied powers — the United Kingdom, Soviet Union, and China — became the foundation of the UN Security Council"
          ],
          [
           "\n\nAmerica wished to rescue Europe from the devastation of World War II, and to contain the expansion of communism, represented by the Soviet Union"
          ],
          [
           " U"
          ],
          [
           "S"
          ],
          [
           " foreign policy during the Cold War was built around the support of Western Europe and Japan along with the policy of containment (containing the spread of communism to countries already under that system)"
          ],
          [
           " The Truman Doctrine in 1947 was the U"
          ],
          [
           "S"
          ],
          [
           "' attempt to secure trading partners in Europe, by providing military and economic aid to Greece and Turkey to counteract the threat of communist expansion in the Balkans"
          ],
          [
           " In 1948, the United States replaced piecemeal financial aid programs with a comprehensive Marshall Plan, which pumped money into Western Europe, and removed trade barriers, while modernizing the managerial practices of businesses and governments"
          ],
          [
           " Post-war American aid to Europe totaled $25 billion, out of the U"
          ],
          [
           "S"
          ],
          [
           " GDP of $258 billion in 1948"
          ],
          [
           " Soviet head of state Joseph Stalin prevented his satellite states from participating, and from that point on, Eastern Europe, with inefficient centralized economies, fell further and further behind Western Europe in terms of economic development and prosperity"
          ],
          [
           "\nIn 1949, the United States, rejecting the long-standing policy of no military alliances in peacetime, formed the North Atlantic Treaty Organization (NATO) alliance, which continues into the 21st century"
          ],
          [
           " In response, the Soviets formed the Warsaw Pact of communist states, leading to the \"Iron Curtain\""
          ],
          [
           " In 1949, the Soviets performed their first nuclear weapon test, using intelligence they had gained from spies inside the Manhattan Project"
          ],
          [
           " This escalated the risk of nuclear warfare; the threat of mutually assured destruction, however, prevented both powers from nuclear war, and resulted the proxy wars in which the two sides did not directly confront each other"
          ],
          [
           " \n\nThe U"
          ],
          [
           "S"
          ],
          [
           " fought against communists in the Korean War and Vietnam War, and toppled left-wing governments in the third world to try to stop its spread, such as Iran in 1953 and Guatemala in 1954"
          ],
          [
           " McCarthyism was a widespread government program led by Senator Joseph McCarthy to expose communists in government and business"
          ],
          [
           " Government employees were made to prove their loyalty to America, and Hollywood was targeted by the House Un-American Activities Committee"
          ],
          [
           " J"
          ],
          [
           " Robert Oppenheimer, director of the Los Alamos Laboratory during the Manhattan Project, had his high-level security clearance revoked in 1954 over alleged communist sympathies, losing his ability to advise the top heads of government"
          ],
          [
           "\n\n\n==== Eisenhower administration ====\n\nDwight D"
          ],
          [
           " Eisenhower was elected president in 1952 in a landslide"
          ],
          [
           " He ended the Korean War, and avoided any other major conflict"
          ],
          [
           " He cut military spending by relying on advanced technology, such as nuclear weapons carried by long-range bombers and intercontinental missiles"
          ],
          [
           " He also promoted safe and fast travel across the country with the Federal-Aid Highway Act of 1956, creating the Interstate Highway System"
          ],
          [
           " After Stalin died in 1953, Eisenhower worked to obtain friendlier relationships with the Soviet Union"
          ],
          [
           " At home, he ended McCarthyism, expanded the Social Security program, and presided over a decade of bipartisan cooperation"
          ],
          [
           "\nDomestically, after 1948, America entered an economic boom"
          ],
          [
           " Americans found themselves flush with cash from wartime work, due to there being little to buy for several years"
          ],
          [
           " As a result, 60% of the American population had attained a \"middle-class\" standard of living by the mid-1950s (defined as incomes of $3,000 to $10,000 in constant dollars), compared with only 31% in the 1928 and 1929"
          ],
          [
           " Between 1947 and 1960, the average real income for American workers increased by as much as it had in the previous half-century"
          ],
          [
           " The economy allowed for an affordable lifestyle with large families; this created the baby boom, in which millions of children were born at increased rates from 1945 to 1964"
          ],
          [
           " The baby boomer demographic eventually made up 40 percent of the country"
          ],
          [
           " Many Americans moved into suburban neighborhoods"
          ],
          [
           "\n\nEisenhower promoted civil rights for African-Americans cautiously"
          ],
          [
           " In the 1954 Supreme Court decision Brown v"
          ],
          [
           " Board of Education, public school segregation was ruled unconstitutional"
          ],
          [
           " When nine Black students were threatened over their admission into all-white Little Rock Central High School, Eisenhower sent in a thousand National Guard troops to ensure peace"
          ],
          [
           " Starting in the late 1950s, institutionalized racism across the United States, but especially in the South, was increasingly challenged by the growing civil rights movement"
          ],
          [
           " The activism of Rosa Parks and Martin Luther King Jr"
          ],
          [
           " led to the boycott of segregated public buses in Montgomery, Alabama in 1955, organized by King and the Montgomery Improvement Association"
          ],
          [
           " They faced multiple acts of violence, but continued the boycott for a year, until the Supreme Court ordered the city to desegregate the buses"
          ],
          [
           " In 1957, King created the Southern Christian Leadership Conference to facilitate future protests"
          ],
          [
           "\n\nThe Soviets unexpectedly surpassed American technology in 1957 with Sputnik, the first Earth satellite"
          ],
          [
           " The R-7 missile which launched Sputnik into space could have hypothetically dropped a nuclear bomb into U"
          ],
          [
           "S"
          ],
          [
           " air space from above; new American fears regarding Soviet power began the Space Race, a competition between the two countries to prove their technological superiority through space exploration"
          ],
          [
           " In 1958, Eisenhower created the National Aeronautics and Space Administration (NASA) for this purpose, and in 1958, the U"
          ],
          [
           "S"
          ],
          [
           " launched the Explorer I satellite"
          ],
          [
           " In 1961, Eisenhower's newly elected successor, John F"
          ],
          [
           " Kennedy, announced the U"
          ],
          [
           "S"
          ],
          [
           " would land a man on the moon by the end of the decade"
          ],
          [
           " Angst about the weaknesses of American education led to large-scale federal support for science education and research"
          ],
          [
           "\n\n\n=== Civil unrest and social reforms ===\n\n\n==== Kennedy and Johnson administrations ====\n\nIn 1960, John F"
          ],
          [
           " Kennedy was elected President and his administration saw the acceleration of the country's role in the Space Race, escalation of the American role in the Vietnam War, the Bay of Pigs Invasion, and the Cuban Missile Crisis"
          ],
          [
           " President Kennedy was assassinated on November 22, 1963, leaving the nation in profound shock"
          ],
          [
           " Lyndon B"
          ],
          [
           " Johnson then became president"
          ],
          [
           "\n\nJohnson was rewarded with an electoral landslide in 1964 against conservative Barry Goldwater"
          ],
          [
           " He then secured congressional passage of his Great Society programs, dealing with civil rights, the end of legal segregation, Medicare, extension of welfare, federal aid to education at all levels, subsidies for the arts and humanities, environmental activism, and a series of programs designed to wipe out poverty"
          ],
          [
           "\n\n\n==== Civil rights and counterculture movements ====\n\nFor years, civil rights activists were victims of violence, but they would achieve great steps toward equality with Supreme Court decisions like Loving v"
          ],
          [
           " Virginia, and laws like the Civil Rights Act of 1964, the Voting Rights Act of 1965, and the Fair Housing Act of 1968"
          ],
          [
           " These ended the Jim Crow laws that legalized racial segregation between white and Black people"
          ],
          [
           " Native Americans protested federal courts, highlighting the federal government's failure to honor treaties involving them"
          ],
          [
           " One of the most outspoken Native American groups was the American Indian Movement (AIM)"
          ],
          [
           " In the 1960s, Cesar Chavez began organizing poorly paid Mexican-American farm workers in California"
          ],
          [
           " He led a five-year-long strike by grape pickers"
          ],
          [
           " Then Chávez formed the country's first successful union of farm workers, the United Farm Workers of America (UFW)"
          ],
          [
           "\n\nAmid the Cold War, the United States entered the Vietnam War, whose growing unpopularity fed already existing social movements, including those among women, minorities, and young people"
          ],
          [
           " Feminism and the environmental movement became political forces, and progress continued toward civil rights for all Americans"
          ],
          [
           " A counterculture revolution swept through the nation and much of the western world in the late sixties and early seventies, further dividing Americans in a \"culture war\" but also bringing forth more liberated social views"
          ],
          [
           " Frustrations with the seemingly slow progress of the integration movement led to the emergence of more radical politics, such as Black Power movement of the late 1960s and early 1970s"
          ],
          [
           " The summer of 1967 saw opposing philosophies in two widespread movements, the more peaceful summer of love and the radical long, hot summer, which included nationwide riots"
          ],
          [
           " Martin Luther King Jr"
          ],
          [
           " was assassinated in 1968"
          ],
          [
           " Following his death, there were further riots, and others led the movement, most notably his wife, Coretta Scott King"
          ],
          [
           " The modern gay rights movement started after the Stonewall riots in 1969"
          ],
          [
           "\nA new consciousness of the inequality of American women began sweeping the nation, starting with the 1963 publication of Betty Friedan's best-seller, The Feminine Mystique, which critiqued the American cultural idea that women could only find fulfillment through their roles as wives, mothers, and keepers of the home, arguing that women should join the workforce"
          ],
          [
           " In 1966, Friedan and others established the National Organization for Women (NOW) to advocate for women's rights"
          ],
          [
           " Protests began, and the new women's liberation movement grew in size and power, gaining much media attention"
          ],
          [
           " There were striking gains for women in medicine, law, and business, while only a few were elected to office"
          ],
          [
           " \n\nThe proposed Equal Rights Amendment to the Constitution, passed by Congress in 1972 was defeated by a conservative coalition mobilized by Phyllis Schlafly"
          ],
          [
           " However, many federal laws stablished women's equal status under the law, such as those equalizing pay, employment, education, employment opportunities, and credit between genders, ending pregnancy discrimination, and requiring organizations like NASA to admit women"
          ],
          [
           " State laws criminalized spousal abuse and marital rape, and the Supreme Court ruled that the equal protection clause of the Fourteenth Amendment applied to women"
          ],
          [
           " Social custom and consciousness began to change, accepting women's equality"
          ],
          [
           " The controversial issue of abortion, deemed by the Supreme Court as a fundamental right in Roe v"
          ],
          [
           " Wade (1973), is still a point of debate today"
          ],
          [
           "\n\n\n==== Nixon administration ====\n\nIn March 1968, Johnson announced he would not run for a second full term in office"
          ],
          [
           " This was partially because Robert F"
          ],
          [
           " Kennedy, who was against the Vietnam War, entered the Democratic primary race"
          ],
          [
           " The war was increasingly controversial after the recent Tet Offensive"
          ],
          [
           " Kennedy was assassinated in June"
          ],
          [
           " The winner of the primaries was Hubert Humphrey; his policies regarding the Vietnam War led to riots at the party's convention that year"
          ],
          [
           " Humphrey was defeated by Republican Richard Nixon, who largely continued the New Deal and Great Society programs he inherited"
          ],
          [
           " The Republican Party expanded its base throughout the South after 1968, largely due to its strength among socially conservative white Evangelical Protestants and traditionalist Roman Catholics, adding to its traditional strength in the business community and suburbs"
          ],
          [
           " The Democratic party also started moving to the right-center"
          ],
          [
           "\nNixon created the Environmental Protection Agency, opened relations with China, and attempted to gradually turn the Vietnam War effort over to the South Vietnamese forces"
          ],
          [
           " He negotiated the peace treaty in 1973 which secured the release of POWs and led to the withdrawal of U"
          ],
          [
           "S"
          ],
          [
           " troops"
          ],
          [
           " The war had cost the lives of 58,000 American troops"
          ],
          [
           " Nixon manipulated the fierce distrust between the Soviet Union and China to the advantage of the U"
          ],
          [
           "S"
          ],
          [
           ", achieving détente with both parties"
          ],
          [
           " He was also president during the U"
          ],
          [
           "S"
          ],
          [
           "' landing on the moon in 1969"
          ],
          [
           "\n\nThe Watergate scandal, involving Nixon's cover-up of his operatives' break-in into the Democratic National Committee headquarters at the Watergate office complex destroyed his political base, sent many aides to prison, and forced his resignation on August 9, 1974"
          ],
          [
           " He was succeeded by Vice President Gerald Ford, who pardoned Nixon for Watergate"
          ],
          [
           "\n\n\n==== Ford and Carter administrations ====\n\nThe Fall of Saigon on April 30, 1975, ended the Vietnam War, and resulted in North and South Vietnam being reunited"
          ],
          [
           " Communist victories in neighboring Cambodia and Laos occurred in the same year, with the fall of Cambodia's capital, Phnom Penh on April 17 and the taking of Laos's capital, Vientiane on December 2"
          ],
          [
           " In Central America, the U"
          ],
          [
           "S"
          ],
          [
           " government supported right-wing governments against left-wing groups, such as in El Salvador and Guatemala"
          ],
          [
           " In South America, they supported Argentina and Chile, who carried out Operation Condor, a campaign of assassinations of exiled political opponents by Southern Cone governments, which was created at the behest of Chilean dictator Augusto Pinochet in 1975"
          ],
          [
           "\nThe OPEC oil embargo marked a long-term economic transition since, for the first time, energy prices skyrocketed, and American factories faced serious competition from foreign automobiles, clothing, electronics, and consumer goods"
          ],
          [
           " By the late 1970s, the economy suffered an energy crisis, slow economic growth, high unemployment, and very high inflation, coupled with high-interest rates"
          ],
          [
           " The term stagflation was coined to define these trends"
          ],
          [
           " Since economists agreed on deregulation, many of the New Deal era regulations were ended, such as in transportation, banking, and telecommunications"
          ],
          [
           " Meanwhile, the first mass-market personal computers were being developed in California's Silicon Valley"
          ],
          [
           "\nJimmy Carter, running as someone who was not a part of the Washington political establishment, was elected president in 1976"
          ],
          [
           " Carter brokered the Camp David Accords between Israel and Egypt"
          ],
          [
           " In 1979, Iranian students stormed the U"
          ],
          [
           "S"
          ],
          [
           " embassy in Tehran and took 66 Americans hostage, resulting in the Iran hostage crisis"
          ],
          [
           " With the hostage crisis and continuing stagflation, Carter lost the 1980 election to the Republican Ronald Reagan"
          ],
          [
           " On January 20, 1981, minutes after Carter's term ended, the remaining U"
          ],
          [
           "S"
          ],
          [
           " captives were released"
          ],
          [
           "\n\n\n== Contemporary America (1991–present) ==\n\n\n=== Reagan era ===\n\nThe Republican Party's central leader by 1980 was president Ronald Reagan, whose conservative policies produced a major political realignment with his 1980 and 1984 landslide elections"
          ],
          [
           " Reagan's neoliberal economic policies (dubbed \"Reaganomics\"), including the implementation of the Economic Recovery Tax Act of 1981, lowered the top marginal tax rate from 70% to 28% over the course of seven years"
          ],
          [
           " Reagan continued to downsize government taxation and regulation; New Deal and Great Society programs were ended"
          ],
          [
           " The U"
          ],
          [
           "S"
          ],
          [
           " experienced a recession in 1982, but after inflation decreased, unemployment then decreased, and the economic growth rate increased from 4"
          ],
          [
           "5% in 1982 to 7"
          ],
          [
           "2% in 1984"
          ],
          [
           " However, homelessness and economic inequality also rose"
          ],
          [
           "\nThe Reagan administration's expansion of the War on Drugs led to an increase in incarceration, particularly among African Americans, with the number of people imprisoned for drug offences rising from 50,000 to 400,000 between 1980 and 1997"
          ],
          [
           " Manufacturing industries moving out of inner cities increased poverty in those areas, increasing drug dealing and contributing to the crack epidemic, which led to increased crime and incarceration"
          ],
          [
           " The government also reacted slowly to the AIDS crisis, and banned reliable information on the disease, which led to higher infection rates"
          ],
          [
           "\n\n\n=== End of the Cold War ===\n\nReagan ordered a buildup of the U"
          ],
          [
           "S"
          ],
          [
           " military, incurring additional budget deficits"
          ],
          [
           " The 1983 invasion of Grenada and 1986 bombing of Libya were popular in the U"
          ],
          [
           "S"
          ],
          [
           ", though Reagan's backing of the Contra rebels was mired in the controversy over the Iran–Contra affair"
          ],
          [
           " Reagan also introduced a complicated missile defense system known as the Strategic Defense Initiative (SDI)"
          ],
          [
           " The Soviets reacted harshly because they thought it violated the 1972 Anti-Ballistic Missile Treaty, and would upset the balance of power by giving the U"
          ],
          [
           "S"
          ],
          [
           " a major military advantage, so they stopped negotiating disarmament deals until the late 1980s"
          ],
          [
           " Historians debate over if the SDI forced Soviet leader Mikhail Gorbachev to initiate radical reforms, or whether the deterioration of the Soviet economy alone forced the reforms"
          ],
          [
           " \n\nReagan met four times with Gorbachev, and their summit conferences led to the signing of the Intermediate-Range Nuclear Forces Treaty"
          ],
          [
           " Gorbachev tried to save communism in the Soviet Union, first by ending the expensive nuclear arms race with America"
          ],
          [
           " However, the Soviet Union collapsed in 1991, ending the Cold War"
          ],
          [
           " For the remainder of the 20th century, the United States emerged as the world's sole remaining superpower and continued to intervene in international affairs during the 1990s, including the 1991 Gulf War against Iraq"
          ],
          [
           " The war started when Iraq invaded neighboring Kuwait in 1990"
          ],
          [
           " After a \"massive\", international U"
          ],
          [
           "S"
          ],
          [
           "-led offensive, Kuwait was taken back"
          ],
          [
           "\n\n\n=== Clinton administration ===\n\nFollowing his election in 1992, President Bill Clinton oversaw one of the longest periods of economic expansion and unprecedented gains in securities values"
          ],
          [
           " President Clinton worked with the Republican Congress to pass the first balanced federal budget in 30 years"
          ],
          [
           " Much of the economic boom was a side effect of the Digital Revolution, and new business opportunities created by the Internet (which started as the government project ARPANET)"
          ],
          [
           "\nAs white Democrats in the South lost dominance of the Democratic Party in the 1990s, the region was split into Democrat and Republican control, rather than mostly Democrats"
          ],
          [
           " Conservative Republicans heavily won the 1994 midterm elections in a \"Republican Revolution\" which was built around the Contract with America policy agenda"
          ],
          [
           " Newt Gingrich was chosen as House Speaker, and he would heavily influence the Republican party to engage in \"confrontational\" political speech"
          ],
          [
           " In response, in June 1995, Clinton shifted his policies more towards the center from the left"
          ],
          [
           " This did not majorly increase his approval, but rather, his leadership after the Oklahoma City bombing in April did"
          ],
          [
           " He won in the 1996 presidential elections"
          ],
          [
           " In 1998, Clinton was impeached by the House of Representatives on charges of lying under oath about a sexual relationship with White House intern Monica Lewinsky"
          ],
          [
           " He was acquitted by the Senate"
          ],
          [
           " The failure of impeachment and the Democratic gains in the 1998 election forced Gingrich to resign from Congress"
          ],
          [
           "\n\nThe close presidential election in 2000 between Governor George W"
          ],
          [
           " Bush and Al Gore helped lay the seeds for political polarization to come"
          ],
          [
           " The vote in the decisive states of New Mexico and Florida was extremely close and produced a dramatic dispute over the counting of votes"
          ],
          [
           " Bush ultimately won"
          ],
          [
           " Including 2000, the Democrats outpolled the Republicans in the national vote in every election from 1992 to 2020, except for 2004"
          ],
          [
           "\n\n\n=== George W"
          ],
          [
           " Bush administration ===\n\nOn September 11, 2001 (9/11), the United States was struck by a terrorist attack, when 19 al-Qaeda hijackers commandeered four commercial planes to be used in suicide attacks"
          ],
          [
           " Two were crashed intentionally into both Twin Towers of the World Trade Center, and the third into the Pentagon"
          ],
          [
           " The fourth plane was re-taken by the passengers and crew of the aircraft, and it was crashed into an empty field in Pennsylvania, killing everyone on board and saving whatever target the terrorists were aiming for"
          ],
          [
           " Every building of the World Trade Center partially or completely collapsed, massively damaging the surrounding area and blanketing Lower Manhattan in toxic dust clouds"
          ],
          [
           " A total of 2,977 victims died in the attacks"
          ],
          [
           " In response, on September 20, Bush announced a \"war on terror\""
          ],
          [
           "\n\nIn October 2001, the U"
          ],
          [
           "S"
          ],
          [
           " and NATO invaded Afghanistan and ousted the Taliban regime, which had harbored al-Qaeda and its leader Osama bin Laden"
          ],
          [
           " Bin Laden then escaped to Pakistan, starting a manhunt"
          ],
          [
           " The U"
          ],
          [
           "S"
          ],
          [
           " established new domestic efforts to prevent future attacks"
          ],
          [
           " The Patriot Act increased the power of government to monitor communications and removed legal restrictions on intelligence sharing between federal law enforcement agencies"
          ],
          [
           " The government's indefinite detention of terrorism suspects captured abroad at the Guantanamo Bay detention camp, a prison at the U"
          ],
          [
           "S"
          ],
          [
           " naval base in Guantanamo Bay, Cuba, led to allegations of human rights abuses and violations of international law"
          ],
          [
           " The Department of Homeland Security was created to lead federal counter-terrorism activities"
          ],
          [
           "\nIn March 2003, the U"
          ],
          [
           "S"
          ],
          [
           " launched an invasion of Iraq, claiming Iraqi dictator Saddam Hussein had weapons of mass destruction (WMDs) and the Iraqi people needed to liberated from him"
          ],
          [
           " Intelligence backing WMDs were later found to be inaccurate"
          ],
          [
           " The war led to the collapse of the Iraqi government and the eventual capture of Hussein"
          ],
          [
           " Despite some initial successes early in the invasion, the continued Iraq War fueled international protests and gradually saw domestic support decline as many people questioned if the invasion was worth the cost"
          ],
          [
           "\nIn 2005, Hurricane Katrina killed 1,800 people around New Orleans after the city's levees broke"
          ],
          [
           " In 2007, after years of violence by the Iraqi insurgency, Bush deployed more troops in a strategy dubbed \"the surge\""
          ],
          [
           " While the death toll decreased, the political stability of Iraq remained in doubt"
          ],
          [
           "\n\n\n==== Great Recession and the Obama administration ====\n\nIn December 2007, the unemployment rate rose from 5% to 10%"
          ],
          [
           " In September 2008, the United States and most of Europe entered the longest post–World War II recession, often called the \"Great Recession\""
          ],
          [
           " Multiple overlapping crises were involved, especially the housing market crisis, a subprime mortgage crisis, soaring oil prices, an automotive industry crisis, rising unemployment, and the worst financial crisis since the Great Depression"
          ],
          [
           " The financial crisis threatened the stability of the entire economy in September 2008, when Lehman Brothers failed, and other giant banks were in grave danger"
          ],
          [
           " Starting in October, the federal government lent $245 billion to financial institutions through the bipartisan Troubled Asset Relief Program"
          ],
          [
           "\nIn 2008, the unpopularity of Bush and the Iraq War, along with the financial crisis, led to the election of Barack Obama, the first multiracial president, with African-American or Kenyan ancestry"
          ],
          [
           " Following his election victory by a wide electoral margin, Obama signed into law the American Recovery and Reinvestment Act of 2009, which was a $787 billion economic stimulus aimed at helping the economy recover from the deepening recession"
          ],
          [
           " Obama, like Bush, took steps to rescue the auto industry and prevent future economic meltdowns"
          ],
          [
           " These included a bailout of General Motors and Chrysler, putting ownership temporarily in the hands of the government, and the \"cash for clunkers\" program"
          ],
          [
           "\n\nObama and the 111th Congress passed major legislation such as the Patient Protection and Affordable Care Act (informally \"Obamacare\"), the Dodd–Frank Wall Street Reform and Consumer Protection Act and the Don't Ask, Don't Tell Repeal Act"
          ],
          [
           " The employment rate began falling as the economy and labor markets experienced a recovery"
          ],
          [
           " These changes to the economic system led to the rise of new political movements, such as the conservative Tea Party movement and the liberal Occupy movement"
          ],
          [
           " The recession officially ended in June 2009, and the economy slowly began expanding"
          ],
          [
           "\nFollowing the 2010 midterm elections, which resulted in a Republican-controlled House of Representatives and a Democratic-controlled Senate, Congress presided over a period of elevated gridlock and heated debates over whether or not to raise the debt ceiling, extend tax cuts for citizens making over $250,000 annually, and many other key issues"
          ],
          [
           " These ongoing debates led to the Budget Control Act of 2011"
          ],
          [
           " The economic expansion that followed the Great Recession was the longest in U"
          ],
          [
           "S"
          ],
          [
           " history; the unemployment rate reached a 50-year low in 2019"
          ],
          [
           " Despite the strong economy, increases in the cost of living surpassed increases in wages"
          ],
          [
           " The economic expansion came to an end in early 2020, largely caused by the COVID-19 pandemic"
          ],
          [
           "\n\n\n==== Obama foreign policy, 2009-2011 ====\n\nIn 2009, Obama issued an executive order banning the use of torture, a prohibition codified into law in 2016"
          ],
          [
           " He also ordered the closure of secret CIA-run prisons overseas"
          ],
          [
           " He sought to close the Guantanamo Bay detention camp, but his efforts were stymied by Congress, which in 2011 enacted a measure blocking him from transferring any Guantanamo detainees to U"
          ],
          [
           "S"
          ],
          [
           " facilities"
          ],
          [
           " The number of inmates nonetheless was decreased"
          ],
          [
           "\n\nObama reluctantly continued the war effort in Iraq until August 2010, when he declared that combat operations had ended"
          ],
          [
           " However, 50,000 American soldiers and military personnel were kept in Iraq to work on counter-terrorism and help protect withdrawing forces until December 15, 2011, when the war was declared formally over and the last troops left the country"
          ],
          [
           " At the same time, he increased American involvement in Afghanistan, starting a surge strategy using an additional 30,000 troops, while proposing to begin withdrawing troops in 2014"
          ],
          [
           " The U"
          ],
          [
           "S"
          ],
          [
           ", with NATO, intervened in the Libyan Civil War for seven months in 2011"
          ],
          [
           " In May 2011, after nearly a decade in hiding, the founder and leader of Al Qaeda, Osama bin Laden, was killed in Pakistan in a raid conducted by U"
          ],
          [
           "S"
          ],
          [
           " naval special forces acting under President Obama's direct orders"
          ],
          [
           " While Al Qaeda was near collapse in Afghanistan, affiliated organizations continued to operate in Yemen and other remote areas as the CIA used drones to hunt down its leadership"
          ],
          [
           " In October, Obama sent troops to Central Africa to fight the Lord's Resistance Army"
          ],
          [
           "\n\n\n==== Obama administration second term ====\n\nFollowing Obama's 2012 re-election, Congressional gridlock continued as Congressional Republicans' call for the repeal of the Affordable Care Act along with other various demands, resulted in the first government shutdown since the Clinton administration, and almost led to the first default on U"
          ],
          [
           "S"
          ],
          [
           " debt since the 19th century"
          ],
          [
           " As a result of growing public frustration with both parties in Congress since the beginning of the decade, Congressional approval ratings fell to record lows"
          ],
          [
           "\nIn 2012, the Newtown school shooting in Connecticut led to unsuccessful attempts from Obama to promote gun reform"
          ],
          [
           " The Boston Marathon bombing of 2013 killed three people and injured more than 260"
          ],
          [
           " Also in 2013, NSA employee Edward Snowden leaked information regarding the NSA's widespread program of surveilling American citizens through the Internet"
          ],
          [
           " The shooting of Black teen Michael Brown by police officer Darren Wilson, and a grand jury declining to charge Wilson with murder, led to the Ferguson unrest in Missouri in 2014 and 2015"
          ],
          [
           " The U"
          ],
          [
           "S"
          ],
          [
           " also joined the international Paris Agreement on climate change"
          ],
          [
           "\n\nThe debate over the issue of rights for the LGBT community, including same-sex marriage, began to shift in favor of same-sex couples"
          ],
          [
           " In 2012, President Obama became the first president to openly support same-sex marriage"
          ],
          [
           " The Supreme Court provided federal recognition of same-sex marriages in 2013, and then legalized gay marriage nationwide with Obergefell v"
          ],
          [
           " Hodges in 2015"
          ],
          [
           "\nIn 2013, the U"
          ],
          [
           "S"
          ],
          [
           " started a counter-terrorist invention in Niger, which ended in 2024"
          ],
          [
           " The CIA also began a covert operation to train rebels in Syria fighting against the terrorist group ISIS"
          ],
          [
           " This program was publicized and expanded in 2014"
          ],
          [
           " That year, ISIS grew in scope in the Middle East, and inspired many terrorist attacks in the United States, including the 2015 San Bernardino attack"
          ],
          [
           " The U"
          ],
          [
           "S"
          ],
          [
           " and its allies began a significant military offensive against ISIS in Iraq which lasted from 2014 to 2021"
          ],
          [
           " In December 2014, Obama officially ended the combat mission in Afghanistan and promised a withdrawal of all remaining U"
          ],
          [
           "S"
          ],
          [
           " troops at the end of 2016 with the exception of the embassy guards"
          ],
          [
           "\n\n\n=== Cultural change and the COVID-19 pandemic ===\n\n\n==== Trump administration and modern social movements ====\n\nIn 2016, following a contentious election, Republican Donald Trump was elected president"
          ],
          [
           " The results of the election were called into question, and U"
          ],
          [
           "S"
          ],
          [
           " intelligence agencies concluded that associates of the Russian government interfered in the election \"to undermine public faith in the U"
          ],
          [
           "S"
          ],
          [
           " democratic process\""
          ],
          [
           " This, along with questions about potential collusion between the Trump campaign and Russian officials, led to investigations by the FBI and Congress"
          ],
          [
           " However, these reports proved to be 'seriously flawed'"
          ],
          [
           "\n\nDuring Trump's presidency, he espoused an \"America First\" ideology, placing restrictions on asylum seekers, expanding the wall on the U"
          ],
          [
           "S"
          ],
          [
           "-Mexico border, and imposing a widely controversial ban on immigration from seven Muslim-majority countries"
          ],
          [
           " Many of his executive orders and other actions were challenged in court"
          ],
          [
           " He confirmed three new Supreme Court justices (cementing a conservative majority), imposed a wide range of tariffs on Chinese products, signed the Tax Cuts and Jobs Act, and removed the U"
          ],
          [
           "S"
          ],
          [
           " from the Paris Agreement"
          ],
          [
           " In 2018, controversy erupted over the administration's \"zero tolerance\" policy towards illegal immigrants, which separated thousands of undocumented children from their parents"
          ],
          [
           " After public outcry, Trump rescinded the policy"
          ],
          [
           " In 2019, a U"
          ],
          [
           "S"
          ],
          [
           " attack caused the suicide of the leader of ISIS, Abu Bakr al-Baghdadi"
          ],
          [
           " A whistleblower complaint alleged that Trump had withheld foreign aid from Ukraine under the demand that they investigate the business dealings of the son of Joe Biden, Trump's political opponent in the 2020 election"
          ],
          [
           " Trump was then impeached for abuse of power and obstruction of congress, but he was acquitted"
          ],
          [
           "\n\nIn the 2010s and early 2020s, Americans became more politically polarized"
          ],
          [
           " The #MeToo movement gained support online, exposing alleged sexual harassment and abuse in the workplace"
          ],
          [
           " Multiple prominent celebrities were accused of misconduct or rape"
          ],
          [
           " The Black Lives Matter movement also gained support, exacerbated by police killings of multiple African-Americans"
          ],
          [
           " The 2017 Women's March against Trump's presidency was one of the largest protests in American history"
          ],
          [
           " Multiple mass shootings, including the 2016 Pulse Nightclub shooting, 2017 Las Vegas shooting, and 2018 Parkland shooting, led to increased calls for gun control and reform, such as the March for Our Lives student protest movement"
          ],
          [
           " White supremacy also grew"
          ],
          [
           " Political debate has continued over tax reform, immigration reform, income inequality, U"
          ],
          [
           "S"
          ],
          [
           " foreign policy, and Islamophobia"
          ],
          [
           "\n\n\n==== COVID-19 pandemic and civil unrest ====\n\nThe COVID-19 disease started spreading in 2019"
          ],
          [
           " On March 11, 2020, the WHO declared its spread to be a pandemic"
          ],
          [
           " Many state and local governments imposed \"stay at home\" orders to slow the spread of the virus, with the goal of reducing patient overload in hospitals"
          ],
          [
           " By the end of March, the United States had the most cases of any country, at 100,000"
          ],
          [
           " At Trump's direction, the Centers for Medicare & Medicaid Services and Centers for Disease Control released preventative guidelines for Americans"
          ],
          [
           " On April 11, the U"
          ],
          [
           "S"
          ],
          [
           " death toll became the highest in the world at 20,000, and by May 12, 2022, that number reached 1 million"
          ],
          [
           " U"
          ],
          [
           "S"
          ],
          [
           " life expectancy fell by around a year and a half in 2020 and 2021, and unemployment rates rose to the worst rates since the Great Depression"
          ],
          [
           " The biggest mass vaccination campaign in U"
          ],
          [
           "S"
          ],
          [
           " history started in December 2020, when the Pfizer-BioNTech COVID-19 vaccine started being distributed to U"
          ],
          [
           "S"
          ],
          [
           " citizens"
          ],
          [
           " By October 2022, 613 million vaccine shots had been administered to Americans"
          ],
          [
           " Many Americans joined the anti-vaccine movement"
          ],
          [
           "\n\nThe May 2020 murder of George Floyd caused mass protests and riots in many cities over police brutality, with many states calling in the National Guard"
          ],
          [
           " Many organizations attempted to rid themselves of institutionalized racism"
          ],
          [
           " 2020 was also marked by a rise in domestic terrorist threats and widespread conspiracy theories around mail-in voting and COVID-19"
          ],
          [
           " The QAnon conspiracy theory gained publicity due to greater Internet usage during the pandemic"
          ],
          [
           " Multiple major cities were hit by rioting and brawls between far-left anti-fascist affiliated groups and far-right groups such as the Proud Boys"
          ],
          [
           "\n\nDemocrat Joe Biden defeated Trump in the 2020 presidential election, the first defeat of an incumbent president since 1992"
          ],
          [
           " The election, with an exceptional amount of mail-in voting and early voting due to the pandemic, had historically high voter turnout"
          ],
          [
           " Trump then repeatedly made false claims of massive voter fraud and election rigging, leading to the January 6 United States Capitol attack by supporters of Trump and right-wing militias"
          ],
          [
           " The attack led to Trump's impeachment, as the only U"
          ],
          [
           "S"
          ],
          [
           " president to be impeached twice"
          ],
          [
           " The Senate later acquitted Trump, despite some fellow Republicans voting against him"
          ],
          [
           " Kamala Harris was inaugurated as both the first Black and first woman vice president"
          ],
          [
           "\n\n\n==== Biden administration ====\n\nIn 2021, Biden finished the withdrawal of American troops from Afghanistan which started under Trump"
          ],
          [
           " After an evacuation of over 120,000 American citizens, Afghanistan fell to the Taliban in August"
          ],
          [
           " Biden signed into law the American Rescue Plan Act of 2021; a $1"
          ],
          [
           "9 trillion stimulus bill in response to continued economic pressure from COVID-19"
          ],
          [
           " He also proposed a significant expansion of the U"
          ],
          [
           "S"
          ],
          [
           " social safety net through the Build Back Better Act, but those efforts, along with voting rights legislation, failed in Congress"
          ],
          [
           " He then signed bills regarding infrastructure, gun reform, inflation reduction, and healthcare for veterans, among other issues"
          ],
          [
           "\n\nIn the early 2020s, Republican-led states across the United States began sweeping rollbacks of LGBT rights"
          ],
          [
           " In 2022, the Supreme Court determined that abortion is not a protected right under the Constitution"
          ],
          [
           " The ruling, Dobbs v"
          ],
          [
           " Jackson, overturned Roe v"
          ],
          [
           " Wade and Planned Parenthood v"
          ],
          [
           " Casey, and sparked protests across the country"
          ],
          [
           " Biden also appointed Ketanji Brown Jackson to become the first Black woman to serve on the court"
          ],
          [
           "\nIn 2023, Trump began appearing in court as a defendant in multiple notable criminal trials, including alleged federal crimes, while he was campaigning for the 2024 presidential election"
          ],
          [
           " Meanwhile, the U"
          ],
          [
           "S"
          ],
          [
           " began protecting shipping in the Red Sea from attacks by the Yemeni Houthis"
          ],
          [
           " In 2024, Trump became the first president convicted of a crime, when he was found guilty of 34 felony counts for falsifying business documents related to his paying off of Stormy Daniels in 2016"
          ],
          [
           "\n\n\n== See also ==\n\n\n== Notes ==\n\n\n== References ==\n\n\n== Sources ==\n\"Lesson Plan on \"What Made George Washington a Good Military Leader?\"\""
          ],
          [
           " Archived from the original on June 11, 2011"
          ],
          [
           "\n\"Outline of American History – Chapter 1: Early America\""
          ],
          [
           " usa"
          ],
          [
           "usembassy"
          ],
          [
           "de"
          ],
          [
           " Archived from the original on November 20, 2016"
          ],
          [
           " Retrieved September 27, 2019"
          ],
          [
           "\nBeard, Charles A"
          ],
          [
           "; Beard, Mary Ritter; Jones, Wilfred (1927)"
          ],
          [
           " The Rise of American civilization"
          ],
          [
           " Macmillan"
          ],
          [
           "\nChenault, Mark; Ahlstrom, Rick; Motsinger, Tom (1993)"
          ],
          [
           " In the Shadow of South Mountain: The Pre-Classic Hohokam of 'La Ciudad de los Hornos', Part I and II"
          ],
          [
           "\nCoffman, Edward M"
          ],
          [
           " (1998)"
          ],
          [
           " The War to End All Wars: The American Military Experience in World War I"
          ],
          [
           "\nCogliano, Francis D"
          ],
          [
           " (2009)"
          ],
          [
           " Revolutionary America, 1763–1815: A Political History (2nd ed"
          ],
          [
           ")"
          ],
          [
           " Routledge"
          ],
          [
           " ISBN 978-0-415-96486-9"
          ],
          [
           "\nCooper, John Milton (2001)"
          ],
          [
           " Breaking the Heart of the World: Woodrow Wilson and the Fight for the League of Nations"
          ],
          [
           " Cambridge University Press"
          ],
          [
           " ISBN 9780521807869"
          ],
          [
           "\nCorbett, P"
          ],
          [
           " Scott; Janssen, Volker; Lund, John M"
          ],
          [
           "; Pfannestiel, Todd; Waskiewicz, Sylvie; Vickery, Paul (June 26, 2020)"
          ],
          [
           " \"3"
          ],
          [
           "3 English settlements in America"
          ],
          [
           " The Chesapeake colonies: Virginia and Maryland"
          ],
          [
           " The rise of slavery in the Chesapeake Bay Colonies\""
          ],
          [
           " U"
          ],
          [
           "S"
          ],
          [
           " history"
          ],
          [
           " OpenStax"
          ],
          [
           " Archived from the original on August 8, 2020"
          ],
          [
           " Retrieved August 8, 2020"
          ],
          [
           "\nDangerfield, George (1963)"
          ],
          [
           " The Era of Good Feelings: America Comes of Age in the Period of Monroe and Adams Between the War of 1812, and the Ascendancy of Jackson"
          ],
          [
           "\nDay, A"
          ],
          [
           " Grove (1940)"
          ],
          [
           " Coronado's Quest: The Discovery of the Southwestern States"
          ],
          [
           " Archived from the original on July 26, 2012"
          ],
          [
           "\nGaddis, John Lewis (2005)"
          ],
          [
           " The Cold War: A New History"
          ],
          [
           "\nGaddis, John Lewis (1989)"
          ],
          [
           " The Long Peace: Inquiries Into the History of the Cold War"
          ],
          [
           "\nGaddis, John Lewis (1972)"
          ],
          [
           " The United States and the Origins of the Cold War, 1941–1947"
          ],
          [
           " Columbia University Press"
          ],
          [
           " ISBN 9780231122399"
          ],
          [
           "\nGoodman, Paul"
          ],
          [
           " The First American Party System"
          ],
          [
           " in Chambers, William Nisbet; Burnham, Walter Dean, eds"
          ],
          [
           " (1967)"
          ],
          [
           " The American Party Systems: Stages of Political Development"
          ],
          [
           "\nGreene, John Robert (1995)"
          ],
          [
           " The Presidency of Gerald R"
          ],
          [
           " Ford"
          ],
          [
           "\nGreene, Jack P"
          ],
          [
           " & Pole, J"
          ],
          [
           " R"
          ],
          [
           ", eds"
          ],
          [
           " (2003)"
          ],
          [
           " A Companion to the American Revolution (2nd ed"
          ],
          [
           ")"
          ],
          [
           " Wiley"
          ],
          [
           " ISBN 9781405116749"
          ],
          [
           "\nGuelzo, Allen C"
          ],
          [
           " (2012)"
          ],
          [
           " \"Chapter 3–4\""
          ],
          [
           " Fateful Lightning: A New History of the Civil War and Reconstruction"
          ],
          [
           " Oxford University Press, USA"
          ],
          [
           " ISBN 9780199843282"
          ],
          [
           "\nGuelzo, Allen C"
          ],
          [
           " (2006)"
          ],
          [
           " Lincoln's Emancipation Proclamation: The End of Slavery in America"
          ],
          [
           "\nHenretta, James A"
          ],
          [
           " (2007)"
          ],
          [
           " \"History of Colonial America\""
          ],
          [
           " Encarta Online Encyclopedia"
          ],
          [
           " Archived from the original on September 23, 2009"
          ],
          [
           "\nHine, Robert V"
          ],
          [
           "; Faragher, John Mack (2000)"
          ],
          [
           " The American West: A New Interpretive History"
          ],
          [
           " Yale University Press"
          ],
          [
           "\nHowe, Daniel Walker (2009)"
          ],
          [
           " What Hath God Wrought: The Transformation of America, 1815–1848"
          ],
          [
           " Oxford History of the United States"
          ],
          [
           " p"
          ],
          [
           " 798"
          ],
          [
           " ISBN 9780199726578"
          ],
          [
           "\nJacobs, Jaap (2009)"
          ],
          [
           " The Colony of New Netherland: A Dutch Settlement in Seventeenth-Century America (2nd ed"
          ],
          [
           ")"
          ],
          [
           " Cornell University Press"
          ],
          [
           " Archived from the original on July 29, 2012"
          ],
          [
           "\nJensen, Richard J"
          ],
          [
           "; Davidann, Jon Thares; Sugital, Yoneyuki, eds"
          ],
          [
           " (2003)"
          ],
          [
           " Trans-Pacific relations: America, Europe, and Asia in the twentieth century"
          ],
          [
           " Greenwood"
          ],
          [
           "\nKennedy, David M"
          ],
          [
           " (1999)"
          ],
          [
           " Freedom from Fear: The American People in Depression and War, 1929–1945"
          ],
          [
           " Oxford History of the United States"
          ],
          [
           "\nKennedy, David M"
          ],
          [
           "; Cohen, Lizabeth; Bailey, Thomas A"
          ],
          [
           " (2002)"
          ],
          [
           " The American Pageant: A History of the Republic (12th ed"
          ],
          [
           ")"
          ],
          [
           " Boston: Houghton Mifflin"
          ],
          [
           " ISBN 9780618103492"
          ],
          [
           "\nMiddleton, Richard; Lombard, Anne (2011)"
          ],
          [
           " Colonial America: A History to 1763"
          ],
          [
           " Wiley"
          ],
          [
           " ISBN 9781405190046"
          ],
          [
           "\nMilkis, Sidney M"
          ],
          [
           "; Mileur, Jerome M"
          ],
          [
           ", eds"
          ],
          [
           " (2002)"
          ],
          [
           " The New Deal and the Triumph of Liberalism"
          ],
          [
           "\nMiller, John C"
          ],
          [
           " (1960)"
          ],
          [
           " The Federalist Era: 1789–1801"
          ],
          [
           " Harper & Brothers"
          ],
          [
           "\nNorton, Mary Beth; et al"
          ],
          [
           " (2011)"
          ],
          [
           " A People and a Nation, Volume I: to 1877 (9th ed"
          ],
          [
           ")"
          ],
          [
           " Houghton Mifflin"
          ],
          [
           " ISBN 9780495916550"
          ],
          [
           "\nOgawa, Dennis M"
          ],
          [
           "; Fox, Evarts C"
          ],
          [
           " Jr"
          ],
          [
           " (1991)"
          ],
          [
           " Japanese Americans, from Relocation to Redress"
          ],
          [
           "\nPatterson, James T"
          ],
          [
           " (1997)"
          ],
          [
           " Grand Expectations: The United States, 1945–1974"
          ],
          [
           " Oxford History of the United States"
          ],
          [
           "\nRable, George C"
          ],
          [
           " (2007)"
          ],
          [
           " But There Was No Peace: The Role of Violence in the Politics of Reconstruction"
          ],
          [
           "\nRiley, Glenda (2001)"
          ],
          [
           " Inventing the American Woman: An Inclusive History"
          ],
          [
           "\nSavelle, Max (2005) [1948]"
          ],
          [
           " Seeds of Liberty: The Genesis of the American Mind"
          ],
          [
           " Kessinger Publishing"
          ],
          [
           " pp"
          ],
          [
           " 185–90"
          ],
          [
           " ISBN 9781419107078"
          ],
          [
           "\nShlaes, Amity (2008)"
          ],
          [
           " The Forgotten Man: A New History of the Great Depression"
          ],
          [
           " New York City, U"
          ],
          [
           "S"
          ],
          [
           ": HarperPerennial"
          ],
          [
           " ISBN 978-0-06-093642-6"
          ],
          [
           "\nStagg, J"
          ],
          [
           " C"
          ],
          [
           " A"
          ],
          [
           " (1983)"
          ],
          [
           " Mr Madison's War: Politics, Diplomacy and Warfare in the Early American Republic, 1783–1830"
          ],
          [
           " Princeton University Press"
          ],
          [
           " ISBN 0691047022"
          ],
          [
           "\nStagg, J"
          ],
          [
           " C"
          ],
          [
           " A"
          ],
          [
           " (2012)"
          ],
          [
           " The War of 1812: Conflict for a Continent"
          ],
          [
           "\nStannard, David E"
          ],
          [
           " (1993)"
          ],
          [
           " American Holocaust: The Conquest of the New World"
          ],
          [
           " Oxford University Press, USA"
          ],
          [
           " ISBN 978-0-19-508557-0"
          ],
          [
           "\nStanley, Peter W"
          ],
          [
           " (1974)"
          ],
          [
           " A Nation in the Making: The Philippines and the United States, 1899–1921"
          ],
          [
           " pp"
          ],
          [
           " 269–272"
          ],
          [
           "\nThornton, Russell (1991)"
          ],
          [
           " \"The Demography of the Trail of Tears Period: A New Estimate of Cherokee Population Losses\""
          ],
          [
           " In William L"
          ],
          [
           " Anderson (ed"
          ],
          [
           ")"
          ],
          [
           " Cherokee Removal: Before and After"
          ],
          [
           "{{cite book}}:  CS1 maint: numeric names: authors list (link)\nTooker E (1990)"
          ],
          [
           " \"The United States Constitution and the Iroquois League\""
          ],
          [
           " In Clifton JA (ed"
          ],
          [
           ")"
          ],
          [
           " The Invented Indian: Cultural Fictions and Government Policies"
          ],
          [
           " Transaction Publishers"
          ],
          [
           " pp"
          ],
          [
           " 107–128"
          ],
          [
           " ISBN 9781560007456"
          ],
          [
           " Retrieved November 24, 2010"
          ],
          [
           "\nvan Dijk, Ruud; et al"
          ],
          [
           " (2013)"
          ],
          [
           " Encyclopedia of the Cold War"
          ],
          [
           " Routledge"
          ],
          [
           " pp"
          ],
          [
           " 863–64"
          ],
          [
           " ISBN 9781135923112"
          ],
          [
           "\nVann Woodward, C"
          ],
          [
           " (1974)"
          ],
          [
           " The Strange Career of Jim Crow (3rd ed"
          ],
          [
           ")"
          ],
          [
           "\nWilentz, Sean (2008)"
          ],
          [
           " The Age of Reagan: A History, 1974–2008"
          ],
          [
           " Harper"
          ],
          [
           " ISBN 9780060744809"
          ],
          [
           "\nWood, Gordon S"
          ],
          [
           " (2009)"
          ],
          [
           " Empire of Liberty: A History of the Early Republic, 1789–1815"
          ],
          [
           " Oxford History of the United States"
          ],
          [
           " Oxford University Press"
          ],
          [
           " ISBN 9780195039146"
          ],
          [
           "\nZinn, Howard (2003)"
          ],
          [
           " A People's History of the United States"
          ],
          [
           " HarperPerennial Modern Classics"
          ],
          [
           " ISBN 9780060528423"
          ],
          [
           "\nZophy, Angela Howard, ed"
          ],
          [
           " (2000)"
          ],
          [
           " Handbook of American Women's History (2nd ed"
          ],
          [
           ")"
          ],
          [
           " Garland"
          ],
          [
           " ISBN 9780824087449"
          ],
          [
           "\n\n\n== External links ==\n\n\"Encyclopedia of American Studies\""
          ],
          [
           "\n\"US History map animation\""
          ],
          [
           " Houston Institute for Culture"
          ],
          [
           " Archived from the original on January 17, 2013"
          ],
          [
           " Retrieved July 24, 2011"
          ],
          [
           "\n\"Edsitement, History & Social Studies\""
          ],
          [
           " National Endowment for the Humanities"
          ],
          [
           " Archived from the original on August 26, 2013"
          ],
          [
           "\n\"The Gilder Lehrman Institute of American History\""
          ],
          [
           "\n\"BackStory\""
          ],
          [
           ", American history public radio show hosted by Ed Ayers, Brian Balogh, and Peter Onuf"
          ]
         ],
         "hovertemplate": "Component 1=%{x}<br>Component 2=%{y}<br>text=%{customdata[0]}<br>cluster=%{marker.color}<extra></extra>",
         "legendgroup": "",
         "marker": {
          "color": [
           0,
           0,
           0,
           0,
           1,
           1,
           0,
           1,
           2,
           3,
           4,
           5,
           1,
           1,
           6,
           0,
           4,
           4,
           4,
           4,
           7,
           4,
           0,
           8,
           4,
           9,
           7,
           10,
           7,
           9,
           9,
           9,
           9,
           4,
           7,
           9,
           9,
           11,
           0,
           0,
           0,
           0,
           0,
           0,
           0,
           0,
           0,
           0,
           4,
           0,
           0,
           0,
           0,
           0,
           0,
           0,
           0,
           0,
           0,
           0,
           0,
           0,
           0,
           0,
           0,
           0,
           0,
           0,
           12,
           0,
           0,
           0,
           0,
           0,
           0,
           0,
           0,
           0,
           0,
           0,
           4,
           0,
           0,
           0,
           0,
           0,
           0,
           0,
           0,
           0,
           0,
           0,
           0,
           0,
           3,
           0,
           0,
           0,
           -1,
           13,
           0,
           0,
           0,
           0,
           0,
           0,
           0,
           0,
           0,
           14,
           3,
           14,
           -1,
           0,
           0,
           0,
           0,
           0,
           0,
           0,
           0,
           0,
           0,
           0,
           0,
           0,
           15,
           15,
           16,
           0,
           0,
           0,
           0,
           0,
           0,
           0,
           0,
           0,
           17,
           0,
           0,
           0,
           0,
           0,
           18,
           0,
           0,
           0,
           0,
           19,
           0,
           0,
           0,
           0,
           0,
           0,
           0,
           0,
           0,
           20,
           0,
           0,
           0,
           0,
           0,
           0,
           0,
           0,
           0,
           0,
           0,
           0,
           0,
           0,
           0,
           0,
           20,
           0,
           0,
           0,
           0,
           0,
           0,
           0,
           20,
           21,
           22,
           4,
           20,
           5,
           0,
           0,
           20,
           0,
           0,
           0,
           0,
           0,
           0,
           4,
           4,
           1,
           18,
           1,
           0,
           1,
           23,
           20,
           0,
           0,
           0,
           0,
           0,
           1,
           7,
           0,
           0,
           1,
           1,
           1,
           1,
           1,
           1,
           1,
           4,
           4,
           1,
           4,
           1,
           4,
           1,
           4,
           5,
           -1,
           2,
           2,
           2,
           2,
           2,
           2,
           2,
           2,
           -1,
           3,
           5,
           2,
           4,
           7,
           1,
           0,
           0,
           0,
           0,
           4,
           5,
           4,
           5,
           1,
           20,
           24,
           25,
           26,
           7,
           4,
           4,
           1,
           4,
           20,
           3,
           4,
           4,
           4,
           1,
           4,
           1,
           4,
           -1,
           1,
           1,
           20,
           4,
           4,
           11,
           4,
           0,
           14,
           0,
           4,
           14,
           27,
           4,
           20,
           4,
           28,
           21,
           21,
           22,
           20,
           1,
           14,
           6,
           0,
           4,
           4,
           4,
           4,
           17,
           1,
           0,
           1,
           29,
           29,
           9,
           1,
           1,
           0,
           0,
           2,
           24,
           2,
           2,
           1,
           1,
           4,
           23,
           1,
           1,
           4,
           4,
           4,
           4,
           4,
           14,
           4,
           3,
           -1,
           3,
           4,
           4,
           20,
           4,
           4,
           4,
           4,
           4,
           4,
           4,
           0,
           28,
           0,
           4,
           0,
           4,
           4,
           30,
           30,
           0,
           0,
           0,
           6,
           0,
           0,
           6,
           31,
           32,
           32,
           31,
           4,
           4,
           4,
           4,
           26,
           14,
           1,
           4,
           4,
           14,
           33,
           26,
           14,
           0,
           34,
           0,
           35,
           14,
           36,
           33,
           14,
           -1,
           0,
           14,
           35,
           14,
           4,
           26,
           14,
           3,
           3,
           4,
           4,
           4,
           15,
           4,
           37,
           4,
           20,
           4,
           4,
           4,
           4,
           4,
           4,
           4,
           15,
           15,
           4,
           4,
           4,
           0,
           0,
           0,
           4,
           4,
           4,
           4,
           4,
           4,
           4,
           4,
           4,
           4,
           4,
           4,
           4,
           38,
           4,
           14,
           4,
           4,
           4,
           4,
           2,
           14,
           2,
           1,
           25,
           4,
           4,
           0,
           4,
           2,
           2,
           2,
           39,
           14,
           10,
           2,
           17,
           2,
           2,
           4,
           4,
           3,
           2,
           2,
           1,
           4,
           19,
           4,
           2,
           4,
           2,
           2,
           2,
           20,
           8,
           7,
           40,
           14,
           1,
           2,
           2,
           41,
           2,
           4,
           42,
           7,
           4,
           20,
           4,
           4,
           7,
           4,
           4,
           4,
           4,
           4,
           4,
           4,
           43,
           4,
           6,
           0,
           0,
           20,
           4,
           4,
           4,
           43,
           4,
           44,
           1,
           4,
           4,
           4,
           20,
           4,
           -1,
           45,
           37,
           7,
           0,
           0,
           0,
           0,
           0,
           4,
           4,
           4,
           4,
           4,
           4,
           4,
           26,
           7,
           20,
           4,
           4,
           7,
           40,
           4,
           4,
           4,
           46,
           4,
           4,
           4,
           4,
           4,
           40,
           4,
           26,
           14,
           9,
           4,
           7,
           7,
           7,
           20,
           26,
           14,
           0,
           26,
           14,
           30,
           9,
           9,
           2,
           3,
           9,
           1,
           4,
           4,
           7,
           9,
           -1,
           9,
           9,
           -1,
           20,
           4,
           4,
           4,
           4,
           4,
           4,
           4,
           4,
           4,
           4,
           4,
           4,
           46,
           9,
           9,
           26,
           14,
           9,
           -1,
           41,
           -1,
           -1,
           19,
           14,
           10,
           17,
           9,
           9,
           9,
           4,
           9,
           36,
           7,
           7,
           15,
           4,
           4,
           4,
           4,
           47,
           47,
           44,
           4,
           7,
           7,
           7,
           7,
           7,
           44,
           7,
           7,
           7,
           7,
           7,
           4,
           7,
           7,
           7,
           7,
           7,
           7,
           -1,
           14,
           9,
           48,
           7,
           9,
           9,
           39,
           14,
           9,
           26,
           14,
           9,
           9,
           48,
           48,
           48,
           9,
           26,
           14,
           7,
           26,
           14,
           7,
           7,
           34,
           34,
           7,
           8,
           0,
           7,
           26,
           14,
           9,
           9,
           -1,
           14,
           9,
           9,
           14,
           9,
           9,
           9,
           9,
           9,
           9,
           7,
           9,
           9,
           49,
           14,
           19,
           9,
           9,
           26,
           14,
           -1,
           9,
           9,
           50,
           14,
           9,
           26,
           14,
           9,
           26,
           14,
           9,
           42,
           9,
           20,
           9,
           26,
           14,
           51,
           14,
           9,
           9,
           9,
           39,
           14,
           9,
           19,
           14,
           9,
           52,
           52,
           14,
           -1,
           9,
           9,
           9,
           9,
           9,
           26,
           14,
           53,
           36,
           36,
           54,
           9,
           20,
           7,
           9,
           9,
           7,
           9,
           7,
           7,
           0,
           7,
           7,
           7,
           7,
           34,
           4,
           38,
           4,
           55,
           4,
           56,
           55,
           55,
           4,
           9,
           9,
           14,
           9,
           9,
           14,
           9,
           7,
           26,
           14,
           9,
           4,
           20,
           9,
           7,
           10,
           57,
           7,
           7,
           20,
           4,
           4,
           4,
           15,
           58,
           55,
           58,
           4,
           4,
           4,
           4,
           4,
           56,
           7,
           4,
           4,
           4,
           4,
           4,
           4,
           7,
           4,
           38,
           4,
           38,
           4,
           20,
           26,
           7,
           53,
           7,
           7,
           7,
           4,
           4,
           9,
           19,
           14,
           17,
           42,
           9,
           14,
           33,
           19,
           14,
           9,
           9,
           7,
           20,
           9,
           49,
           14,
           53,
           53,
           7,
           7,
           -1,
           7,
           0,
           7,
           59,
           19,
           14,
           53,
           7,
           7,
           14,
           19,
           20,
           7,
           7,
           26,
           14,
           7,
           60,
           60,
           61,
           61,
           61,
           7,
           20,
           14,
           7,
           53,
           14,
           59,
           9,
           9,
           14,
           9,
           9,
           9,
           9,
           9,
           9,
           53,
           26,
           14,
           53,
           20,
           7,
           7,
           4,
           7,
           7,
           7,
           7,
           7,
           51,
           19,
           7,
           7,
           4,
           7,
           57,
           7,
           20,
           53,
           53,
           53,
           53,
           53,
           53,
           26,
           14,
           53,
           53,
           26,
           14,
           11,
           62,
           53,
           14,
           53,
           62,
           26,
           14,
           53,
           63,
           53,
           53,
           53,
           53,
           53,
           20,
           7,
           7,
           7,
           7,
           7,
           7,
           7,
           7,
           7,
           7,
           4,
           7,
           7,
           7,
           7,
           14,
           7,
           7,
           11,
           20,
           -1,
           51,
           14,
           17,
           19,
           53,
           53,
           53,
           26,
           14,
           53,
           53,
           14,
           62,
           53,
           53,
           7,
           14,
           -1,
           7,
           64,
           53,
           51,
           64,
           26,
           14,
           65,
           38,
           38,
           38,
           37,
           26,
           14,
           11,
           53,
           19,
           53,
           26,
           14,
           53,
           53,
           14,
           19,
           20,
           7,
           14,
           63,
           14,
           66,
           51,
           63,
           51,
           14,
           51,
           64,
           7,
           14,
           65,
           51,
           51,
           26,
           14,
           53,
           51,
           51,
           67,
           64,
           64,
           4,
           64,
           64,
           4,
           51,
           14,
           68,
           20,
           11,
           61,
           11,
           7,
           26,
           14,
           11,
           39,
           14,
           7,
           11,
           14,
           11,
           14,
           17,
           11,
           4,
           64,
           4,
           11,
           11,
           4,
           7,
           7,
           51,
           51,
           14,
           51,
           51,
           69,
           20,
           53,
           7,
           7,
           19,
           14,
           7,
           7,
           67,
           38,
           38,
           38,
           38,
           64,
           69,
           51,
           50,
           14,
           53,
           51,
           20,
           70,
           27,
           17,
           26,
           17,
           70,
           70,
           37,
           37,
           27,
           17,
           37,
           0,
           37,
           71,
           27,
           37,
           71,
           27,
           72,
           17,
           73,
           37,
           27,
           74,
           75,
           37,
           37,
           37,
           66,
           27,
           0,
           27,
           39,
           14,
           17,
           -1,
           70,
           70,
           37,
           76,
           66,
           71,
           -1,
           70,
           37,
           27,
           37,
           27,
           37,
           27,
           74,
           75,
           37,
           27,
           37,
           71,
           27,
           37,
           44,
           17,
           37,
           37,
           17,
           77,
           71,
           27,
           72,
           17,
           75,
           37,
           71,
           66,
           27,
           74,
           75,
           37,
           71,
           76,
           37,
           71,
           27,
           16,
           70,
           37,
           37,
           27,
           74,
           37,
           27,
           78,
           45,
           13,
           75,
           37,
           27,
           72,
           74,
           70,
           37,
           37,
           71,
           27,
           17,
           37,
           71,
           27,
           78,
           37,
           37,
           71,
           27,
           72,
           79,
           75,
           37,
           27,
           17,
           75,
           37,
           37,
           77,
           71,
           27,
           37,
           71,
           27,
           79,
           37,
           71,
           27,
           72,
           79,
           75,
           37,
           37,
           54,
           71,
           34,
           37,
           71,
           27,
           78,
           37,
           71,
           27,
           37,
           27,
           37,
           27,
           79,
           45,
           13,
           75,
           37,
           27,
           12,
           14,
           80,
           73,
           37,
           25,
           54,
           71,
           27,
           74,
           75,
           37,
           25,
           54,
           71,
           27,
           37,
           71,
           27,
           74,
           73,
           37,
           71,
           27,
           45,
           13,
           37,
           27,
           37,
           37,
           72,
           34,
           20,
           27,
           37,
           72,
           27,
           79,
           45,
           13,
           75,
           70,
           37,
           71,
           27,
           17,
           45,
           13,
           75,
           37,
           71,
           27,
           72,
           37,
           27,
           17,
           75,
           37,
           71,
           27,
           78,
           74,
           75,
           37,
           78,
           80,
           75,
           37,
           71,
           27,
           72,
           17,
           75,
           20,
           27,
           16,
           70,
           70,
           68,
           74,
           70,
           16,
           66,
           16
          ],
          "coloraxis": "coloraxis",
          "symbol": "circle"
         },
         "mode": "markers",
         "name": "",
         "showlegend": false,
         "type": "scattergl",
         "x": [
          44.440269470214844,
          43.70193862915039,
          38.125885009765625,
          26.913759231567383,
          23.098264694213867,
          22.670177459716797,
          32.51652145385742,
          25.97278594970703,
          28.037307739257812,
          18.042997360229492,
          22.894346237182617,
          24.31713104248047,
          23.321422576904297,
          24.644142150878906,
          38.76401901245117,
          28.53354263305664,
          19.05169677734375,
          17.152618408203125,
          17.001811981201172,
          9.950965881347656,
          8.70936393737793,
          11.220179557800293,
          27.8613224029541,
          35.72698211669922,
          6.754508018493652,
          11.404234886169434,
          -2.178006172180176,
          -38.6176643371582,
          1.6925647258758545,
          11.101709365844727,
          9.56019115447998,
          6.737895965576172,
          4.247387409210205,
          9.382563591003418,
          -0.8500689268112183,
          5.622619152069092,
          3.8067002296447754,
          -5.8516716957092285,
          44.090267181396484,
          45.09849548339844,
          45.602760314941406,
          44.66202926635742,
          44.096126556396484,
          43.519378662109375,
          46.224090576171875,
          46.5351448059082,
          47.66581344604492,
          46.421932220458984,
          9.876683235168457,
          46.970672607421875,
          48.40250778198242,
          46.572486877441406,
          49.40544509887695,
          49.05429458618164,
          46.04562759399414,
          45.806800842285156,
          48.65070724487305,
          46.72138214111328,
          44.12677764892578,
          48.304351806640625,
          49.04866409301758,
          48.45264434814453,
          43.461002349853516,
          48.683372497558594,
          37.61549758911133,
          46.47191619873047,
          43.61133575439453,
          47.171688079833984,
          -42.01521301269531,
          30.22136688232422,
          50.90366744995117,
          47.96449279785156,
          46.91621398925781,
          50.68769073486328,
          50.26021957397461,
          43.77706527709961,
          49.366573333740234,
          47.2475471496582,
          50.25443649291992,
          37.07624435424805,
          21.7838134765625,
          43.87602615356445,
          49.335697174072266,
          36.280948638916016,
          36.256309509277344,
          43.623382568359375,
          42.77155685424805,
          42.600120544433594,
          41.417442321777344,
          43.273834228515625,
          44.1297492980957,
          40.94548416137695,
          45.0970458984375,
          33.38435745239258,
          15.801128387451172,
          42.730262756347656,
          43.783348083496094,
          44.053802490234375,
          41.598140716552734,
          -42.664485931396484,
          41.61289978027344,
          42.54643630981445,
          39.60773468017578,
          33.9737663269043,
          33.840328216552734,
          33.49946212768555,
          32.70417785644531,
          31.206880569458008,
          41.378929138183594,
          -47.246883392333984,
          15.854588508605957,
          -47.11863708496094,
          -40.37131881713867,
          39.74946594238281,
          40.50008010864258,
          40.23237991333008,
          40.54673385620117,
          39.691402435302734,
          41.41279602050781,
          37.725276947021484,
          33.19462966918945,
          36.17926788330078,
          31.333845138549805,
          35.41486358642578,
          30.80501365661621,
          35.17616271972656,
          11.208131790161133,
          14.635405540466309,
          -24.159868240356445,
          33.81919479370117,
          37.16477966308594,
          36.987396240234375,
          30.893714904785156,
          36.62535858154297,
          36.17091751098633,
          40.90532684326172,
          38.61487579345703,
          40.14509582519531,
          -42.692378997802734,
          36.62871551513672,
          35.94192886352539,
          37.45716094970703,
          41.08430480957031,
          38.89315414428711,
          -21.636837005615234,
          33.02509307861328,
          28.710582733154297,
          37.851165771484375,
          34.6654052734375,
          -19.585506439208984,
          26.585355758666992,
          29.754074096679688,
          33.95595169067383,
          40.91938781738281,
          32.793243408203125,
          37.098941802978516,
          38.68022537231445,
          27.9840030670166,
          36.67831802368164,
          25.38148307800293,
          37.50535202026367,
          37.825801849365234,
          34.55704879760742,
          36.46629333496094,
          35.179683685302734,
          35.600364685058594,
          36.66384506225586,
          33.08843231201172,
          31.858917236328125,
          29.54644012451172,
          29.261497497558594,
          33.180511474609375,
          36.547237396240234,
          35.33195495605469,
          30.180395126342773,
          29.736713409423828,
          24.86446762084961,
          35.4062385559082,
          28.691829681396484,
          30.43140983581543,
          32.522525787353516,
          28.354793548583984,
          33.599815368652344,
          35.41932678222656,
          18.290145874023438,
          14.335022926330566,
          15.190340995788574,
          16.796104431152344,
          24.402875900268555,
          24.495365142822266,
          32.38044738769531,
          28.668577194213867,
          23.59023094177246,
          25.956329345703125,
          24.751970291137695,
          24.427797317504883,
          26.600271224975586,
          38.391605377197266,
          25.424692153930664,
          22.235551834106445,
          21.804485321044922,
          17.815319061279297,
          -21.418567657470703,
          16.488739013671875,
          26.045879364013672,
          16.246196746826172,
          12.033740997314453,
          22.627504348754883,
          31.327192306518555,
          28.09303855895996,
          31.975465774536133,
          32.24172592163086,
          31.009498596191406,
          19.332195281982422,
          9.663955688476562,
          31.52109146118164,
          29.232860565185547,
          23.62680435180664,
          21.72490119934082,
          22.319517135620117,
          22.635406494140625,
          22.25658416748047,
          21.173994064331055,
          24.148529052734375,
          20.62612533569336,
          21.059711456298828,
          21.497957229614258,
          16.0916690826416,
          25.55862808227539,
          21.13077735900879,
          20.69057846069336,
          22.98189926147461,
          25.8580265045166,
          13.59134578704834,
          28.083532333374023,
          28.35771369934082,
          28.59905433654785,
          27.859323501586914,
          27.193994522094727,
          25.854738235473633,
          26.351051330566406,
          27.361766815185547,
          26.705110549926758,
          17.63871955871582,
          25.6567325592041,
          28.24591064453125,
          21.774965286254883,
          -2.7108559608459473,
          19.299835205078125,
          28.80135154724121,
          38.73100280761719,
          33.29193878173828,
          32.88689422607422,
          13.02512264251709,
          24.294981002807617,
          22.339948654174805,
          24.41368865966797,
          25.865297317504883,
          22.794145584106445,
          23.319581985473633,
          -57.6822509765625,
          -31.409812927246094,
          8.6568603515625,
          12.675649642944336,
          13.108871459960938,
          23.23508071899414,
          20.935626983642578,
          21.094196319580078,
          18.392221450805664,
          10.524239540100098,
          12.59766960144043,
          12.702859878540039,
          20.272911071777344,
          20.0926513671875,
          20.401042938232422,
          9.891748428344727,
          16.869956970214844,
          20.419832229614258,
          21.457406997680664,
          22.597814559936523,
          17.946964263916016,
          21.276369094848633,
          -6.136811256408691,
          20.072494506835938,
          24.533039093017578,
          -51.83047866821289,
          26.98694610595703,
          20.677410125732422,
          -51.9932975769043,
          -20.446229934692383,
          19.805343627929688,
          18.119884490966797,
          17.39773941040039,
          26.567180633544922,
          14.5037202835083,
          14.216986656188965,
          15.115460395812988,
          21.20123863220215,
          24.123676300048828,
          -49.96229553222656,
          37.06450271606445,
          40.53663635253906,
          12.760467529296875,
          12.630219459533691,
          12.263662338256836,
          21.311567306518555,
          -42.77042007446289,
          18.981185913085938,
          29.36753273010254,
          21.007980346679688,
          19.622011184692383,
          19.220874786376953,
          7.108618259429932,
          18.85433578491211,
          20.88197898864746,
          31.79165267944336,
          35.0568962097168,
          29.659263610839844,
          22.859874725341797,
          27.539329528808594,
          25.479951858520508,
          20.50632667541504,
          21.03849983215332,
          10.930646896362305,
          11.870019912719727,
          18.659286499023438,
          19.01711082458496,
          20.2992000579834,
          10.372517585754395,
          14.202045440673828,
          14.041116714477539,
          12.062154769897461,
          -51.512630462646484,
          10.480958938598633,
          16.83622169494629,
          7.7639031410217285,
          16.57565689086914,
          14.48097038269043,
          12.722338676452637,
          20.482818603515625,
          10.209437370300293,
          10.88487434387207,
          13.917989730834961,
          23.714847564697266,
          8.35830307006836,
          11.285956382751465,
          9.611351013183594,
          32.87645721435547,
          27.097579956054688,
          33.84880828857422,
          18.293066024780273,
          34.645626068115234,
          16.574466705322266,
          14.947354316711426,
          39.35557556152344,
          39.43082809448242,
          33.76108169555664,
          39.83367156982422,
          29.248414993286133,
          40.34434127807617,
          31.024675369262695,
          24.406286239624023,
          38.34492492675781,
          13.01947021484375,
          -53.705562591552734,
          -53.705562591552734,
          13.036486625671387,
          12.896795272827148,
          10.41818904876709,
          17.064559936523438,
          16.536909103393555,
          -36.42960739135742,
          -48.67787170410156,
          20.15966033935547,
          16.78058433532715,
          15.258050918579102,
          -52.24702835083008,
          -16.500635147094727,
          -34.82767868041992,
          -52.433963775634766,
          29.759136199951172,
          31.527523040771484,
          40.12136459350586,
          -10.406866073608398,
          -50.10171890258789,
          8.759173393249512,
          -15.636442184448242,
          -49.18120193481445,
          35.65195083618164,
          25.417865753173828,
          -50.4541015625,
          -10.384232521057129,
          -51.36693572998047,
          20.11185073852539,
          -31.82748031616211,
          -48.66116714477539,
          15.744290351867676,
          16.02899932861328,
          4.795347690582275,
          4.7667317390441895,
          4.62465238571167,
          13.453832626342773,
          5.199400901794434,
          -39.37476348876953,
          4.44041109085083,
          21.037946701049805,
          21.20200538635254,
          15.569574356079102,
          16.473859786987305,
          15.765141487121582,
          14.73848819732666,
          16.793514251708984,
          15.33172607421875,
          14.071496963500977,
          12.154023170471191,
          16.567543029785156,
          17.82836151123047,
          17.19240951538086,
          27.880390167236328,
          26.9475154876709,
          28.24485969543457,
          20.02350616455078,
          16.433937072753906,
          16.413902282714844,
          16.19686508178711,
          16.14609718322754,
          19.158601760864258,
          19.38434600830078,
          15.032167434692383,
          16.129728317260742,
          12.52550220489502,
          12.86938190460205,
          8.621437072753906,
          17.273042678833008,
          -4.986588954925537,
          10.36919116973877,
          -51.068851470947266,
          14.46985912322998,
          15.629544258117676,
          8.979647636413574,
          18.944881439208984,
          26.794574737548828,
          -50.28230285644531,
          27.908349990844727,
          21.90370750427246,
          -57.6822509765625,
          15.002922058105469,
          16.84792709350586,
          28.46892547607422,
          17.612812042236328,
          23.34104347229004,
          23.667421340942383,
          23.20433807373047,
          -48.438720703125,
          -51.7343864440918,
          -38.5135612487793,
          25.574981689453125,
          -42.33708190917969,
          23.103038787841797,
          24.45865249633789,
          19.332426071166992,
          11.19434642791748,
          15.087013244628906,
          24.12508773803711,
          23.727371215820312,
          24.307693481445312,
          17.9073429107666,
          -19.585268020629883,
          17.92995834350586,
          24.942562103271484,
          13.160362243652344,
          26.389448165893555,
          25.54770851135254,
          25.191835403442383,
          22.68440818786621,
          35.746849060058594,
          7.0799560546875,
          -20.209732055664062,
          -49.21110534667969,
          17.874553680419922,
          22.379213333129883,
          23.807876586914062,
          19.81125259399414,
          25.2167911529541,
          17.87598991394043,
          18.824565887451172,
          3.3658552169799805,
          13.368561744689941,
          23.33102798461914,
          16.972627639770508,
          9.813801765441895,
          -12.990785598754883,
          13.554413795471191,
          18.139163970947266,
          9.577360153198242,
          9.674057960510254,
          8.737632751464844,
          11.176287651062012,
          12.207671165466309,
          -18.683408737182617,
          14.807696342468262,
          39.351016998291016,
          29.62875747680664,
          24.85152816772461,
          20.633384704589844,
          11.410350799560547,
          10.458200454711914,
          12.70118522644043,
          -18.76245880126953,
          10.932293891906738,
          -14.84420394897461,
          21.459983825683594,
          10.236761093139648,
          10.996506690979004,
          12.230988502502441,
          19.640270233154297,
          4.199644088745117,
          13.973271369934082,
          -49.19432067871094,
          -38.95972442626953,
          7.477166175842285,
          25.119138717651367,
          23.361125946044922,
          27.4879093170166,
          28.903657913208008,
          29.439741134643555,
          5.881367206573486,
          5.815037727355957,
          5.020994663238525,
          7.2367634773254395,
          3.9606473445892334,
          8.234000205993652,
          7.212829113006592,
          -29.74677085876465,
          -14.409995079040527,
          21.238208770751953,
          7.443963527679443,
          5.526472568511963,
          -1.3062336444854736,
          -19.432952880859375,
          7.936215400695801,
          7.820984363555908,
          7.521170139312744,
          2.565476179122925,
          9.03856372833252,
          5.855037689208984,
          5.97418737411499,
          7.138795852661133,
          5.495824813842773,
          -19.813875198364258,
          11.81345272064209,
          -30.41013526916504,
          -50.310943603515625,
          -1.8239551782608032,
          7.451417446136475,
          -12.632122039794922,
          5.0513763427734375,
          -0.057336702942848206,
          24.307947158813477,
          -34.8618278503418,
          -50.712318420410156,
          32.90596389770508,
          -33.87653350830078,
          -49.50379180908203,
          39.7060432434082,
          9.53844928741455,
          13.312657356262207,
          22.267362594604492,
          17.22764015197754,
          13.423184394836426,
          20.033533096313477,
          13.758927345275879,
          10.559159278869629,
          -11.314804077148438,
          12.398212432861328,
          24.838056564331055,
          11.339212417602539,
          11.031432151794434,
          14.097735404968262,
          19.991413116455078,
          5.26708459854126,
          6.591470718383789,
          4.366377830505371,
          3.9270153045654297,
          13.590217590332031,
          4.208492755889893,
          6.926915168762207,
          5.158737659454346,
          13.389755249023438,
          6.0978569984436035,
          3.0102620124816895,
          4.968070983886719,
          2.54783296585083,
          11.504213333129883,
          9.902607917785645,
          -36.42960739135742,
          -50.83980178833008,
          12.777227401733398,
          22.588815689086914,
          19.75082778930664,
          10.891357421875,
          -13.509309768676758,
          -17.771081924438477,
          -49.467838287353516,
          -38.70613098144531,
          -42.756690979003906,
          15.435588836669922,
          10.799753189086914,
          10.801584243774414,
          16.126590728759766,
          7.170158863067627,
          7.456169605255127,
          -4.478146553039551,
          1.5349704027175903,
          10.247902870178223,
          9.739349365234375,
          18.975082397460938,
          8.268779754638672,
          22.241641998291016,
          22.1290283203125,
          22.18280792236328,
          -16.435073852539062,
          7.713651657104492,
          0.7711767554283142,
          0.7061425447463989,
          -2.231325149536133,
          -0.9701306223869324,
          0.6846710443496704,
          -15.98262882232666,
          8.320048332214355,
          2.869422435760498,
          3.283372402191162,
          3.003605365753174,
          1.9246149063110352,
          4.541615009307861,
          -9.294360160827637,
          0.855877697467804,
          -7.563990592956543,
          -0.0619971863925457,
          1.2774405479431152,
          2.2694573402404785,
          -7.54258918762207,
          -48.285526275634766,
          7.930489540100098,
          9.88868522644043,
          1.6363904476165771,
          10.435067176818848,
          8.676344871520996,
          -48.438720703125,
          -51.20325469970703,
          11.453869819641113,
          -34.49802780151367,
          -50.863948822021484,
          8.326210021972656,
          10.115828514099121,
          9.756195068359375,
          9.923490524291992,
          10.807175636291504,
          11.071056365966797,
          -37.296852111816406,
          -48.08027267456055,
          5.449958324432373,
          -36.42960739135742,
          -47.96061325073242,
          4.585502624511719,
          1.9219770431518555,
          28.402894973754883,
          28.316865921020508,
          6.361136436462402,
          34.837860107421875,
          26.95357894897461,
          4.077614784240723,
          -35.709896087646484,
          -47.462955474853516,
          12.465916633605957,
          12.64460563659668,
          14.205789566040039,
          -50.73785400390625,
          11.937774658203125,
          12.46780014038086,
          -48.931270599365234,
          12.17153263092041,
          12.407979011535645,
          13.896967887878418,
          14.02740478515625,
          12.748428344726562,
          14.121695518493652,
          -11.92083740234375,
          14.84307861328125,
          12.692867279052734,
          -32.059791564941406,
          -49.66953659057617,
          -13.90542221069336,
          11.923017501831055,
          12.035215377807617,
          -30.268205642700195,
          -50.94752502441406,
          -11.48519515991211,
          1.4374858140945435,
          1.156154751777649,
          -37.204254150390625,
          -49.66586685180664,
          13.258635520935059,
          -36.42960739135742,
          -48.99990463256836,
          9.787023544311523,
          -36.87623977661133,
          -51.31009292602539,
          11.24842357635498,
          19.084497451782227,
          4.478164196014404,
          21.333826065063477,
          6.487407207489014,
          -36.42960739135742,
          -50.1631965637207,
          -9.408024787902832,
          -49.141456604003906,
          6.327304363250732,
          7.090169429779053,
          7.931358814239502,
          -48.438720703125,
          -50.4053840637207,
          7.468705177307129,
          -15.280543327331543,
          -48.76368713378906,
          8.782730102539062,
          4.027981758117676,
          3.5460524559020996,
          -47.6241455078125,
          -22.196990966796875,
          5.807446479797363,
          6.2876057624816895,
          6.144393444061279,
          1.3616600036621094,
          4.606649875640869,
          -36.42960739135742,
          -49.88142395019531,
          0.36411410570144653,
          7.252060890197754,
          7.332366943359375,
          -44.243141174316406,
          1.4153352975845337,
          24.056915283203125,
          -11.544733047485352,
          5.735528469085693,
          3.0518388748168945,
          0.3454560339450836,
          5.643650531768799,
          -0.11280162632465363,
          1.6396514177322388,
          26.302108764648438,
          2.6984269618988037,
          2.265169620513916,
          3.8418216705322266,
          3.832050085067749,
          29.811138153076172,
          9.58443546295166,
          -5.104153633117676,
          10.908050537109375,
          0.411081999540329,
          8.395219802856445,
          0.6289133429527283,
          -0.10526607930660248,
          -0.4886552095413208,
          1.9373276233673096,
          0.3490667939186096,
          -0.28905922174453735,
          -52.34262466430664,
          3.8221726417541504,
          2.7147836685180664,
          -53.21034240722656,
          -1.2080419063568115,
          -11.80989933013916,
          -34.88193130493164,
          -50.05618667602539,
          -1.7475130558013916,
          4.884193420410156,
          22.422191619873047,
          4.148564338684082,
          -13.093082427978516,
          -40.23651885986328,
          -17.548187255859375,
          -9.488009452819824,
          -0.4597208797931671,
          20.345083236694336,
          8.128722190856934,
          12.173212051391602,
          18.381959915161133,
          12.581461906433105,
          3.7663516998291016,
          -0.7568227052688599,
          3.7307894229888916,
          8.172134399414062,
          8.371598243713379,
          8.794759750366211,
          8.429173469543457,
          6.575682163238525,
          0.6061398983001709,
          -15.568174362182617,
          1.0349578857421875,
          7.146646976470947,
          6.688444137573242,
          3.3763692378997803,
          4.462374687194824,
          5.062478542327881,
          -7.769319534301758,
          5.142621040344238,
          -3.6572532653808594,
          8.886354446411133,
          -4.509268283843994,
          15.482718467712402,
          19.79286766052246,
          -29.026018142700195,
          -9.033416748046875,
          -2.1933422088623047,
          -14.804387092590332,
          -8.627449035644531,
          -8.538514137268066,
          2.881068706512451,
          6.739524841308594,
          4.375243663787842,
          -16.93846321105957,
          -54.435386657714844,
          -44.262054443359375,
          18.9732666015625,
          6.873019218444824,
          -53.33406448364258,
          -15.242647171020508,
          -15.456048011779785,
          -51.96040725708008,
          -1.3492597341537476,
          1.1578400135040283,
          -11.417274475097656,
          20.790987014770508,
          4.492690086364746,
          -32.050628662109375,
          -48.327964782714844,
          0.38516780734062195,
          -0.011539608240127563,
          0.25610050559043884,
          -0.4318058490753174,
          17.043432235717773,
          1.381024956703186,
          29.008182525634766,
          -7.8779988288879395,
          2.1654486656188965,
          -21.03693389892578,
          -52.206546783447266,
          -5.374560356140137,
          -9.232015609741211,
          -10.159372329711914,
          -51.87037658691406,
          -18.871971130371094,
          20.224773406982422,
          -0.7749276757240295,
          0.5284919738769531,
          -37.296852111816406,
          -51.27293014526367,
          -0.8442345857620239,
          -24.289325714111328,
          -24.26369285583496,
          1.2254369258880615,
          0.8942768573760986,
          1.0455528497695923,
          -4.986886978149414,
          22.056690216064453,
          -53.714237213134766,
          -4.047560691833496,
          -1.2413772344589233,
          -50.705387115478516,
          0.36267226934432983,
          3.042743444442749,
          4.206387042999268,
          -52.854522705078125,
          4.201672554016113,
          5.170078754425049,
          3.8456692695617676,
          4.709183216094971,
          5.208977222442627,
          5.644970893859863,
          -3.4666125774383545,
          -33.483699798583984,
          -54.713134765625,
          -3.020026922225952,
          18.848722457885742,
          -3.239314079284668,
          4.830280303955078,
          2.6923372745513916,
          -7.549047470092773,
          -7.261775970458984,
          -6.033143520355225,
          -6.6825971603393555,
          -10.30278491973877,
          -7.848062038421631,
          -18.572933197021484,
          -8.35987377166748,
          -11.698789596557617,
          8.244773864746094,
          -12.206094741821289,
          -17.650102615356445,
          -6.429745674133301,
          24.568984985351562,
          -7.67172384262085,
          -10.240026473999023,
          -8.67861557006836,
          -10.649495124816895,
          -10.723024368286133,
          -4.252754211425781,
          -31.715497970581055,
          -51.84074020385742,
          -5.804272651672363,
          -6.772420883178711,
          -36.42960739135742,
          -53.32573699951172,
          -9.699726104736328,
          -5.9334588050842285,
          -6.743006229400635,
          -53.0671501159668,
          -6.511654376983643,
          -5.972438335418701,
          -31.743515014648438,
          -52.46648025512695,
          -5.044803619384766,
          -9.66247272491455,
          -2.7479891777038574,
          -3.162910223007202,
          -10.855477333068848,
          -3.737154006958008,
          -3.4607744216918945,
          20.36383628845215,
          -1.845805287361145,
          -1.0672131776809692,
          -2.256915330886841,
          -2.718324661254883,
          -4.648805618286133,
          -2.8274734020233154,
          -2.8065736293792725,
          0.04341265559196472,
          -2.19606876373291,
          -0.08223503082990646,
          8.478785514831543,
          -0.760657548904419,
          -4.400964260101318,
          -3.026676654815674,
          -1.4229470491409302,
          -53.711124420166016,
          -1.4735597372055054,
          3.5746142864227295,
          -5.97208309173584,
          19.518070220947266,
          -7.189840316772461,
          -5.048948287963867,
          -49.726810455322266,
          -44.89122009277344,
          -17.983659744262695,
          -3.8656558990478516,
          -4.382716655731201,
          -4.257804870605469,
          -36.27756881713867,
          -51.602542877197266,
          -4.454885482788086,
          -7.074169158935547,
          -48.189823150634766,
          -7.004154682159424,
          -5.971656322479248,
          -5.1943278312683105,
          -4.159093379974365,
          -52.29322052001953,
          -23.21587562561035,
          -5.22142219543457,
          -3.745835781097412,
          -10.146818161010742,
          -7.936062335968018,
          -2.5547008514404297,
          -36.42960739135742,
          -54.32853698730469,
          -15.066153526306152,
          -3.148038387298584,
          -3.9256625175476074,
          -3.9584836959838867,
          -38.785400390625,
          -31.966670989990234,
          -53.871585845947266,
          -8.723292350769043,
          -6.19755744934082,
          -13.46933364868164,
          -6.299901008605957,
          -36.27756881713867,
          -55.08399200439453,
          -4.3601274490356445,
          -4.030685901641846,
          -52.707679748535156,
          -16.99942398071289,
          21.27294921875,
          -12.742667198181152,
          -51.25096130371094,
          -10.076216697692871,
          -52.807945251464844,
          -37.85647964477539,
          -7.4556450843811035,
          -9.615059852600098,
          -4.657968997955322,
          -52.90848922729492,
          -4.153506755828857,
          -6.94430685043335,
          -1.1280314922332764,
          -52.9705696105957,
          -15.120501518249512,
          -4.822789192199707,
          -6.278364181518555,
          -32.78500747680664,
          -53.54087448120117,
          -7.641791820526123,
          -6.71669864654541,
          -8.008781433105469,
          -1.6334081888198853,
          -3.635000705718994,
          -3.936074733734131,
          5.803421497344971,
          -4.135903358459473,
          -3.2899513244628906,
          6.913180351257324,
          -2.8243627548217773,
          -53.902069091796875,
          -25.4648494720459,
          21.41634178161621,
          -6.10818338394165,
          -0.44918155670166016,
          -5.486741065979004,
          -1.71553635597229,
          -32.24139404296875,
          -53.03182601928711,
          -5.701053619384766,
          -48.46084976196289,
          -55.652313232421875,
          0.4652102589607239,
          -8.626540184020996,
          -54.54067611694336,
          -7.073152542114258,
          -54.784889221191406,
          -44.13384246826172,
          -5.8336944580078125,
          7.679051876068115,
          -3.101883888244629,
          6.302055835723877,
          -7.1544904708862305,
          -7.185861110687256,
          5.254395484924316,
          -5.872866153717041,
          -12.083399772644043,
          -6.85464334487915,
          -7.752569198608398,
          -55.83495330810547,
          -9.670326232910156,
          -8.102730751037598,
          0.33139726519584656,
          20.426321029663086,
          -4.823966026306152,
          -2.5801234245300293,
          -4.379347324371338,
          -14.307598114013672,
          -55.108890533447266,
          -2.5780692100524902,
          -1.9031627178192139,
          -1.7803281545639038,
          -4.341589450836182,
          -5.9322896003723145,
          -6.717194080352783,
          -6.808598518371582,
          -5.214996814727783,
          0.2957479655742645,
          -6.535832405090332,
          -37.204254150390625,
          -54.07081604003906,
          -7.1435465812683105,
          -6.795652866363525,
          23.343297958374023,
          -24.916446685791016,
          -22.85155487060547,
          -41.99983215332031,
          -34.96630859375,
          -44.309173583984375,
          -25.29094886779785,
          -27.264060974121094,
          -37.91926956176758,
          -32.67264938354492,
          -22.39902687072754,
          -43.46875762939453,
          -31.827348709106445,
          49.877357482910156,
          -36.137123107910156,
          -49.896629333496094,
          -18.940122604370117,
          -36.340614318847656,
          -52.79099655151367,
          -22.602710723876953,
          -59.39822006225586,
          -44.024497985839844,
          -12.93359375,
          -34.664981842041016,
          -18.56887435913086,
          -33.83662033081055,
          -9.873319625854492,
          -39.771888732910156,
          -31.884315490722656,
          -31.62480926513672,
          -40.10225296020508,
          -22.052379608154297,
          28.801071166992188,
          -20.117050170898438,
          -48.43657302856445,
          -54.00917053222656,
          -44.044349670410156,
          -26.876083374023438,
          -25.683225631713867,
          -27.222198486328125,
          -34.256309509277344,
          -16.828575134277344,
          -39.85664367675781,
          -48.57027053833008,
          -19.836599349975586,
          -25.407358169555664,
          -33.34517288208008,
          -20.147632598876953,
          -33.40296173095703,
          -19.94910430908203,
          -33.404747009277344,
          -19.348482131958008,
          -34.080039978027344,
          -11.163524627685547,
          -38.78255844116211,
          -22.89351463317871,
          -32.97631072998047,
          -49.826717376708984,
          -22.410079956054688,
          -33.949424743652344,
          -15.826136589050293,
          -43.8929557800293,
          -38.07173538208008,
          -37.396270751953125,
          -44.88306427001953,
          -45.55125045776367,
          -50.88821029663086,
          -24.142614364624023,
          -59.39822006225586,
          -42.88970184326172,
          -10.83365249633789,
          -34.57250213623047,
          -52.4660530090332,
          -39.23380661010742,
          -21.880632400512695,
          -32.99266815185547,
          -9.860344886779785,
          -34.57273483276367,
          -51.63871383666992,
          -17.845348358154297,
          -35.4268798828125,
          -52.20588684082031,
          -22.70886993408203,
          -25.23948097229004,
          -24.871143341064453,
          -36.71980667114258,
          -32.722007751464844,
          -23.066280364990234,
          -34.09507751464844,
          -33.555580139160156,
          -20.637531280517578,
          -28.806581497192383,
          -49.19451904296875,
          -44.0269889831543,
          -9.475409507751465,
          -32.090362548828125,
          -19.147613525390625,
          -59.39822006225586,
          -33.749549865722656,
          -25.383560180664062,
          -37.25543975830078,
          -32.26079559326172,
          -50.88872528076172,
          -18.225444793701172,
          -43.22234344482422,
          -37.41431427001953,
          -50.31928634643555,
          -20.561193466186523,
          -28.806631088256836,
          -37.41431427001953,
          -32.832679748535156,
          -50.57913589477539,
          -23.467937469482422,
          -59.39822006225586,
          -36.00386047363281,
          -10.181111335754395,
          -33.84305191040039,
          -21.98356056213379,
          -42.88970184326172,
          -10.791924476623535,
          -35.14268493652344,
          -34.30471420288086,
          -45.55125045776367,
          -50.57930374145508,
          -21.45851707458496,
          -37.9047966003418,
          -49.615596771240234,
          -21.10961151123047,
          -37.75095748901367,
          -34.37882614135742,
          -52.355690002441406,
          -22.71837615966797,
          -59.39822006225586,
          -36.05552291870117,
          -10.479732513427734,
          -35.23641586303711,
          -33.737571716308594,
          -43.504783630371094,
          -51.20118713378906,
          31.139026641845703,
          -37.2774772644043,
          -51.436187744140625,
          -20.222923278808594,
          -28.806581497192383,
          -36.063697814941406,
          -52.20588684082031,
          -16.78595542907715,
          -34.687278747558594,
          -23.275924682617188,
          -31.83995819091797,
          -22.426408767700195,
          -36.7091178894043,
          -48.67039108276367,
          -43.030399322509766,
          -11.114089012145996,
          -31.17112922668457,
          -21.284801483154297,
          -42.03589630126953,
          -55.60995864868164,
          -28.77742576599121,
          -12.983986854553223,
          -35.53549575805664,
          -57.681739807128906,
          -43.707618713378906,
          -50.90047073364258,
          -20.413291931152344,
          -34.05957794189453,
          -10.422883033752441,
          -35.53514862060547,
          -57.6822509765625,
          -43.707618713378906,
          -52.4660530090332,
          -18.973947525024414,
          -36.74336624145508,
          -51.087425231933594,
          -21.078075408935547,
          -32.992225646972656,
          -12.946833610534668,
          -37.38834762573242,
          -50.269630432128906,
          -20.113094329833984,
          -48.670143127441406,
          -43.098731994628906,
          -34.06504440307617,
          -22.802318572998047,
          -38.923858642578125,
          -37.51557159423828,
          -59.39822006225586,
          32.653564453125,
          22.236820220947266,
          -21.231992721557617,
          -36.92283630371094,
          -59.39822006225586,
          -22.33525276184082,
          -37.194313049316406,
          -48.67039108276367,
          -42.97471618652344,
          -10.548129081726074,
          -27.010005950927734,
          -31.0131893157959,
          -52.913700103759766,
          -19.609432220458984,
          -44.023746490478516,
          -48.67039108276367,
          -43.21520233154297,
          -11.206384658813477,
          -36.57550811767578,
          -50.269630432128906,
          -23.470003128051758,
          -59.78061294555664,
          -32.16067123413086,
          -21.01616668701172,
          -42.847660064697266,
          -10.058120727539062,
          -36.735836029052734,
          -52.79099655151367,
          -21.258270263671875,
          -28.806533813476562,
          -33.92435073852539,
          -10.438735961914062,
          -33.03887176513672,
          -27.854848861694336,
          -28.76034927368164,
          -9.550158500671387,
          -33.40562438964844,
          -50.239566802978516,
          -24.79725456237793,
          -59.78061294555664,
          -43.05288314819336,
          -9.415773391723633,
          23.3118896484375,
          -23.465450286865234,
          -26.125446319580078,
          -24.995037078857422,
          -26.99712562561035,
          -25.274662017822266,
          -31.974302291870117,
          -25.32834815979004,
          -25.24212646484375,
          -38.43863296508789,
          -25.036212921142578
         ],
         "xaxis": "x",
         "y": [
          0.510836660861969,
          -0.15535295009613037,
          3.564115285873413,
          7.247077465057373,
          -7.408444881439209,
          -7.224496841430664,
          -10.03221607208252,
          -9.002943992614746,
          -15.046313285827637,
          -14.766680717468262,
          -2.6353445053100586,
          -5.24407958984375,
          -10.264334678649902,
          -12.802511215209961,
          -5.443217754364014,
          -8.828369140625,
          4.628960609436035,
          -5.269559383392334,
          -4.1776323318481445,
          9.774886131286621,
          -7.753749370574951,
          4.918997764587402,
          1.8459529876708984,
          -13.523606300354004,
          4.343349933624268,
          -22.63287925720215,
          -7.500477313995361,
          2.7472312450408936,
          -2.206509590148926,
          -23.482389450073242,
          -25.298826217651367,
          -25.255727767944336,
          -22.340206146240234,
          10.157685279846191,
          -3.5603229999542236,
          -25.214130401611328,
          -23.88428497314453,
          -12.169559478759766,
          5.9640631675720215,
          1.734139323234558,
          1.6913692951202393,
          -1.7383322715759277,
          1.080975890159607,
          2.178554058074951,
          0.5307342410087585,
          1.4803189039230347,
          2.6193618774414062,
          -0.1699293851852417,
          17.12470817565918,
          -0.7096635103225708,
          -1.79496431350708,
          -1.7880223989486694,
          -2.843010663986206,
          -1.3234026432037354,
          -0.8442563414573669,
          -1.8435015678405762,
          0.7963522672653198,
          -2.3541908264160156,
          7.455422401428223,
          -2.3923776149749756,
          -2.2843410968780518,
          -3.676872730255127,
          -2.219968318939209,
          -2.1188910007476807,
          0.6367946863174438,
          -2.243290901184082,
          -3.853618860244751,
          -3.9554567337036133,
          19.403894424438477,
          2.1936445236206055,
          -2.2025232315063477,
          -0.5031802654266357,
          -0.95289546251297,
          -0.9981372952461243,
          -0.7965259552001953,
          8.077033042907715,
          2.057020664215088,
          -1.2493891716003418,
          1.8245617151260376,
          -2.6181304454803467,
          0.22019168734550476,
          -5.4914727210998535,
          2.372467041015625,
          -2.7702760696411133,
          -3.8431010246276855,
          6.286901950836182,
          -0.47318172454833984,
          0.7785038352012634,
          1.1354330778121948,
          6.823444366455078,
          -1.219439148902893,
          2.4856159687042236,
          -3.29386830329895,
          -1.1879955530166626,
          -16.31641960144043,
          5.493059158325195,
          4.529343605041504,
          2.7644622325897217,
          9.4030122756958,
          -7.108438968658447,
          3.6017799377441406,
          6.926868915557861,
          3.7382616996765137,
          2.384812831878662,
          -0.7133486270904541,
          -0.4359791874885559,
          -0.7025735974311829,
          -0.7486751079559326,
          4.157805919647217,
          -2.3942487239837646,
          -18.2091121673584,
          -3.597815990447998,
          5.654666423797607,
          2.129202365875244,
          -3.0061326026916504,
          1.083855390548706,
          -3.0248353481292725,
          -1.8272851705551147,
          5.735361576080322,
          6.0002288818359375,
          -1.989583969116211,
          3.911783218383789,
          3.6032533645629883,
          -1.7372804880142212,
          -8.128615379333496,
          4.0553483963012695,
          13.33829402923584,
          11.194257736206055,
          17.407806396484375,
          9.427030563354492,
          6.7994890213012695,
          1.2525277137756348,
          -4.233588695526123,
          1.8464546203613281,
          8.607203483581543,
          5.756852626800537,
          1.9315704107284546,
          2.8869645595550537,
          2.025933027267456,
          -1.615646243095398,
          -0.5766688585281372,
          -0.7290786504745483,
          5.05026388168335,
          4.745487213134766,
          -11.118685722351074,
          -0.009565080516040325,
          9.704496383666992,
          3.8103270530700684,
          0.8774582147598267,
          -12.876723289489746,
          4.022242546081543,
          4.507469177246094,
          -3.230879306793213,
          6.482927322387695,
          1.118274450302124,
          7.129834175109863,
          6.82072114944458,
          3.830822229385376,
          6.573732376098633,
          14.916029930114746,
          7.503386497497559,
          8.415177345275879,
          0.8198360800743103,
          5.157995700836182,
          7.179359436035156,
          7.009647369384766,
          2.0863986015319824,
          -7.541795253753662,
          1.6840534210205078,
          4.523751258850098,
          2.562224864959717,
          8.401816368103027,
          -2.1696338653564453,
          5.560841083526611,
          3.2025036811828613,
          8.348654747009277,
          15.301828384399414,
          5.313962459564209,
          6.526517868041992,
          6.330210208892822,
          4.183058261871338,
          4.81992769241333,
          5.203216075897217,
          5.93590784072876,
          13.843050956726074,
          16.376245498657227,
          13.823644638061523,
          8.344511985778809,
          15.953280448913574,
          -3.7536215782165527,
          0.42262524366378784,
          8.423354148864746,
          13.294554710388184,
          9.36489486694336,
          9.017998695373535,
          7.925444602966309,
          8.29805850982666,
          4.834229469299316,
          8.077042579650879,
          8.448514938354492,
          6.705351829528809,
          -11.662906646728516,
          -11.21002197265625,
          -11.336414337158203,
          8.112347602844238,
          -11.130990982055664,
          15.689743041992188,
          13.749398231506348,
          7.8116230964660645,
          -3.7195756435394287,
          7.131709098815918,
          -8.268730163574219,
          -5.42433500289917,
          -7.7434773445129395,
          -6.285248279571533,
          -5.867701053619385,
          -8.832727432250977,
          -7.360315322875977,
          -6.853555202484131,
          -5.828228950500488,
          -7.3612380027771,
          -8.374680519104004,
          -7.041788101196289,
          -8.709891319274902,
          0.9881085157394409,
          0.49387598037719727,
          -8.100198745727539,
          3.2156670093536377,
          -8.307140350341797,
          -1.5549263954162598,
          -6.775350093841553,
          -0.1274431198835373,
          -6.291266918182373,
          -11.689399719238281,
          -16.189525604248047,
          -14.19215202331543,
          -16.408918380737305,
          -17.53461456298828,
          -16.86664390563965,
          -16.56195640563965,
          -16.80005645751953,
          -16.702341079711914,
          -11.687883377075195,
          -15.20040512084961,
          -6.306394577026367,
          -13.742687225341797,
          -3.443192958831787,
          -10.279611587524414,
          -9.339365005493164,
          -5.117676258087158,
          -3.374741554260254,
          -6.311827182769775,
          -5.814026832580566,
          1.3859574794769287,
          -4.540060997009277,
          -1.2346616983413696,
          -5.393507957458496,
          -9.869830131530762,
          14.755019187927246,
          -14.865072250366211,
          -8.407759666442871,
          -6.708754539489746,
          -6.182206630706787,
          -6.488770008087158,
          0.6239861845970154,
          -9.176671028137207,
          -1.745155930519104,
          14.461593627929688,
          -13.679069519042969,
          -0.5674680471420288,
          -3.1176552772521973,
          -4.7104339599609375,
          -17.00754165649414,
          -3.9215595722198486,
          -11.59840202331543,
          -4.097114086151123,
          11.469497680664062,
          -10.67221450805664,
          -11.049232482910156,
          12.241533279418945,
          5.379552841186523,
          6.584353923797607,
          -15.928933143615723,
          7.8314528465271,
          6.197105407714844,
          -2.4447803497314453,
          5.737305641174316,
          5.222506523132324,
          -3.4691004753112793,
          14.38281536102295,
          4.132682800292969,
          13.860450744628906,
          8.720067024230957,
          -0.407469242811203,
          16.766027450561523,
          16.208576202392578,
          13.41264533996582,
          14.584962844848633,
          -12.463160514831543,
          -6.004825115203857,
          -6.03046989440918,
          0.4881422817707062,
          -2.2202699184417725,
          -4.362058162689209,
          -0.34137293696403503,
          -2.7808542251586914,
          3.1924448013305664,
          -9.980583190917969,
          -6.632317543029785,
          -10.465158462524414,
          -19.002294540405273,
          -19.185379028320312,
          -17.891178131103516,
          -11.603243827819824,
          -9.619136810302734,
          -6.492689609527588,
          -5.872482776641846,
          -14.894674301147461,
          -15.268391609191895,
          -17.18863296508789,
          -18.27700424194336,
          -15.255223274230957,
          -14.760473251342773,
          -3.382636547088623,
          15.622036933898926,
          -10.727822303771973,
          -10.408697128295898,
          -4.813830375671387,
          -2.6538023948669434,
          -6.770648956298828,
          -7.229349613189697,
          -5.30150032043457,
          -5.560754776000977,
          -2.347198724746704,
          -13.422945976257324,
          -15.487826347351074,
          -13.417058944702148,
          -5.703275203704834,
          -6.294445037841797,
          13.522222518920898,
          -1.1204363107681274,
          -0.7599568963050842,
          -0.6830924153327942,
          -1.3839749097824097,
          1.6279751062393188,
          -0.35495203733444214,
          0.42285120487213135,
          9.312204360961914,
          -0.7551021575927734,
          -4.514279842376709,
          -1.573763132095337,
          -4.573517799377441,
          -0.22962883114814758,
          3.941833972930908,
          -9.10383415222168,
          -8.919017791748047,
          -4.974182605743408,
          -1.764251470565796,
          2.1761474609375,
          -6.042049407958984,
          10.06915283203125,
          9.629295349121094,
          -5.6458821296691895,
          18.283527374267578,
          5.137377738952637,
          5.137377738952637,
          18.39604377746582,
          -1.745827555656433,
          1.2010865211486816,
          -7.758118152618408,
          -7.124443054199219,
          -10.152831077575684,
          -6.514824867248535,
          -12.6118803024292,
          -8.087760925292969,
          0.4753914773464203,
          -4.218536853790283,
          -16.075319290161133,
          -10.553176879882812,
          -2.949298620223999,
          -3.6731677055358887,
          14.513267517089844,
          -0.6090737581253052,
          13.079715728759766,
          -4.985482692718506,
          -12.931904792785645,
          -15.597838401794434,
          -1.9456602334976196,
          -8.665331840515137,
          4.621281623840332,
          -2.6984894275665283,
          13.072147369384766,
          -3.8980910778045654,
          -1.59943687915802,
          -9.483480453491211,
          -4.815082550048828,
          -18.583084106445312,
          -16.675268173217773,
          10.426384925842285,
          9.381958961486816,
          9.47571849822998,
          11.480391502380371,
          11.180059432983398,
          18.13770866394043,
          10.691451072692871,
          13.239970207214355,
          6.427452087402344,
          4.99230432510376,
          4.279505729675293,
          6.17171049118042,
          4.795489311218262,
          5.430856704711914,
          5.232137680053711,
          11.053899765014648,
          11.031776428222656,
          4.516091346740723,
          6.426013946533203,
          3.915721893310547,
          5.879502296447754,
          5.115942001342773,
          5.404534339904785,
          6.559232234954834,
          8.391737937927246,
          8.662437438964844,
          9.259734153747559,
          -2.0066287517547607,
          2.3957936763763428,
          2.5936903953552246,
          -2.241987705230713,
          -1.672203540802002,
          2.561319589614868,
          2.0941274166107178,
          1.5221362113952637,
          3.5818495750427246,
          16.780033111572266,
          7.436859130859375,
          -2.237046480178833,
          2.0461032390594482,
          -0.558861255645752,
          -0.6512653827667236,
          -5.0356364250183105,
          -19.008686065673828,
          -4.107476711273193,
          -19.90150260925293,
          -12.714802742004395,
          -8.407759666442871,
          -2.3514838218688965,
          -5.266315460205078,
          -4.31523323059082,
          -5.685882091522217,
          -20.51045799255371,
          -19.776079177856445,
          -21.260696411132812,
          -11.412839889526367,
          -4.739285945892334,
          2.8966050148010254,
          -20.039535522460938,
          2.906956195831299,
          -18.80459213256836,
          -22.058080673217773,
          -5.27332878112793,
          -1.3380054235458374,
          -14.056792259216309,
          -19.86130142211914,
          -17.746994018554688,
          -11.635210990905762,
          1.0127928256988525,
          -11.722038269042969,
          4.361368179321289,
          -20.325679779052734,
          6.070497989654541,
          -20.57509994506836,
          -21.099111557006836,
          -19.129329681396484,
          16.363584518432617,
          -13.505486488342285,
          -8.474467277526855,
          -6.473062038421631,
          -5.5279622077941895,
          -9.640300750732422,
          -19.479942321777344,
          -20.324832916259766,
          -21.940391540527344,
          -19.889904022216797,
          0.7297356128692627,
          -27.101058959960938,
          -7.101057052612305,
          7.338662147521973,
          16.458187103271484,
          1.5773249864578247,
          7.673704624176025,
          -5.726889133453369,
          6.066870212554932,
          1.5468660593032837,
          5.799389362335205,
          1.0909444093704224,
          -1.3079876899719238,
          5.481327533721924,
          4.764010429382324,
          -15.006217956542969,
          3.133791446685791,
          -5.209683895111084,
          9.48110294342041,
          3.748957395553589,
          13.362010955810547,
          3.8337628841400146,
          3.5486860275268555,
          4.037349224090576,
          -15.26673698425293,
          1.5130934715270996,
          -0.8886367082595825,
          -13.203498840332031,
          4.521864414215088,
          5.403623580932617,
          8.328811645507812,
          14.520421028137207,
          0.5551467537879944,
          9.151633262634277,
          7.301866054534912,
          18.797073364257812,
          -5.659688949584961,
          6.1198272705078125,
          5.603489875793457,
          1.6167612075805664,
          10.87852954864502,
          9.308560371398926,
          2.5249416828155518,
          2.4262163639068604,
          3.3424134254455566,
          0.5364859700202942,
          3.4339499473571777,
          -3.6330068111419678,
          4.395553112030029,
          -7.195497512817383,
          -5.485908508300781,
          11.989487648010254,
          6.648310661315918,
          -0.9005253314971924,
          -7.138955116271973,
          -6.903928756713867,
          -1.1303670406341553,
          5.9312663078308105,
          6.934924602508545,
          6.770820140838623,
          4.719441890716553,
          -0.9747188091278076,
          -1.5674538612365723,
          0.5380615592002869,
          0.3151264786720276,
          -6.479835033416748,
          -7.545943737030029,
          -8.768149375915527,
          0.16588202118873596,
          -14.954545021057129,
          -1.7286573648452759,
          -5.657069683074951,
          -4.839186191558838,
          -11.473845481872559,
          13.803084373474121,
          -7.910888195037842,
          -3.4621665477752686,
          -4.034709453582764,
          -9.223163604736328,
          -4.468653202056885,
          -8.197816848754883,
          -16.573184967041016,
          -15.064350128173828,
          -20.716812133789062,
          -15.602007865905762,
          -16.166702270507812,
          -16.604372024536133,
          -3.0808699131011963,
          -4.58979606628418,
          -1.4766770601272583,
          -15.027222633361816,
          1.8563085794448853,
          -15.795022010803223,
          -16.296831130981445,
          -9.51694393157959,
          12.413552284240723,
          7.165273189544678,
          11.791682243347168,
          14.55294132232666,
          10.384163856506348,
          3.240919351577759,
          11.896368026733398,
          10.253787994384766,
          8.541065216064453,
          4.307055950164795,
          8.581205368041992,
          10.112960815429688,
          5.408754348754883,
          7.024214744567871,
          -18.51082992553711,
          -22.832075119018555,
          -10.152831077575684,
          -1.4661686420440674,
          -20.209087371826172,
          -23.35966682434082,
          -22.052209854125977,
          -13.068493843078613,
          -14.603301048278809,
          -12.944371223449707,
          -0.3620055615901947,
          2.6271955966949463,
          3.0456061363220215,
          -23.211856842041016,
          -19.761991500854492,
          -19.741743087768555,
          -2.8543941974639893,
          -23.31260871887207,
          -13.253108024597168,
          -10.604093551635742,
          -11.616496086120605,
          11.894174575805664,
          4.000273704528809,
          -3.0101938247680664,
          4.515583515167236,
          9.003392219543457,
          3.6598587036132812,
          3.277247190475464,
          -2.0371663570404053,
          3.348679542541504,
          -6.38234806060791,
          -11.802496910095215,
          -7.550463676452637,
          -6.991879940032959,
          -9.187605857849121,
          -1.6559832096099854,
          -6.046054363250732,
          -3.2140157222747803,
          -1.5949195623397827,
          -4.364331245422363,
          -3.6120970249176025,
          1.414405107498169,
          -2.4653027057647705,
          -4.82978630065918,
          -2.4459266662597656,
          -11.291015625,
          -10.150712966918945,
          -0.5546319484710693,
          10.9744234085083,
          -3.9750351905822754,
          -19.478620529174805,
          -9.834848403930664,
          -6.536959648132324,
          -16.970436096191406,
          -21.683229446411133,
          -11.412839889526367,
          -0.575559139251709,
          -21.126741409301758,
          -11.80731201171875,
          -6.371406078338623,
          -19.277620315551758,
          -22.95909309387207,
          -10.846356391906738,
          -10.505967140197754,
          -10.139517784118652,
          -24.133447647094727,
          -9.668716430664062,
          -3.057297945022583,
          -10.534290313720703,
          -10.152831077575684,
          -5.661056041717529,
          -9.951072692871094,
          -10.431333541870117,
          13.328425407409668,
          13.300264358520508,
          -9.157742500305176,
          -14.467986106872559,
          11.23011302947998,
          -9.815740585327148,
          -9.490999221801758,
          -4.6767120361328125,
          -26.41950798034668,
          -26.47018814086914,
          -28.208209991455078,
          -5.400184154510498,
          -28.687156677246094,
          -27.453468322753906,
          -2.918489933013916,
          -27.70954704284668,
          -23.70659637451172,
          -24.04653549194336,
          -24.175085067749023,
          -21.01259994506836,
          -24.098257064819336,
          -5.120013236999512,
          -23.788795471191406,
          -22.648744583129883,
          -11.89749526977539,
          -2.6166162490844727,
          -12.515914916992188,
          -26.099519729614258,
          -15.17526912689209,
          -9.020791053771973,
          -4.5477824211120605,
          -9.475475311279297,
          -18.15814781188965,
          -18.841716766357422,
          -6.562303066253662,
          -7.00299596786499,
          -26.279027938842773,
          -10.152831077575684,
          0.5548704862594604,
          -25.221023559570312,
          -9.132216453552246,
          -3.019385576248169,
          -24.836965560913086,
          -27.4942626953125,
          -23.292190551757812,
          16.60753059387207,
          -25.208768844604492,
          -10.152831077575684,
          -1.9046874046325684,
          6.227619171142578,
          -3.741938591003418,
          -22.313966751098633,
          -22.06328582763672,
          -21.09992027282715,
          -11.412839889526367,
          -0.7434301376342773,
          -20.515300750732422,
          -13.254592895507812,
          -1.099646806716919,
          -20.466629028320312,
          -13.768444061279297,
          -13.264087677001953,
          -1.2846168279647827,
          -5.997663497924805,
          -18.85482406616211,
          -22.570026397705078,
          -20.68550682067871,
          -18.027753829956055,
          -22.087453842163086,
          -10.152831077575684,
          -3.422750234603882,
          -24.797821044921875,
          -11.689922332763672,
          -12.227747917175293,
          -1.1573494672775269,
          -17.345806121826172,
          18.20529556274414,
          -2.760653257369995,
          -16.858306884765625,
          -18.86646842956543,
          -0.19109490513801575,
          -19.60862922668457,
          -1.203216314315796,
          -11.906982421875,
          10.54607105255127,
          -8.056391716003418,
          -8.334553718566895,
          -8.607283592224121,
          -8.25096321105957,
          14.056021690368652,
          8.420829772949219,
          16.83681297302246,
          7.063213348388672,
          8.646614074707031,
          12.43848705291748,
          18.964582443237305,
          9.352219581604004,
          9.16790771484375,
          11.385623931884766,
          -18.24265480041504,
          -18.201433181762695,
          -5.379855632781982,
          -22.068408966064453,
          -16.796518325805664,
          -5.2793989181518555,
          -17.962932586669922,
          -3.2909648418426514,
          -12.201300621032715,
          1.1221985816955566,
          -16.21842384338379,
          -2.9161970615386963,
          17.84317398071289,
          -17.06304931640625,
          -3.713085412979126,
          2.9154655933380127,
          -4.687083721160889,
          0.32243481278419495,
          -0.6976397633552551,
          12.385836601257324,
          9.077380180358887,
          8.298603057861328,
          -1.289993405342102,
          12.582826614379883,
          17.95482063293457,
          9.872299194335938,
          17.952930450439453,
          12.307997703552246,
          15.98450756072998,
          13.224281311035156,
          13.545013427734375,
          13.417173385620117,
          18.996000289916992,
          -6.134194850921631,
          11.080678939819336,
          13.779666900634766,
          11.627527236938477,
          10.884366989135742,
          14.597452163696289,
          5.240997314453125,
          0.3670518100261688,
          6.958667278289795,
          14.33092975616455,
          16.440032958984375,
          15.120748519897461,
          6.942139625549316,
          17.160282135009766,
          -6.809573650360107,
          -0.992112934589386,
          -21.621707916259766,
          -5.494070053100586,
          -0.7036097049713135,
          -2.739107847213745,
          1.5093306303024292,
          -3.687074661254883,
          -17.079853057861328,
          -13.407007217407227,
          -1.5863523483276367,
          3.8455734252929688,
          -27.263648986816406,
          -19.7025146484375,
          -1.6445919275283813,
          -15.964305877685547,
          -11.174128532409668,
          -0.687867283821106,
          -17.281476974487305,
          -16.419883728027344,
          -5.078360557556152,
          16.818220138549805,
          -16.181367874145508,
          -11.915572166442871,
          -2.0738022327423096,
          -25.742237091064453,
          -25.197656631469727,
          -8.181385040283203,
          -8.941247940063477,
          15.790064811706543,
          -3.161184549331665,
          0.6340008974075317,
          -1.049673318862915,
          -21.009395599365234,
          -13.525870323181152,
          0.2098996937274933,
          -26.76717185974121,
          -4.239365577697754,
          -4.006677627563477,
          -6.394386291503906,
          -11.83725357055664,
          15.94546127319336,
          -3.3074681758880615,
          -3.6368932723999023,
          -9.668716430664062,
          0.3449374735355377,
          -11.680449485778809,
          -6.158639907836914,
          -6.157843589782715,
          4.217674255371094,
          3.4155635833740234,
          3.6655237674713135,
          -10.475890159606934,
          17.096338272094727,
          -0.8797003030776978,
          -4.232417583465576,
          -24.171960830688477,
          -7.394392013549805,
          -21.52005958557129,
          -19.116018295288086,
          -20.264034271240234,
          -6.181941032409668,
          -20.631397247314453,
          -18.747879028320312,
          -19.69542121887207,
          -19.27467918395996,
          -25.60680389404297,
          -24.739473342895508,
          -24.86261749267578,
          -6.875482082366943,
          -2.6070051193237305,
          -25.583219528198242,
          16.686723709106445,
          -0.2282269299030304,
          -5.978259563446045,
          1.5370737314224243,
          -0.3107718229293823,
          -0.5378836393356323,
          -1.3217302560806274,
          -2.879775047302246,
          0.48751524090766907,
          4.870857238769531,
          -10.904610633850098,
          0.7884103059768677,
          1.3193259239196777,
          18.144554138183594,
          2.846290349960327,
          -4.62746000289917,
          0.8635880947113037,
          18.25330924987793,
          -23.88254165649414,
          -21.726119995117188,
          -22.68937873840332,
          -21.40924644470215,
          -24.939897537231445,
          -19.114482879638672,
          -8.026735305786133,
          -7.420764446258545,
          -24.367897033691406,
          -24.39597511291504,
          -10.152831077575684,
          -2.9134342670440674,
          -13.652085304260254,
          -5.705819129943848,
          -27.395540237426758,
          -0.16583000123500824,
          -27.400157928466797,
          -5.946623802185059,
          -7.976050853729248,
          1.2310452461242676,
          -24.60590362548828,
          -17.085939407348633,
          -23.645870208740234,
          -21.770235061645508,
          -21.24015235900879,
          -21.433849334716797,
          -22.571762084960938,
          18.526668548583984,
          -9.04532241821289,
          -8.043827056884766,
          -8.870245933532715,
          -3.0974836349487305,
          1.6281167268753052,
          -2.0240323543548584,
          -2.08358097076416,
          -2.766411304473877,
          -0.08541396260261536,
          -9.757613182067871,
          13.869009017944336,
          -10.170464515686035,
          -0.0031858114525675774,
          0.756188690662384,
          -11.148199081420898,
          -4.326902866363525,
          -12.390766143798828,
          -10.269074440002441,
          -12.321362495422363,
          18.24437713623047,
          -18.783979415893555,
          4.779579162597656,
          -1.2391072511672974,
          4.8646626472473145,
          -12.438974380493164,
          -20.48723602294922,
          -22.121213912963867,
          -20.339595794677734,
          -9.110403060913086,
          -1.5278081893920898,
          -26.10580062866211,
          -24.313962936401367,
          -0.26452505588531494,
          -6.774052619934082,
          -22.711231231689453,
          -20.720890045166016,
          0.6848490834236145,
          -1.7194838523864746,
          2.5287749767303467,
          -0.7140949964523315,
          7.00006103515625,
          -23.556636810302734,
          3.0559298992156982,
          8.16260814666748,
          -10.152831077575684,
          -0.0026905681006610394,
          -18.475805282592773,
          12.256003379821777,
          12.719539642333984,
          13.754534721374512,
          23.841289520263672,
          -8.00974178314209,
          -2.327147960662842,
          -12.49769401550293,
          -22.879695892333984,
          -11.50361442565918,
          -22.083576202392578,
          -9.110403060913086,
          -0.7817612290382385,
          -23.240020751953125,
          -20.444305419921875,
          -0.9983047842979431,
          -13.99282455444336,
          17.876497268676758,
          3.502896785736084,
          1.36591637134552,
          -16.067293167114258,
          -2.278153657913208,
          -0.6957594156265259,
          3.508190393447876,
          -17.305335998535156,
          3.912095069885254,
          -4.496642589569092,
          4.54719877243042,
          8.257950782775879,
          -1.3697819709777832,
          -3.6481175422668457,
          -18.35559844970703,
          4.664760589599609,
          6.5038652420043945,
          -7.560553550720215,
          0.7739757895469666,
          -24.98756217956543,
          4.298958778381348,
          6.0272746086120605,
          5.172939300537109,
          9.65354061126709,
          10.100406646728516,
          15.47614574432373,
          7.687027454376221,
          7.828571796417236,
          17.115293502807617,
          3.224027395248413,
          -3.458956003189087,
          7.324696063995361,
          18.872570037841797,
          -12.993827819824219,
          2.4464924335479736,
          -15.31253719329834,
          0.3621659278869629,
          -8.562520027160645,
          -7.216355323791504,
          -15.278693199157715,
          -11.40729808807373,
          -4.292850017547607,
          -9.363813400268555,
          -12.35508918762207,
          -4.559412479400635,
          -12.525856018066406,
          -3.541757345199585,
          3.8904178142547607,
          -14.589417457580566,
          15.861991882324219,
          8.005587577819824,
          16.46720314025879,
          -10.111412048339844,
          -10.667550086975098,
          13.95811939239502,
          1.5309404134750366,
          2.7533693313598633,
          3.8294522762298584,
          6.2858405113220215,
          -3.053159475326538,
          7.856081485748291,
          6.2974324226379395,
          14.479615211486816,
          17.940410614013672,
          -22.30782127380371,
          -0.8741030097007751,
          -3.760204553604126,
          -12.097589492797852,
          -5.519049644470215,
          1.2086257934570312,
          -0.8060075044631958,
          5.158196926116943,
          14.793440818786621,
          16.9615535736084,
          16.88092803955078,
          16.7735595703125,
          8.51976490020752,
          14.472196578979492,
          4.740792274475098,
          -6.562303066253662,
          -6.56131649017334,
          -22.414592742919922,
          4.81505012512207,
          19.29520606994629,
          28.505531311035156,
          12.388359069824219,
          4.472116470336914,
          -6.694554805755615,
          1.2001434564590454,
          28.327299118041992,
          29.484853744506836,
          21.303354263305664,
          24.163488388061523,
          6.050004005432129,
          7.82216215133667,
          23.26704216003418,
          -3.2537856101989746,
          22.546030044555664,
          22.734058380126953,
          9.685318946838379,
          23.663244247436523,
          21.552244186401367,
          10.886510848999023,
          2.9404680728912354,
          8.259489059448242,
          34.82262420654297,
          27.211015701293945,
          7.683433532714844,
          12.62013053894043,
          36.01431655883789,
          22.28640365600586,
          21.994173049926758,
          23.340986251831055,
          -1.6099767684936523,
          14.027523040771484,
          -2.3418002128601074,
          13.810876846313477,
          -11.408710479736328,
          -5.514171123504639,
          4.988439559936523,
          21.56235122680664,
          28.422685623168945,
          29.39931297302246,
          26.67023468017578,
          11.417801856994629,
          -2.505485773086548,
          21.740936279296875,
          2.5453310012817383,
          29.038084030151367,
          26.77284812927246,
          7.109306812286377,
          26.873329162597656,
          7.220118522644043,
          27.033132553100586,
          7.458502769470215,
          13.520210266113281,
          36.83509826660156,
          21.285789489746094,
          5.246476173400879,
          23.399194717407227,
          21.15807342529297,
          6.799082279205322,
          26.091266632080078,
          -3.380873680114746,
          2.7398955821990967,
          20.867706298828125,
          19.643789291381836,
          0.9394068717956543,
          12.022989273071289,
          22.700502395629883,
          11.124898910522461,
          2.9404680728912354,
          8.434793472290039,
          35.81589126586914,
          20.37783432006836,
          20.440092086791992,
          -1.9359557628631592,
          9.482842445373535,
          14.217411041259766,
          37.00783157348633,
          20.377044677734375,
          22.40411949157715,
          12.105704307556152,
          21.48153305053711,
          21.75458335876465,
          13.093259811401367,
          14.332867622375488,
          28.8204402923584,
          20.7475643157959,
          24.3804874420166,
          8.406285285949707,
          13.51108169555664,
          25.54936981201172,
          10.065731048583984,
          11.018637657165527,
          7.3018574714660645,
          -6.500741481781006,
          36.71699523925781,
          25.994630813598633,
          14.099618911743164,
          2.9404680728912354,
          12.216357231140137,
          29.089340209960938,
          21.248804092407227,
          22.91555404663086,
          22.700672149658203,
          5.7408671379089355,
          6.608613014221191,
          22.657255172729492,
          22.24857521057129,
          8.696053504943848,
          11.018199920654297,
          22.657255172729492,
          22.3868350982666,
          23.265365600585938,
          10.620898246765137,
          2.9404680728912354,
          15.220104217529297,
          36.484527587890625,
          24.9151611328125,
          11.34484577178955,
          8.434793472290039,
          36.32484817504883,
          22.163753509521484,
          21.827917098999023,
          12.022989273071289,
          23.265430450439453,
          5.201752662658691,
          21.979415893554688,
          20.77447509765625,
          10.824676513671875,
          13.796401977539062,
          23.695337295532227,
          20.85840606689453,
          10.686361312866211,
          2.9404680728912354,
          15.228330612182617,
          35.836124420166016,
          22.541751861572266,
          21.38016700744629,
          -1.809119701385498,
          20.752336502075195,
          14.709104537963867,
          21.54764747619629,
          21.34766387939453,
          8.754411697387695,
          11.018637657165527,
          22.082563400268555,
          21.75458335876465,
          7.756499767303467,
          25.967205047607422,
          7.620645999908447,
          27.027122497558594,
          6.455987453460693,
          13.695393562316895,
          5.691404342651367,
          -5.844054698944092,
          35.588478088378906,
          24.815153121948242,
          8.077533721923828,
          19.381694793701172,
          -1.8819233179092407,
          15.161248207092285,
          34.80410385131836,
          18.910247802734375,
          -8.40746021270752,
          -0.9380398988723755,
          20.285594940185547,
          10.45991325378418,
          13.282411575317383,
          37.381351470947266,
          18.911678314208984,
          -8.407759666442871,
          -0.9380398988723755,
          20.440092086791992,
          10.009453773498535,
          22.387073516845703,
          21.12478256225586,
          7.477197170257568,
          14.217207908630371,
          34.81468963623047,
          22.073623657226562,
          20.450307846069336,
          9.047494888305664,
          5.691657543182373,
          -5.79845666885376,
          25.894485473632812,
          12.203365325927734,
          20.3476619720459,
          25.41143035888672,
          2.9404680728912354,
          16.009830474853516,
          21.08704376220703,
          12.921318054199219,
          24.891576766967773,
          2.9404680728912354,
          7.6814422607421875,
          13.314352035522461,
          5.691404342651367,
          -6.032545566558838,
          35.16611862182617,
          28.81719207763672,
          21.851856231689453,
          20.808019638061523,
          6.7307820320129395,
          8.259440422058105,
          5.691404342651367,
          -6.27427864074707,
          37.134849548339844,
          19.343156814575195,
          20.450307846069336,
          9.797024726867676,
          2.315197706222534,
          25.087116241455078,
          8.949710845947266,
          3.4073853492736816,
          35.27373504638672,
          21.503067016601562,
          21.552244186401367,
          10.68303394317627,
          11.01819896697998,
          13.174885749816895,
          36.59990310668945,
          26.17267608642578,
          10.805902481079102,
          15.142674446105957,
          35.34421920776367,
          24.02541732788086,
          22.326759338378906,
          11.555522918701172,
          2.315197706222534,
          5.139721393585205,
          36.04875183105469,
          19.93904685974121,
          13.550609588623047,
          16.204362869262695,
          29.181821823120117,
          28.894041061401367,
          7.550064563751221,
          14.311715126037598,
          28.720417022705078,
          16.187641143798828,
          -1.6367204189300537,
          16.88823127746582
         ],
         "yaxis": "y"
        }
       ],
       "layout": {
        "coloraxis": {
         "colorbar": {
          "title": {
           "text": "cluster"
          }
         },
         "colorscale": [
          [
           0,
           "#0d0887"
          ],
          [
           0.1111111111111111,
           "#46039f"
          ],
          [
           0.2222222222222222,
           "#7201a8"
          ],
          [
           0.3333333333333333,
           "#9c179e"
          ],
          [
           0.4444444444444444,
           "#bd3786"
          ],
          [
           0.5555555555555556,
           "#d8576b"
          ],
          [
           0.6666666666666666,
           "#ed7953"
          ],
          [
           0.7777777777777778,
           "#fb9f3a"
          ],
          [
           0.8888888888888888,
           "#fdca26"
          ],
          [
           1,
           "#f0f921"
          ]
         ]
        },
        "legend": {
         "tracegroupgap": 0
        },
        "margin": {
         "t": 60
        },
        "template": {
         "data": {
          "bar": [
           {
            "error_x": {
             "color": "#2a3f5f"
            },
            "error_y": {
             "color": "#2a3f5f"
            },
            "marker": {
             "line": {
              "color": "#E5ECF6",
              "width": 0.5
             },
             "pattern": {
              "fillmode": "overlay",
              "size": 10,
              "solidity": 0.2
             }
            },
            "type": "bar"
           }
          ],
          "barpolar": [
           {
            "marker": {
             "line": {
              "color": "#E5ECF6",
              "width": 0.5
             },
             "pattern": {
              "fillmode": "overlay",
              "size": 10,
              "solidity": 0.2
             }
            },
            "type": "barpolar"
           }
          ],
          "carpet": [
           {
            "aaxis": {
             "endlinecolor": "#2a3f5f",
             "gridcolor": "white",
             "linecolor": "white",
             "minorgridcolor": "white",
             "startlinecolor": "#2a3f5f"
            },
            "baxis": {
             "endlinecolor": "#2a3f5f",
             "gridcolor": "white",
             "linecolor": "white",
             "minorgridcolor": "white",
             "startlinecolor": "#2a3f5f"
            },
            "type": "carpet"
           }
          ],
          "choropleth": [
           {
            "colorbar": {
             "outlinewidth": 0,
             "ticks": ""
            },
            "type": "choropleth"
           }
          ],
          "contour": [
           {
            "colorbar": {
             "outlinewidth": 0,
             "ticks": ""
            },
            "colorscale": [
             [
              0,
              "#0d0887"
             ],
             [
              0.1111111111111111,
              "#46039f"
             ],
             [
              0.2222222222222222,
              "#7201a8"
             ],
             [
              0.3333333333333333,
              "#9c179e"
             ],
             [
              0.4444444444444444,
              "#bd3786"
             ],
             [
              0.5555555555555556,
              "#d8576b"
             ],
             [
              0.6666666666666666,
              "#ed7953"
             ],
             [
              0.7777777777777778,
              "#fb9f3a"
             ],
             [
              0.8888888888888888,
              "#fdca26"
             ],
             [
              1,
              "#f0f921"
             ]
            ],
            "type": "contour"
           }
          ],
          "contourcarpet": [
           {
            "colorbar": {
             "outlinewidth": 0,
             "ticks": ""
            },
            "type": "contourcarpet"
           }
          ],
          "heatmap": [
           {
            "colorbar": {
             "outlinewidth": 0,
             "ticks": ""
            },
            "colorscale": [
             [
              0,
              "#0d0887"
             ],
             [
              0.1111111111111111,
              "#46039f"
             ],
             [
              0.2222222222222222,
              "#7201a8"
             ],
             [
              0.3333333333333333,
              "#9c179e"
             ],
             [
              0.4444444444444444,
              "#bd3786"
             ],
             [
              0.5555555555555556,
              "#d8576b"
             ],
             [
              0.6666666666666666,
              "#ed7953"
             ],
             [
              0.7777777777777778,
              "#fb9f3a"
             ],
             [
              0.8888888888888888,
              "#fdca26"
             ],
             [
              1,
              "#f0f921"
             ]
            ],
            "type": "heatmap"
           }
          ],
          "heatmapgl": [
           {
            "colorbar": {
             "outlinewidth": 0,
             "ticks": ""
            },
            "colorscale": [
             [
              0,
              "#0d0887"
             ],
             [
              0.1111111111111111,
              "#46039f"
             ],
             [
              0.2222222222222222,
              "#7201a8"
             ],
             [
              0.3333333333333333,
              "#9c179e"
             ],
             [
              0.4444444444444444,
              "#bd3786"
             ],
             [
              0.5555555555555556,
              "#d8576b"
             ],
             [
              0.6666666666666666,
              "#ed7953"
             ],
             [
              0.7777777777777778,
              "#fb9f3a"
             ],
             [
              0.8888888888888888,
              "#fdca26"
             ],
             [
              1,
              "#f0f921"
             ]
            ],
            "type": "heatmapgl"
           }
          ],
          "histogram": [
           {
            "marker": {
             "pattern": {
              "fillmode": "overlay",
              "size": 10,
              "solidity": 0.2
             }
            },
            "type": "histogram"
           }
          ],
          "histogram2d": [
           {
            "colorbar": {
             "outlinewidth": 0,
             "ticks": ""
            },
            "colorscale": [
             [
              0,
              "#0d0887"
             ],
             [
              0.1111111111111111,
              "#46039f"
             ],
             [
              0.2222222222222222,
              "#7201a8"
             ],
             [
              0.3333333333333333,
              "#9c179e"
             ],
             [
              0.4444444444444444,
              "#bd3786"
             ],
             [
              0.5555555555555556,
              "#d8576b"
             ],
             [
              0.6666666666666666,
              "#ed7953"
             ],
             [
              0.7777777777777778,
              "#fb9f3a"
             ],
             [
              0.8888888888888888,
              "#fdca26"
             ],
             [
              1,
              "#f0f921"
             ]
            ],
            "type": "histogram2d"
           }
          ],
          "histogram2dcontour": [
           {
            "colorbar": {
             "outlinewidth": 0,
             "ticks": ""
            },
            "colorscale": [
             [
              0,
              "#0d0887"
             ],
             [
              0.1111111111111111,
              "#46039f"
             ],
             [
              0.2222222222222222,
              "#7201a8"
             ],
             [
              0.3333333333333333,
              "#9c179e"
             ],
             [
              0.4444444444444444,
              "#bd3786"
             ],
             [
              0.5555555555555556,
              "#d8576b"
             ],
             [
              0.6666666666666666,
              "#ed7953"
             ],
             [
              0.7777777777777778,
              "#fb9f3a"
             ],
             [
              0.8888888888888888,
              "#fdca26"
             ],
             [
              1,
              "#f0f921"
             ]
            ],
            "type": "histogram2dcontour"
           }
          ],
          "mesh3d": [
           {
            "colorbar": {
             "outlinewidth": 0,
             "ticks": ""
            },
            "type": "mesh3d"
           }
          ],
          "parcoords": [
           {
            "line": {
             "colorbar": {
              "outlinewidth": 0,
              "ticks": ""
             }
            },
            "type": "parcoords"
           }
          ],
          "pie": [
           {
            "automargin": true,
            "type": "pie"
           }
          ],
          "scatter": [
           {
            "fillpattern": {
             "fillmode": "overlay",
             "size": 10,
             "solidity": 0.2
            },
            "type": "scatter"
           }
          ],
          "scatter3d": [
           {
            "line": {
             "colorbar": {
              "outlinewidth": 0,
              "ticks": ""
             }
            },
            "marker": {
             "colorbar": {
              "outlinewidth": 0,
              "ticks": ""
             }
            },
            "type": "scatter3d"
           }
          ],
          "scattercarpet": [
           {
            "marker": {
             "colorbar": {
              "outlinewidth": 0,
              "ticks": ""
             }
            },
            "type": "scattercarpet"
           }
          ],
          "scattergeo": [
           {
            "marker": {
             "colorbar": {
              "outlinewidth": 0,
              "ticks": ""
             }
            },
            "type": "scattergeo"
           }
          ],
          "scattergl": [
           {
            "marker": {
             "colorbar": {
              "outlinewidth": 0,
              "ticks": ""
             }
            },
            "type": "scattergl"
           }
          ],
          "scattermapbox": [
           {
            "marker": {
             "colorbar": {
              "outlinewidth": 0,
              "ticks": ""
             }
            },
            "type": "scattermapbox"
           }
          ],
          "scatterpolar": [
           {
            "marker": {
             "colorbar": {
              "outlinewidth": 0,
              "ticks": ""
             }
            },
            "type": "scatterpolar"
           }
          ],
          "scatterpolargl": [
           {
            "marker": {
             "colorbar": {
              "outlinewidth": 0,
              "ticks": ""
             }
            },
            "type": "scatterpolargl"
           }
          ],
          "scatterternary": [
           {
            "marker": {
             "colorbar": {
              "outlinewidth": 0,
              "ticks": ""
             }
            },
            "type": "scatterternary"
           }
          ],
          "surface": [
           {
            "colorbar": {
             "outlinewidth": 0,
             "ticks": ""
            },
            "colorscale": [
             [
              0,
              "#0d0887"
             ],
             [
              0.1111111111111111,
              "#46039f"
             ],
             [
              0.2222222222222222,
              "#7201a8"
             ],
             [
              0.3333333333333333,
              "#9c179e"
             ],
             [
              0.4444444444444444,
              "#bd3786"
             ],
             [
              0.5555555555555556,
              "#d8576b"
             ],
             [
              0.6666666666666666,
              "#ed7953"
             ],
             [
              0.7777777777777778,
              "#fb9f3a"
             ],
             [
              0.8888888888888888,
              "#fdca26"
             ],
             [
              1,
              "#f0f921"
             ]
            ],
            "type": "surface"
           }
          ],
          "table": [
           {
            "cells": {
             "fill": {
              "color": "#EBF0F8"
             },
             "line": {
              "color": "white"
             }
            },
            "header": {
             "fill": {
              "color": "#C8D4E3"
             },
             "line": {
              "color": "white"
             }
            },
            "type": "table"
           }
          ]
         },
         "layout": {
          "annotationdefaults": {
           "arrowcolor": "#2a3f5f",
           "arrowhead": 0,
           "arrowwidth": 1
          },
          "autotypenumbers": "strict",
          "coloraxis": {
           "colorbar": {
            "outlinewidth": 0,
            "ticks": ""
           }
          },
          "colorscale": {
           "diverging": [
            [
             0,
             "#8e0152"
            ],
            [
             0.1,
             "#c51b7d"
            ],
            [
             0.2,
             "#de77ae"
            ],
            [
             0.3,
             "#f1b6da"
            ],
            [
             0.4,
             "#fde0ef"
            ],
            [
             0.5,
             "#f7f7f7"
            ],
            [
             0.6,
             "#e6f5d0"
            ],
            [
             0.7,
             "#b8e186"
            ],
            [
             0.8,
             "#7fbc41"
            ],
            [
             0.9,
             "#4d9221"
            ],
            [
             1,
             "#276419"
            ]
           ],
           "sequential": [
            [
             0,
             "#0d0887"
            ],
            [
             0.1111111111111111,
             "#46039f"
            ],
            [
             0.2222222222222222,
             "#7201a8"
            ],
            [
             0.3333333333333333,
             "#9c179e"
            ],
            [
             0.4444444444444444,
             "#bd3786"
            ],
            [
             0.5555555555555556,
             "#d8576b"
            ],
            [
             0.6666666666666666,
             "#ed7953"
            ],
            [
             0.7777777777777778,
             "#fb9f3a"
            ],
            [
             0.8888888888888888,
             "#fdca26"
            ],
            [
             1,
             "#f0f921"
            ]
           ],
           "sequentialminus": [
            [
             0,
             "#0d0887"
            ],
            [
             0.1111111111111111,
             "#46039f"
            ],
            [
             0.2222222222222222,
             "#7201a8"
            ],
            [
             0.3333333333333333,
             "#9c179e"
            ],
            [
             0.4444444444444444,
             "#bd3786"
            ],
            [
             0.5555555555555556,
             "#d8576b"
            ],
            [
             0.6666666666666666,
             "#ed7953"
            ],
            [
             0.7777777777777778,
             "#fb9f3a"
            ],
            [
             0.8888888888888888,
             "#fdca26"
            ],
            [
             1,
             "#f0f921"
            ]
           ]
          },
          "colorway": [
           "#636efa",
           "#EF553B",
           "#00cc96",
           "#ab63fa",
           "#FFA15A",
           "#19d3f3",
           "#FF6692",
           "#B6E880",
           "#FF97FF",
           "#FECB52"
          ],
          "font": {
           "color": "#2a3f5f"
          },
          "geo": {
           "bgcolor": "white",
           "lakecolor": "white",
           "landcolor": "#E5ECF6",
           "showlakes": true,
           "showland": true,
           "subunitcolor": "white"
          },
          "hoverlabel": {
           "align": "left"
          },
          "hovermode": "closest",
          "mapbox": {
           "style": "light"
          },
          "paper_bgcolor": "white",
          "plot_bgcolor": "#E5ECF6",
          "polar": {
           "angularaxis": {
            "gridcolor": "white",
            "linecolor": "white",
            "ticks": ""
           },
           "bgcolor": "#E5ECF6",
           "radialaxis": {
            "gridcolor": "white",
            "linecolor": "white",
            "ticks": ""
           }
          },
          "scene": {
           "xaxis": {
            "backgroundcolor": "#E5ECF6",
            "gridcolor": "white",
            "gridwidth": 2,
            "linecolor": "white",
            "showbackground": true,
            "ticks": "",
            "zerolinecolor": "white"
           },
           "yaxis": {
            "backgroundcolor": "#E5ECF6",
            "gridcolor": "white",
            "gridwidth": 2,
            "linecolor": "white",
            "showbackground": true,
            "ticks": "",
            "zerolinecolor": "white"
           },
           "zaxis": {
            "backgroundcolor": "#E5ECF6",
            "gridcolor": "white",
            "gridwidth": 2,
            "linecolor": "white",
            "showbackground": true,
            "ticks": "",
            "zerolinecolor": "white"
           }
          },
          "shapedefaults": {
           "line": {
            "color": "#2a3f5f"
           }
          },
          "ternary": {
           "aaxis": {
            "gridcolor": "white",
            "linecolor": "white",
            "ticks": ""
           },
           "baxis": {
            "gridcolor": "white",
            "linecolor": "white",
            "ticks": ""
           },
           "bgcolor": "#E5ECF6",
           "caxis": {
            "gridcolor": "white",
            "linecolor": "white",
            "ticks": ""
           }
          },
          "title": {
           "x": 0.05
          },
          "xaxis": {
           "automargin": true,
           "gridcolor": "white",
           "linecolor": "white",
           "ticks": "",
           "title": {
            "standoff": 15
           },
           "zerolinecolor": "white",
           "zerolinewidth": 2
          },
          "yaxis": {
           "automargin": true,
           "gridcolor": "white",
           "linecolor": "white",
           "ticks": "",
           "title": {
            "standoff": 15
           },
           "zerolinecolor": "white",
           "zerolinewidth": 2
          }
         }
        },
        "xaxis": {
         "anchor": "y",
         "domain": [
          0,
          1
         ],
         "title": {
          "text": "Component 1"
         }
        },
        "yaxis": {
         "anchor": "x",
         "domain": [
          0,
          1
         ],
         "title": {
          "text": "Component 2"
         }
        }
       }
      }
     },
     "metadata": {},
     "output_type": "display_data"
    }
   ],
   "source": [
    "tsne_df = pd.DataFrame(reduced_embeddings, columns=['Component 1', 'Component 2'])\n",
    "tsne_df['text'] = clustered_dataset['Chunks']\n",
    "tsne_df['cluster'] = clustered_dataset['cluster']\n",
    "\n",
    "\n",
    "fig = px.scatter(\n",
    "    tsne_df,\n",
    "    x='Component 1',\n",
    "    y='Component 2',\n",
    "    color='cluster',\n",
    "    hover_data=['text'],\n",
    "    #color_continuous_scale=px.colors.diverging.BrBG\n",
    ")\n",
    "\n",
    "fig.show()"
   ]
  },
  {
   "cell_type": "code",
   "execution_count": 299,
   "metadata": {},
   "outputs": [],
   "source": [
    "fig.write_html(\"interactive_plot.html\")\n"
   ]
  },
  {
   "cell_type": "code",
   "execution_count": null,
   "metadata": {},
   "outputs": [],
   "source": []
  }
 ],
 "metadata": {
  "kernelspec": {
   "display_name": "nlp",
   "language": "python",
   "name": "python3"
  },
  "language_info": {
   "codemirror_mode": {
    "name": "ipython",
    "version": 3
   },
   "file_extension": ".py",
   "mimetype": "text/x-python",
   "name": "python",
   "nbconvert_exporter": "python",
   "pygments_lexer": "ipython3",
   "version": "3.9.18"
  }
 },
 "nbformat": 4,
 "nbformat_minor": 2
}
