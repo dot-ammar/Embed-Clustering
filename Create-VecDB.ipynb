{
 "cells": [
  {
   "cell_type": "code",
   "execution_count": null,
   "metadata": {},
   "outputs": [],
   "source": [
    "import chromadb\n",
    "from chromadb.utils import embedding_functions\n",
    "from pypdf import PdfReader\n",
    "from tqdm import tqdm\n",
    "import pandas as pds\n",
    "from IPython.display import clear_output\n",
    "import os\n",
    "import pandas as pd\n",
    "import wikipediaapi\n",
    "import tensorflow as tf\n",
    "import time\n",
    "\n"
   ]
  },
  {
   "cell_type": "code",
   "execution_count": null,
   "metadata": {},
   "outputs": [],
   "source": [
    "tf.config.list_physical_devices('GPU')\n"
   ]
  },
  {
   "cell_type": "code",
   "execution_count": null,
   "metadata": {},
   "outputs": [],
   "source": [
    "CHROMA_DATA_PATH = \"chroma_data/\"\n",
    "EMBED_MODEL = \"distiluse-base-multilingual-cased-v1\"\n",
    "COLLECTION_NAME = \"WW2-Languages-Wiki-Limited\"\n",
    "\n",
    "client = chromadb.PersistentClient(path=CHROMA_DATA_PATH)"
   ]
  },
  {
   "cell_type": "code",
   "execution_count": null,
   "metadata": {},
   "outputs": [],
   "source": [
    "embedding_func = embedding_functions.SentenceTransformerEmbeddingFunction(\n",
    "    model_name=EMBED_MODEL,\n",
    "    device=\"mps\"\n",
    ")"
   ]
  },
  {
   "cell_type": "code",
   "execution_count": null,
   "metadata": {},
   "outputs": [],
   "source": [
    "collection = client.create_collection(\n",
    "    name=COLLECTION_NAME,\n",
    "    embedding_function=embedding_func\n",
    ")"
   ]
  },
  {
   "cell_type": "code",
   "execution_count": null,
   "metadata": {},
   "outputs": [],
   "source": [
    "collection = client.get_collection(COLLECTION_NAME, embedding_function=embedding_func)"
   ]
  },
  {
   "cell_type": "code",
   "execution_count": null,
   "metadata": {},
   "outputs": [],
   "source": [
    "wikipedia = wikipediaapi.Wikipedia(\n",
    "    user_agent=\"Project (ValuedCustomer)\",\n",
    "    language=\"en\",\n",
    "    extract_format=wikipediaapi.ExtractFormat.WIKI,\n",
    ")"
   ]
  },
  {
   "cell_type": "code",
   "execution_count": null,
   "metadata": {},
   "outputs": [],
   "source": [
    "title = \"World War II\"\n",
    "selected_languages = [\"ar\", \"zh\", \"nl\", \"fr\", \"de\", \"it\", \"ko\", \"pl\", \"pt\", \"ru\", \"es\", \"tr\"]\n",
    "\n",
    "page = wikipedia.page(title=title)\n",
    "print(page.title, \"\\n\")\n",
    "\n",
    "\n",
    "all_languages = []\n",
    "langlinks = page.langlinks\n",
    "for k in sorted(langlinks.keys()):\n",
    "    v = langlinks[k]\n",
    "    all_languages.append(v.language)\n",
    "print(all_languages)\n",
    "print(len(all_languages))"
   ]
  },
  {
   "cell_type": "code",
   "execution_count": null,
   "metadata": {},
   "outputs": [],
   "source": [
    "df = pd.DataFrame(columns=[\"document\", \"language\"])\n",
    "\n",
    "content = page.text\n",
    "print(\"Language:\", \"en\")\n",
    "print(\"Title:\", page.title)\n",
    "for chunk in content.split(\".\"):\n",
    "    df.loc[-1] = [chunk, \"en\"]\n",
    "    df.index = df.index + 1\n",
    "    df = df.sort_index()\n",
    "\n",
    "\n",
    "for lang in tqdm(selected_languages):\n",
    "    clear_output(wait=True)\n",
    "    page_lang = page.langlinks[lang]\n",
    "    content = page_lang.text\n",
    "    print(\"Language:\", lang)\n",
    "    print(\"Title:\", page_lang.title)\n",
    "    \n",
    "    for chunk in content.split(\".\"):\n",
    "        df.loc[-1] = [chunk, lang]\n",
    "        df.index = df.index + 1\n",
    "        df = df.sort_index()\n",
    "    "
   ]
  },
  {
   "cell_type": "code",
   "execution_count": null,
   "metadata": {},
   "outputs": [],
   "source": [
    "print(\"Dataframe Shape:\", df.shape)\n",
    "print(\"Number of empty strings\", len(df[df[\"document\"].str.len() == 0]))\n",
    "print()\n",
    "\n",
    "df = df[df[\"document\"].str.len() > 45]\n",
    "\n",
    "print(\"-\" * 50)\n",
    "print(\"Aftr removing empty strings\")\n",
    "print(\"Dataframe Shape:\", df.shape)\n",
    "print(\"Number of empty strings\", len(df[df[\"document\"].str.len() == 0]))\n"
   ]
  },
  {
   "cell_type": "code",
   "execution_count": null,
   "metadata": {},
   "outputs": [],
   "source": [
    "print(\"Dataframe Shape:\", df.shape)\n",
    "\n",
    "print()\n",
    "\n",
    "print(\"Average String Length:\", df[\"document\"].str.len().mean())\n",
    "print(\"Shortest String Length:\", df[\"document\"].str.len().min())\n",
    "print(\"Longest String Length:\", df[\"document\"].str.len().max())\n",
    "\n",
    "\n",
    "\n",
    "df.head()\n"
   ]
  },
  {
   "cell_type": "code",
   "execution_count": null,
   "metadata": {},
   "outputs": [],
   "source": [
    "df.tail()\n"
   ]
  },
  {
   "cell_type": "code",
   "execution_count": null,
   "metadata": {},
   "outputs": [],
   "source": [
    "df_documents = df['document'].to_list()\n",
    "df_languages = df['language'].to_list()\n",
    "print(len(df_documents), len(df_languages))"
   ]
  },
  {
   "cell_type": "code",
   "execution_count": null,
   "metadata": {},
   "outputs": [],
   "source": [
    "collection.add(\n",
    "    documents = df_documents,\n",
    "    metadatas = [{\"language\": lang} for lang in df_languages],\n",
    "    ids=[f\"id{i}\" for i in range(len(df_documents))]\n",
    ")"
   ]
  },
  {
   "cell_type": "code",
   "execution_count": null,
   "metadata": {},
   "outputs": [],
   "source": [
    "collection.count()"
   ]
  },
  {
   "cell_type": "code",
   "execution_count": null,
   "metadata": {},
   "outputs": [],
   "source": [
    "collection.peek(2)"
   ]
  },
  {
   "cell_type": "code",
   "execution_count": null,
   "metadata": {},
   "outputs": [],
   "source": [
    "query_results = collection.query(\n",
    "    query_texts=[\"\"],\n",
    "    n_results=1\n",
    ")\n",
    "query_results\n"
   ]
  },
  {
   "cell_type": "code",
   "execution_count": null,
   "metadata": {},
   "outputs": [],
   "source": [
    "len(collection.get(ids='id0', include=['embeddings'])['embeddings'][0])"
   ]
  },
  {
   "cell_type": "code",
   "execution_count": null,
   "metadata": {},
   "outputs": [],
   "source": []
  }
 ],
 "metadata": {
  "kernelspec": {
   "display_name": "nlp",
   "language": "python",
   "name": "python3"
  },
  "language_info": {
   "codemirror_mode": {
    "name": "ipython",
    "version": 3
   },
   "file_extension": ".py",
   "mimetype": "text/x-python",
   "name": "python",
   "nbconvert_exporter": "python",
   "pygments_lexer": "ipython3",
   "version": "3.10.12"
  }
 },
 "nbformat": 4,
 "nbformat_minor": 2
}
